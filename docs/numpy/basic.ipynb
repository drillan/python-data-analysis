{
 "cells": [
  {
   "cell_type": "markdown",
   "id": "88a8f30a",
   "metadata": {},
   "source": [
    "[![Open In Colab](https://colab.research.google.com/assets/colab-badge.svg)](http://colab.research.google.com/github/drillan/python-data-analysis/blob/main/docs/numpy/basic.ipynb)"
   ]
  },
  {
   "cell_type": "markdown",
   "id": "6ed4673d",
   "metadata": {},
   "source": [
    "# NumPy"
   ]
  },
  {
   "cell_type": "markdown",
   "id": "d006fe2c",
   "metadata": {},
   "source": [
    "NumPyは数値演算に特化したPythonパッケージです。Pythonを利用しているほぼすべてのデータサイエンティストがNumPyを直接的（数値演算、行列演算など）・間接的（pandasやMatplotlibなどのライブラリ）に活用しています。従って、Pythonを利用して統計を学ぶうえで、NumPyの使い方やデータ構造を知ることは有益です。本節ではNumPyで最も重要なデータ型 ``ndarray`` の基本となる操作方法や演算方法を解説します。\n",
    "\n",
    "## ndarray型\n",
    "\n",
    "``ndarray`` 型は多次元の配列を扱うためのデータ型です。Python組込みのリスト型に似ていますが、次のような特徴があります。\n",
    "\n",
    "- 配列内の要素はすべて同じデータ型である\n",
    "- C言語やFORTRAN言語で実装されており、高速に演算できる\n",
    "- 多次元の要素にアクセスするためのインデックスやメソッドが用意されている\n",
    "- ブロードキャスト演算が行える\n",
    "- 関数が適用できる\n",
    "\n",
    "はじめにNumPyをインポートして ``ndarray`` オブジェクトを作成してみましょう。 ``ndarray`` オブジェクトを作成するには ``array`` クラスにリストやタプルなどを渡します。"
   ]
  },
  {
   "cell_type": "code",
   "execution_count": 1,
   "id": "b4f19c4b",
   "metadata": {},
   "outputs": [],
   "source": [
    "import numpy as np\n",
    "\n",
    "int_arr = np.array([1, 2])"
   ]
  },
  {
   "cell_type": "markdown",
   "id": "feed6c53",
   "metadata": {
    "raw_mimetype": "text/restructuredtext"
   },
   "source": [
    "オブジェクト内の要素はすべて同じデータ型であり、データ型を指定しない場合は自動的に判定されます。 ``ndarray`` オブジェクトの ``dtype`` 属性を参照するとデータ型が確認できます。"
   ]
  },
  {
   "cell_type": "code",
   "execution_count": 2,
   "id": "dd072f7b",
   "metadata": {},
   "outputs": [
    {
     "data": {
      "text/plain": [
       "dtype('int64')"
      ]
     },
     "execution_count": 2,
     "metadata": {},
     "output_type": "execute_result"
    }
   ],
   "source": [
    "int_arr.dtype"
   ]
  },
  {
   "cell_type": "markdown",
   "id": "40609152",
   "metadata": {
    "raw_mimetype": "text/restructuredtext"
   },
   "source": [
    "``ndarray`` オブジェクトの生成時にデータ型を明示する場合には、引数 ``dtype`` にデータ型を渡します。データ型の詳細は [公式ドキュメント](https://numpy.org/doc/stable/reference/generated/numpy.dtype.html) を参照してください。"
   ]
  },
  {
   "cell_type": "code",
   "execution_count": 3,
   "id": "93d11d14",
   "metadata": {},
   "outputs": [],
   "source": [
    "float_arr = np.array([1, 2], dtype=np.float32)"
   ]
  },
  {
   "cell_type": "code",
   "execution_count": 4,
   "id": "d63cf69d",
   "metadata": {},
   "outputs": [
    {
     "data": {
      "text/plain": [
       "dtype('float32')"
      ]
     },
     "execution_count": 4,
     "metadata": {},
     "output_type": "execute_result"
    }
   ],
   "source": [
    "float_arr.dtype"
   ]
  },
  {
   "cell_type": "markdown",
   "id": "1d1b3c4b",
   "metadata": {
    "raw_mimetype": "text/restructuredtext"
   },
   "source": [
    "型変換を行うには ``astype`` メソッドの引数にデータ型を渡します。"
   ]
  },
  {
   "cell_type": "code",
   "execution_count": 5,
   "id": "acf9bc88",
   "metadata": {},
   "outputs": [
    {
     "data": {
      "text/plain": [
       "array([1, 2], dtype=int32)"
      ]
     },
     "execution_count": 5,
     "metadata": {},
     "output_type": "execute_result"
    }
   ],
   "source": [
    "float_arr.astype(np.int32)"
   ]
  },
  {
   "cell_type": "markdown",
   "id": "bb01d9da",
   "metadata": {},
   "source": [
    "``astype`` メソッドの引数にはクラス名の文字列も渡せます。"
   ]
  },
  {
   "cell_type": "code",
   "execution_count": 6,
   "id": "5497b57f",
   "metadata": {},
   "outputs": [
    {
     "data": {
      "text/plain": [
       "array([1, 2], dtype=int32)"
      ]
     },
     "execution_count": 6,
     "metadata": {},
     "output_type": "execute_result"
    }
   ],
   "source": [
    "float_arr.astype(\"int32\")"
   ]
  },
  {
   "cell_type": "markdown",
   "id": "ff02dcd7",
   "metadata": {},
   "source": [
    "```{note}\n",
    "`ndarray` オブジェクトを「配列」と呼ぶ場合があります。\n",
    "```"
   ]
  },
  {
   "cell_type": "markdown",
   "id": "f07fb430",
   "metadata": {},
   "source": [
    "## 多次元配列\n",
    "\n",
    "`ndarray` 型は多次元の要素を格納できます。次のコードでは2次元の配列（ `arr_2d` ）、3次元の配列（ `arr_3d` )を生成しています。"
   ]
  },
  {
   "cell_type": "code",
   "execution_count": 7,
   "id": "c94820fb",
   "metadata": {},
   "outputs": [
    {
     "data": {
      "text/plain": [
       "array([[ 1, 10],\n",
       "       [ 2, 20],\n",
       "       [ 3, 30]])"
      ]
     },
     "execution_count": 7,
     "metadata": {},
     "output_type": "execute_result"
    }
   ],
   "source": [
    "arr_2d = np.array([[1, 10], [2, 20], [3, 30]])\n",
    "arr_2d"
   ]
  },
  {
   "cell_type": "code",
   "execution_count": 8,
   "id": "0e0813dd",
   "metadata": {},
   "outputs": [
    {
     "data": {
      "text/plain": [
       "array([[[   1,   10],\n",
       "        [   2,   20],\n",
       "        [   3,   30]],\n",
       "\n",
       "       [[ 100, 1000],\n",
       "        [ 200, 2000],\n",
       "        [ 300, 3000]]])"
      ]
     },
     "execution_count": 8,
     "metadata": {},
     "output_type": "execute_result"
    }
   ],
   "source": [
    "arr_3d = np.array(\n",
    "    [[[1, 10], [2, 20], [3, 30]], [[100, 1000], [200, 2000], [300, 3000]]]\n",
    ")\n",
    "arr_3d"
   ]
  },
  {
   "cell_type": "markdown",
   "id": "4b20fdd3",
   "metadata": {},
   "source": [
    "配列の次元数は `ndim` 属性にアクセスして確認できます。"
   ]
  },
  {
   "cell_type": "code",
   "execution_count": 9,
   "id": "193c80b7",
   "metadata": {},
   "outputs": [
    {
     "data": {
      "text/plain": [
       "2"
      ]
     },
     "execution_count": 9,
     "metadata": {},
     "output_type": "execute_result"
    }
   ],
   "source": [
    "arr_2d.ndim"
   ]
  },
  {
   "cell_type": "code",
   "execution_count": 10,
   "id": "bf437e5e",
   "metadata": {},
   "outputs": [
    {
     "data": {
      "text/plain": [
       "3"
      ]
     },
     "execution_count": 10,
     "metadata": {},
     "output_type": "execute_result"
    }
   ],
   "source": [
    "arr_3d.ndim"
   ]
  },
  {
   "cell_type": "markdown",
   "id": "64f04c9e",
   "metadata": {},
   "source": [
    "配列の形状（次元ごとの要素数）は `shape` 属性にアクセスして確認できます。"
   ]
  },
  {
   "cell_type": "code",
   "execution_count": 11,
   "id": "29ef6508",
   "metadata": {},
   "outputs": [
    {
     "data": {
      "text/plain": [
       "(3, 2)"
      ]
     },
     "execution_count": 11,
     "metadata": {},
     "output_type": "execute_result"
    }
   ],
   "source": [
    "arr_2d.shape"
   ]
  },
  {
   "cell_type": "code",
   "execution_count": 12,
   "id": "e3a3c9e2",
   "metadata": {},
   "outputs": [
    {
     "data": {
      "text/plain": [
       "(2, 3, 2)"
      ]
     },
     "execution_count": 12,
     "metadata": {},
     "output_type": "execute_result"
    }
   ],
   "source": [
    "arr_3d.shape"
   ]
  },
  {
   "cell_type": "markdown",
   "id": "090763ac",
   "metadata": {
    "raw_mimetype": "text/restructuredtext"
   },
   "source": [
    "## ndarrayオブジェクトの生成\n",
    "\n",
    "NumPyでは形状（各次元の要素数）を指定したり、特定の値や乱数で埋めた ``ndarray`` オブジェクトを生成できます。本項では ``ndarray`` オブジェクトのさまざまな生成方法を紹介します。\n",
    "\n",
    "``arange`` 関数は指定した範囲の配列を生成します。基本的な使い方はPython組込みの ``range`` 関数と同様です。引数を1つ渡した場合には渡した値が要素数となり、0から自然数が連番で割り当てられます。"
   ]
  },
  {
   "cell_type": "code",
   "execution_count": 13,
   "id": "1df78329",
   "metadata": {},
   "outputs": [
    {
     "data": {
      "text/plain": [
       "array([0, 1, 2])"
      ]
     },
     "execution_count": 13,
     "metadata": {},
     "output_type": "execute_result"
    }
   ],
   "source": [
    "np.arange(3)"
   ]
  },
  {
   "cell_type": "markdown",
   "id": "3bc02b99",
   "metadata": {
    "raw_mimetype": "text/restructuredtext"
   },
   "source": [
    "第1引数に開始位置、第2引数に終了位置（第2引数の値は含まれない）を指定すると、指定した範囲で配列を生成します。また、第3引数に増分値を指定できます。 ``range`` 関数とは異なり、 ``arange`` 関数は小数値も扱えます。"
   ]
  },
  {
   "cell_type": "code",
   "execution_count": 14,
   "id": "7b6a03be",
   "metadata": {},
   "outputs": [
    {
     "data": {
      "text/plain": [
       "array([0. , 0.5, 1. , 1.5, 2. ])"
      ]
     },
     "execution_count": 14,
     "metadata": {},
     "output_type": "execute_result"
    }
   ],
   "source": [
    "np.arange(0, 2.5, 0.5)"
   ]
  },
  {
   "cell_type": "markdown",
   "id": "74b33e44",
   "metadata": {},
   "source": [
    "`zeros` 関数では指定した要素分の配列を0で埋めて生成します。"
   ]
  },
  {
   "cell_type": "code",
   "execution_count": 15,
   "id": "4f403ae3",
   "metadata": {},
   "outputs": [
    {
     "data": {
      "text/plain": [
       "array([0., 0., 0.])"
      ]
     },
     "execution_count": 15,
     "metadata": {},
     "output_type": "execute_result"
    }
   ],
   "source": [
    "np.zeros(3)"
   ]
  },
  {
   "cell_type": "markdown",
   "id": "e02d4b98",
   "metadata": {
    "raw_mimetype": "text/restructuredtext"
   },
   "source": [
    "``ones`` 関数では1で埋めた配列を生成します。使い方は ``zeros`` 関数と同様です。要素数をリストやタプルで渡すと、多次元の配列を生成できます。次のコードでは2行2列の2次元配列を生成しています。"
   ]
  },
  {
   "cell_type": "code",
   "execution_count": 16,
   "id": "50691c7c",
   "metadata": {},
   "outputs": [
    {
     "data": {
      "text/plain": [
       "array([[1., 1.],\n",
       "       [1., 1.]])"
      ]
     },
     "execution_count": 16,
     "metadata": {},
     "output_type": "execute_result"
    }
   ],
   "source": [
    "np.ones([2, 2])"
   ]
  },
  {
   "cell_type": "markdown",
   "id": "a2c5fc7e",
   "metadata": {
    "raw_mimetype": "text/restructuredtext"
   },
   "source": [
    "``random`` モジュールにはさまざまな乱数を生成する関数が用意されています。次のコードでは連続一様分布で生成した乱数から3行3列の配列を生成しています。"
   ]
  },
  {
   "cell_type": "code",
   "execution_count": 17,
   "id": "913aa912",
   "metadata": {},
   "outputs": [
    {
     "data": {
      "text/plain": [
       "array([[0.51182162, 0.9504637 , 0.14415961],\n",
       "       [0.94864945, 0.31183145, 0.42332645],\n",
       "       [0.82770259, 0.40919914, 0.54959369]])"
      ]
     },
     "execution_count": 17,
     "metadata": {},
     "output_type": "execute_result"
    }
   ],
   "source": [
    "rng = np.random.default_rng(1)\n",
    "rng.random(size=(3, 3))"
   ]
  },
  {
   "cell_type": "raw",
   "id": "696f4665",
   "metadata": {
    "raw_mimetype": "text/restructuredtext"
   },
   "source": [
    ".. note::\n",
    "\n",
    "   ``random.default_rng`` 関数の引数を渡すことで乱数を固定します。出力結果を再現するためにこの関数を実行しています。"
   ]
  },
  {
   "cell_type": "markdown",
   "id": "5572651a",
   "metadata": {
    "raw_mimetype": "text/restructuredtext"
   },
   "source": [
    "## 要素へのアクセス\n",
    "\n",
    "``ndarray`` オブジェクトはリスト型と同様に要素の参照や代入が行えます。インデックスが多次元のデータに対応しており、組込みのリスト型などと比較してより柔軟に扱えます。本項では次の2つの配列にアクセスします。"
   ]
  },
  {
   "cell_type": "code",
   "execution_count": 18,
   "id": "c9301f7b",
   "metadata": {},
   "outputs": [
    {
     "data": {
      "text/plain": [
       "array([1, 2, 3])"
      ]
     },
     "execution_count": 18,
     "metadata": {},
     "output_type": "execute_result"
    }
   ],
   "source": [
    "arr1 = np.arange(1, 4)\n",
    "arr1"
   ]
  },
  {
   "cell_type": "markdown",
   "id": "8cfd6165",
   "metadata": {
    "raw_mimetype": "text/restructuredtext"
   },
   "source": [
    "``ndarray`` オブジェクトの ``reshape`` メソッドでは配列の形状を変更できます。次のコードでは12個の要素を持つ1次元配列を4行3列の2次元配列に変換しています。"
   ]
  },
  {
   "cell_type": "code",
   "execution_count": 19,
   "id": "02997abb",
   "metadata": {},
   "outputs": [
    {
     "data": {
      "text/plain": [
       "array([[ 1,  2,  3],\n",
       "       [ 4,  5,  6],\n",
       "       [ 7,  8,  9],\n",
       "       [10, 11, 12]])"
      ]
     },
     "execution_count": 19,
     "metadata": {},
     "output_type": "execute_result"
    }
   ],
   "source": [
    "arr2 = np.arange(1, 13).reshape(4, 3)\n",
    "arr2"
   ]
  },
  {
   "cell_type": "markdown",
   "id": "fcb31ea7",
   "metadata": {
    "raw_mimetype": "text/restructuredtext"
   },
   "source": [
    "要素を参照するには添字に位置を指定します。"
   ]
  },
  {
   "cell_type": "code",
   "execution_count": 20,
   "id": "b4780bb0",
   "metadata": {},
   "outputs": [
    {
     "data": {
      "text/plain": [
       "1"
      ]
     },
     "execution_count": 20,
     "metadata": {},
     "output_type": "execute_result"
    }
   ],
   "source": [
    "arr1[0]"
   ]
  },
  {
   "cell_type": "markdown",
   "id": "b3b0d7b5",
   "metadata": {
    "raw_mimetype": "text/restructuredtext"
   },
   "source": [
    "添字にはスライス記法が利用できます。次のコードでは2番目から3番目の位置の要素を参照しています。"
   ]
  },
  {
   "cell_type": "code",
   "execution_count": 21,
   "id": "6e7c67bc",
   "metadata": {},
   "outputs": [
    {
     "data": {
      "text/plain": [
       "array([2, 3])"
      ]
     },
     "execution_count": 21,
     "metadata": {},
     "output_type": "execute_result"
    }
   ],
   "source": [
    "arr1[1:3]"
   ]
  },
  {
   "cell_type": "markdown",
   "id": "07fc9b29",
   "metadata": {
    "raw_mimetype": "text/restructuredtext"
   },
   "source": [
    "2次元の配列の場合、1次元の配列の各要素が1次元の配列をもつ構造になります。2次元の配列の位置を添字で指定すると、指定した位置の行が参照されます。"
   ]
  },
  {
   "cell_type": "code",
   "execution_count": 22,
   "id": "75c334ed",
   "metadata": {},
   "outputs": [
    {
     "data": {
      "text/plain": [
       "array([1, 2, 3])"
      ]
     },
     "execution_count": 22,
     "metadata": {},
     "output_type": "execute_result"
    }
   ],
   "source": [
    "arr2[0]"
   ]
  },
  {
   "cell_type": "markdown",
   "id": "71cb5483",
   "metadata": {
    "raw_mimetype": "text/restructuredtext"
   },
   "source": [
    "添字には各次元の位置をカンマで区切って指定できます。次のコードでは2行3列目の要素を参照できます。"
   ]
  },
  {
   "cell_type": "code",
   "execution_count": 23,
   "id": "66bffb13",
   "metadata": {},
   "outputs": [
    {
     "data": {
      "text/plain": [
       "6"
      ]
     },
     "execution_count": 23,
     "metadata": {},
     "output_type": "execute_result"
    }
   ],
   "source": [
    "arr2[1, 2]"
   ]
  },
  {
   "cell_type": "markdown",
   "id": "30db068c",
   "metadata": {
    "raw_mimetype": "text/restructuredtext"
   },
   "source": [
    "特定の次元の要素をスライス記法で参照もできます。次のコードでは1行目2〜3列目の要素を参照しています。"
   ]
  },
  {
   "cell_type": "code",
   "execution_count": 24,
   "id": "0e4c2715",
   "metadata": {},
   "outputs": [
    {
     "data": {
      "text/plain": [
       "array([2, 3])"
      ]
     },
     "execution_count": 24,
     "metadata": {},
     "output_type": "execute_result"
    }
   ],
   "source": [
    "arr2[0, 1:3]"
   ]
  },
  {
   "cell_type": "markdown",
   "id": "1ab158ed",
   "metadata": {},
   "source": [
    "リスト型と同様に添字に指定した位置に値を代入できます。"
   ]
  },
  {
   "cell_type": "code",
   "execution_count": 25,
   "id": "4703bef0",
   "metadata": {},
   "outputs": [
    {
     "data": {
      "text/plain": [
       "array([ 1, 10,  3])"
      ]
     },
     "execution_count": 25,
     "metadata": {},
     "output_type": "execute_result"
    }
   ],
   "source": [
    "arr1[1] = 10\n",
    "arr1"
   ]
  },
  {
   "cell_type": "code",
   "execution_count": 26,
   "id": "7aa523d5",
   "metadata": {},
   "outputs": [
    {
     "data": {
      "text/plain": [
       "array([[  1,   2,   3],\n",
       "       [100, 100,   6],\n",
       "       [  7,   8,   9],\n",
       "       [ 10,  11,  12]])"
      ]
     },
     "execution_count": 26,
     "metadata": {},
     "output_type": "execute_result"
    }
   ],
   "source": [
    "arr2[1, :2] = 100\n",
    "arr2"
   ]
  },
  {
   "cell_type": "markdown",
   "id": "674dd015",
   "metadata": {
    "raw_mimetype": "text/restructuredtext"
   },
   "source": [
    "## ブロードキャスト\n",
    "\n",
    "複数の要素を数値演算するケースを考えてみます。さまざまな方法がありますが、例としてPythonの組み込みのリストを次のコードのようにfor文で繰り返して処理する方法が挙げられます。"
   ]
  },
  {
   "cell_type": "code",
   "execution_count": 27,
   "id": "2655e8d8",
   "metadata": {},
   "outputs": [
    {
     "data": {
      "text/plain": [
       "[2, 3, 4]"
      ]
     },
     "execution_count": 27,
     "metadata": {},
     "output_type": "execute_result"
    }
   ],
   "source": [
    "li = [1, 2, 3]\n",
    "[x + 1 for x in li]"
   ]
  },
  {
   "cell_type": "markdown",
   "id": "9c319516",
   "metadata": {
    "raw_mimetype": "text/restructuredtext"
   },
   "source": [
    "このように、組込み型で数値演算を行うには冗長となり、処理速度にも課題があります。 ``ndarray`` オブジェクトではブロードキャスト演算が行えます。次のコードのように配列に対して演算子を利用した演算ができ、高速に処理できます。 "
   ]
  },
  {
   "cell_type": "code",
   "execution_count": 28,
   "id": "41cb9d6e",
   "metadata": {},
   "outputs": [
    {
     "data": {
      "text/plain": [
       "array([2, 3, 4])"
      ]
     },
     "execution_count": 28,
     "metadata": {},
     "output_type": "execute_result"
    }
   ],
   "source": [
    "arr1 = np.array([1, 2, 3])\n",
    "arr1 + 1"
   ]
  },
  {
   "cell_type": "markdown",
   "id": "c458a173",
   "metadata": {
    "raw_mimetype": "text/restructuredtext"
   },
   "source": [
    "次のコードのように配列同士の演算も演算子が利用できます。"
   ]
  },
  {
   "cell_type": "code",
   "execution_count": 29,
   "id": "9b852a3e",
   "metadata": {},
   "outputs": [
    {
     "data": {
      "text/plain": [
       "array([[ 1,  2,  3],\n",
       "       [ 4,  5,  6],\n",
       "       [ 7,  8,  9],\n",
       "       [10, 11, 12]])"
      ]
     },
     "execution_count": 29,
     "metadata": {},
     "output_type": "execute_result"
    }
   ],
   "source": [
    "arr2 = np.arange(1, 13).reshape(4, 3)\n",
    "arr2"
   ]
  },
  {
   "cell_type": "code",
   "execution_count": 30,
   "id": "29cdc8e8",
   "metadata": {},
   "outputs": [
    {
     "data": {
      "text/plain": [
       "array([[ 2,  4,  6],\n",
       "       [ 5,  7,  9],\n",
       "       [ 8, 10, 12],\n",
       "       [11, 13, 15]])"
      ]
     },
     "execution_count": 30,
     "metadata": {},
     "output_type": "execute_result"
    }
   ],
   "source": [
    "arr1 + arr2"
   ]
  },
  {
   "cell_type": "markdown",
   "id": "e3f9740f",
   "metadata": {
    "raw_mimetype": "text/restructuredtext"
   },
   "source": [
    "## 関数の適用\n",
    "\n",
    "``ndarray`` オブジェクトの全ての要素に対して関数を適用する仕組みがあります。このような関数をユニバーサル関数または略してufuncなどと表記されます。\n",
    "\n",
    "> [Universal functions > Math operations](https://numpy.org/doc/stable/reference/ufuncs.html#math-operations)\n",
    "\n",
    "次のコードでは ``power`` 関数を利用して配列のべき乗を算出しています。"
   ]
  },
  {
   "cell_type": "code",
   "execution_count": 31,
   "id": "18a2849f",
   "metadata": {},
   "outputs": [
    {
     "data": {
      "text/plain": [
       "array([[     1,      4,     27],\n",
       "       [     1,     32,    729],\n",
       "       [     1,    256,  19683],\n",
       "       [     1,   2048, 531441]])"
      ]
     },
     "execution_count": 31,
     "metadata": {},
     "output_type": "execute_result"
    }
   ],
   "source": [
    "np.power(arr1, arr2)"
   ]
  },
  {
   "cell_type": "markdown",
   "id": "54ce47da",
   "metadata": {
    "raw_mimetype": "text/restructuredtext"
   },
   "source": [
    "``ndarray`` オブジェクトにはNumPyの関数のほか、組込み関数やユーザが作成した関数を適用できます。次のコードでは組込みの ``abs`` 関数を利用して絶対値を算出しています。この ``abs`` 関数のように単一の値（スカラ型）を引数とする関数を適用した場合には、それぞれの要素に対して関数が適用されます。"
   ]
  },
  {
   "cell_type": "code",
   "execution_count": 32,
   "id": "6c8ac1fe",
   "metadata": {},
   "outputs": [
    {
     "data": {
      "text/plain": [
       "array([1, 2, 3])"
      ]
     },
     "execution_count": 32,
     "metadata": {},
     "output_type": "execute_result"
    }
   ],
   "source": [
    "abs(np.array([1, -2, 3]))"
   ]
  },
  {
   "cell_type": "markdown",
   "id": "e12cd273",
   "metadata": {
    "raw_mimetype": "text/restructuredtext"
   },
   "source": [
    "次の組込みの ``sum`` 関数のように複数の値（イテラブル）を引数とする関数を適用した場合には、すべてのデータに対して関数が適用されます。"
   ]
  },
  {
   "cell_type": "code",
   "execution_count": 33,
   "id": "e1982c45",
   "metadata": {},
   "outputs": [
    {
     "data": {
      "text/plain": [
       "6"
      ]
     },
     "execution_count": 33,
     "metadata": {},
     "output_type": "execute_result"
    }
   ],
   "source": [
    "sum(np.array([1, 2, 3]))"
   ]
  },
  {
   "cell_type": "markdown",
   "id": "c7ed95d3",
   "metadata": {},
   "source": [
    "次のコードでは `my_func` という関数を作成し、配列に適用しています。"
   ]
  },
  {
   "cell_type": "code",
   "execution_count": 34,
   "id": "70ab4c76",
   "metadata": {},
   "outputs": [
    {
     "data": {
      "text/plain": [
       "array([ 2,  5, 10])"
      ]
     },
     "execution_count": 34,
     "metadata": {},
     "output_type": "execute_result"
    }
   ],
   "source": [
    "def my_func(x):\n",
    "    return x ** 2 + 1\n",
    "\n",
    "\n",
    "my_func(arr1)"
   ]
  },
  {
   "cell_type": "markdown",
   "id": "2561a7f6",
   "metadata": {},
   "source": [
    "## メソッドの適用\n",
    "\n",
    "`ndarray` 型には配列を操作するさまざまなメソッドが用意されています。代表的なメソッドを次に挙げます。\n",
    "\n",
    "- 記述統計\n",
    "  - `sum` , `mean` , `std`\n",
    "- 形状の操作\n",
    "  - `reshape` , `flatten`\n",
    "- ブール演算\n",
    "  - `all` , `any`"
   ]
  },
  {
   "cell_type": "markdown",
   "id": "bcc45a6d",
   "metadata": {},
   "source": [
    "次のコードでは `mean` メソッドを実行して配列の算術平均値を算出しています。"
   ]
  },
  {
   "cell_type": "code",
   "execution_count": 35,
   "id": "8fc00481",
   "metadata": {},
   "outputs": [
    {
     "data": {
      "text/plain": [
       "array([1, 2, 3])"
      ]
     },
     "execution_count": 35,
     "metadata": {},
     "output_type": "execute_result"
    }
   ],
   "source": [
    "arr1"
   ]
  },
  {
   "cell_type": "code",
   "execution_count": 36,
   "id": "4599dd37",
   "metadata": {},
   "outputs": [
    {
     "data": {
      "text/plain": [
       "2.0"
      ]
     },
     "execution_count": 36,
     "metadata": {},
     "output_type": "execute_result"
    }
   ],
   "source": [
    "arr1.mean()"
   ]
  },
  {
   "cell_type": "markdown",
   "id": "40064d4f",
   "metadata": {},
   "source": [
    "次のコードでは `sum` メソッドを実行して配列の合計値を算出しています。"
   ]
  },
  {
   "cell_type": "code",
   "execution_count": 37,
   "id": "54ad8857",
   "metadata": {},
   "outputs": [
    {
     "data": {
      "text/plain": [
       "array([[ 1,  2,  3],\n",
       "       [ 4,  5,  6],\n",
       "       [ 7,  8,  9],\n",
       "       [10, 11, 12]])"
      ]
     },
     "execution_count": 37,
     "metadata": {},
     "output_type": "execute_result"
    }
   ],
   "source": [
    "arr2"
   ]
  },
  {
   "cell_type": "code",
   "execution_count": 38,
   "id": "1b6e0c7e",
   "metadata": {},
   "outputs": [
    {
     "data": {
      "text/plain": [
       "78"
      ]
     },
     "execution_count": 38,
     "metadata": {},
     "output_type": "execute_result"
    }
   ],
   "source": [
    "arr2.sum()"
   ]
  },
  {
   "cell_type": "markdown",
   "id": "8baf3df5",
   "metadata": {},
   "source": [
    "次のコードではブール演算をしています。   \n",
    "`all` メソッドはすべての要素が `True` の場合は `True` を返し、それ以外は `False` を返します。  \n",
    "`any` メソッドはいずれかの要素が `True` の場合は `True` を返し、それ以外は `False` を返します。"
   ]
  },
  {
   "cell_type": "code",
   "execution_count": 39,
   "id": "cf2f1a4c",
   "metadata": {},
   "outputs": [],
   "source": [
    "arr_bool1 = np.array([True, True, True])\n",
    "arr_bool2 = np.array([True, False, True])\n",
    "arr_bool3 = np.array([False, False, False])"
   ]
  },
  {
   "cell_type": "code",
   "execution_count": 40,
   "id": "56ce11a0",
   "metadata": {},
   "outputs": [
    {
     "data": {
      "text/plain": [
       "True"
      ]
     },
     "execution_count": 40,
     "metadata": {},
     "output_type": "execute_result"
    }
   ],
   "source": [
    "arr_bool1.all()"
   ]
  },
  {
   "cell_type": "code",
   "execution_count": 41,
   "id": "cd966272",
   "metadata": {},
   "outputs": [
    {
     "data": {
      "text/plain": [
       "False"
      ]
     },
     "execution_count": 41,
     "metadata": {},
     "output_type": "execute_result"
    }
   ],
   "source": [
    "arr_bool2.all()"
   ]
  },
  {
   "cell_type": "code",
   "execution_count": 42,
   "id": "7a22a3f7",
   "metadata": {},
   "outputs": [
    {
     "data": {
      "text/plain": [
       "False"
      ]
     },
     "execution_count": 42,
     "metadata": {},
     "output_type": "execute_result"
    }
   ],
   "source": [
    "arr_bool3.all()"
   ]
  },
  {
   "cell_type": "code",
   "execution_count": 43,
   "id": "149743e9",
   "metadata": {},
   "outputs": [
    {
     "data": {
      "text/plain": [
       "True"
      ]
     },
     "execution_count": 43,
     "metadata": {},
     "output_type": "execute_result"
    }
   ],
   "source": [
    "arr_bool1.any()"
   ]
  },
  {
   "cell_type": "code",
   "execution_count": 44,
   "id": "829fba45",
   "metadata": {},
   "outputs": [
    {
     "data": {
      "text/plain": [
       "True"
      ]
     },
     "execution_count": 44,
     "metadata": {},
     "output_type": "execute_result"
    }
   ],
   "source": [
    "arr_bool2.any()"
   ]
  },
  {
   "cell_type": "code",
   "execution_count": 45,
   "id": "fe56197d",
   "metadata": {},
   "outputs": [
    {
     "data": {
      "text/plain": [
       "False"
      ]
     },
     "execution_count": 45,
     "metadata": {},
     "output_type": "execute_result"
    }
   ],
   "source": [
    "arr_bool3.any()"
   ]
  },
  {
   "cell_type": "markdown",
   "id": "5705dfc4",
   "metadata": {},
   "source": [
    "多次元配列の場合はメソッドの引数 `axis` に指定した軸に対して演算します。"
   ]
  },
  {
   "cell_type": "code",
   "execution_count": 46,
   "id": "70f3e7ee",
   "metadata": {},
   "outputs": [
    {
     "data": {
      "text/plain": [
       "array([22, 26, 30])"
      ]
     },
     "execution_count": 46,
     "metadata": {},
     "output_type": "execute_result"
    }
   ],
   "source": [
    "arr2.sum(axis=0)"
   ]
  },
  {
   "cell_type": "code",
   "execution_count": 47,
   "id": "672751f8",
   "metadata": {},
   "outputs": [
    {
     "data": {
      "text/plain": [
       "array([ 6, 15, 24, 33])"
      ]
     },
     "execution_count": 47,
     "metadata": {},
     "output_type": "execute_result"
    }
   ],
   "source": [
    "arr2.sum(axis=1)"
   ]
  },
  {
   "cell_type": "markdown",
   "id": "21610987",
   "metadata": {},
   "source": [
    "軸（axis）の概念は少々複雑であるため、補足します。まずは0番目の次元（ `axis=0` ）に該当する要素を取り出してみます。"
   ]
  },
  {
   "cell_type": "code",
   "execution_count": 48,
   "id": "86b2b3b1",
   "metadata": {},
   "outputs": [
    {
     "data": {
      "text/plain": [
       "array([1, 2, 3])"
      ]
     },
     "execution_count": 48,
     "metadata": {},
     "output_type": "execute_result"
    }
   ],
   "source": [
    "arr2[0, :]"
   ]
  },
  {
   "cell_type": "code",
   "execution_count": 49,
   "id": "0dc8497b",
   "metadata": {},
   "outputs": [
    {
     "data": {
      "text/plain": [
       "array([4, 5, 6])"
      ]
     },
     "execution_count": 49,
     "metadata": {},
     "output_type": "execute_result"
    }
   ],
   "source": [
    "arr2[1, :]"
   ]
  },
  {
   "cell_type": "code",
   "execution_count": 50,
   "id": "a1714611",
   "metadata": {},
   "outputs": [
    {
     "data": {
      "text/plain": [
       "array([7, 8, 9])"
      ]
     },
     "execution_count": 50,
     "metadata": {},
     "output_type": "execute_result"
    }
   ],
   "source": [
    "arr2[2, :]"
   ]
  },
  {
   "cell_type": "code",
   "execution_count": 51,
   "id": "28198ec9",
   "metadata": {},
   "outputs": [
    {
     "data": {
      "text/plain": [
       "array([10, 11, 12])"
      ]
     },
     "execution_count": 51,
     "metadata": {},
     "output_type": "execute_result"
    }
   ],
   "source": [
    "arr2[3, :]"
   ]
  },
  {
   "cell_type": "markdown",
   "id": "608bb7b1",
   "metadata": {},
   "source": [
    "取り出された要素を、順番に演算していきます。\n",
    "この場合では0番目の要素となる `1, 4, 7, 10` が演算され、次に1番目の要素が `2, 5, 8, 11` が演算されます。"
   ]
  },
  {
   "cell_type": "code",
   "execution_count": 52,
   "id": "139f5e57",
   "metadata": {},
   "outputs": [
    {
     "data": {
      "text/plain": [
       "22"
      ]
     },
     "execution_count": 52,
     "metadata": {},
     "output_type": "execute_result"
    }
   ],
   "source": [
    "arr2.sum(axis=0)[0]  # == sum([1, 4, 7, 10])"
   ]
  },
  {
   "cell_type": "code",
   "execution_count": 53,
   "id": "4caa5f6f",
   "metadata": {},
   "outputs": [
    {
     "data": {
      "text/plain": [
       "26"
      ]
     },
     "execution_count": 53,
     "metadata": {},
     "output_type": "execute_result"
    }
   ],
   "source": [
    "arr2.sum(axis=0)[1]  # == sum([2, 5, 8, 11])"
   ]
  },
  {
   "cell_type": "markdown",
   "id": "55473291",
   "metadata": {},
   "source": [
    "\n",
    "同様に1番目の次元（ `axis=1` )に該当する要素を取り出してみます。"
   ]
  },
  {
   "cell_type": "code",
   "execution_count": 54,
   "id": "63e5d5f3",
   "metadata": {},
   "outputs": [
    {
     "data": {
      "text/plain": [
       "array([10, 11, 12])"
      ]
     },
     "execution_count": 54,
     "metadata": {},
     "output_type": "execute_result"
    }
   ],
   "source": [
    "arr2[3, :]"
   ]
  },
  {
   "cell_type": "code",
   "execution_count": 55,
   "id": "9899aa7d",
   "metadata": {},
   "outputs": [
    {
     "data": {
      "text/plain": [
       "array([ 1,  4,  7, 10])"
      ]
     },
     "execution_count": 55,
     "metadata": {},
     "output_type": "execute_result"
    }
   ],
   "source": [
    "arr2[:, 0]"
   ]
  },
  {
   "cell_type": "code",
   "execution_count": 56,
   "id": "4b0a4cdd",
   "metadata": {},
   "outputs": [
    {
     "data": {
      "text/plain": [
       "array([ 2,  5,  8, 11])"
      ]
     },
     "execution_count": 56,
     "metadata": {},
     "output_type": "execute_result"
    }
   ],
   "source": [
    "arr2[:, 1]"
   ]
  },
  {
   "cell_type": "code",
   "execution_count": 57,
   "id": "ab2099c9",
   "metadata": {},
   "outputs": [
    {
     "data": {
      "text/plain": [
       "array([ 3,  6,  9, 12])"
      ]
     },
     "execution_count": 57,
     "metadata": {},
     "output_type": "execute_result"
    }
   ],
   "source": [
    "arr2[:, 2]"
   ]
  },
  {
   "cell_type": "markdown",
   "id": "6e9c222e",
   "metadata": {},
   "source": [
    "1番目の次元も取り出された要素を、順番に演算していきます。\n",
    "この場合では0番目の要素となる `1, 2, 3` が演算され、次に1番目の要素が `4, 5, 6` が演算されます。"
   ]
  },
  {
   "cell_type": "code",
   "execution_count": 58,
   "id": "dead118a",
   "metadata": {},
   "outputs": [
    {
     "data": {
      "text/plain": [
       "6"
      ]
     },
     "execution_count": 58,
     "metadata": {},
     "output_type": "execute_result"
    }
   ],
   "source": [
    "arr2.sum(axis=1)[0]  # == sum([1, 2, 3])"
   ]
  },
  {
   "cell_type": "code",
   "execution_count": 59,
   "id": "55e19f56",
   "metadata": {},
   "outputs": [
    {
     "data": {
      "text/plain": [
       "15"
      ]
     },
     "execution_count": 59,
     "metadata": {},
     "output_type": "execute_result"
    }
   ],
   "source": [
    "arr2.sum(axis=1)[1]  # == sum([4, 5, 6])"
   ]
  },
  {
   "cell_type": "markdown",
   "id": "c8a9d96e",
   "metadata": {},
   "source": [
    "## 乱数の生成\n",
    "\n",
    "NumPyでは [PCG64](https://numpy.org/doc/stable/reference/random/bit_generators/pcg64.html#numpy.random.PCG64) という擬似乱数生成器を利用して乱数の値や配列を生成できます。\n",
    "\n",
    "乱数を生成するには [default_rng](https://numpy.org/doc/stable/reference/random/generator.html#numpy.random.default_rng) 関数を実行し、 [Generator](https://numpy.org/doc/stable/reference/random/generator.html#numpy.random.Generator) インスタンスを生成します。\n",
    "\n",
    "```{warning}\n",
    "以前のNumPyでは [メルセンヌ・ツイスタ（MT19937）](https://numpy.org/doc/stable/reference/random/bit_generators/mt19937.html#numpy.random.MT19937) という擬似乱数列生成器が利用されていました。\n",
    "\n",
    "`np.random.random()` のように記述されたコードは [legacy generators](https://numpy.org/doc/stable/reference/random/legacy.html) と呼ばれ、非推奨となっています。\n",
    "\n",
    "```"
   ]
  },
  {
   "cell_type": "code",
   "execution_count": 60,
   "id": "97e31c56",
   "metadata": {},
   "outputs": [
    {
     "data": {
      "text/plain": [
       "numpy.random._generator.Generator"
      ]
     },
     "execution_count": 60,
     "metadata": {},
     "output_type": "execute_result"
    }
   ],
   "source": [
    "from numpy.random import default_rng\n",
    "\n",
    "rng = default_rng(1)\n",
    "type(rng)"
   ]
  },
  {
   "cell_type": "markdown",
   "id": "68809baf",
   "metadata": {},
   "source": [
    "[random](https://numpy.org/doc/stable/reference/random/generated/numpy.random.Generator.random.html) メソッドは0から1までのランダムな少数値を返します。"
   ]
  },
  {
   "cell_type": "code",
   "execution_count": 61,
   "id": "14e5c8a1",
   "metadata": {},
   "outputs": [
    {
     "data": {
      "text/plain": [
       "0.5118216247002567"
      ]
     },
     "execution_count": 61,
     "metadata": {},
     "output_type": "execute_result"
    }
   ],
   "source": [
    "rng.random()"
   ]
  },
  {
   "cell_type": "markdown",
   "id": "54e2e8d6",
   "metadata": {},
   "source": [
    "配列を生成する場合は引数 `size` に要素数を渡します。"
   ]
  },
  {
   "cell_type": "code",
   "execution_count": 62,
   "id": "97620485",
   "metadata": {},
   "outputs": [
    {
     "data": {
      "text/plain": [
       "array([0.9504637 , 0.14415961, 0.94864945])"
      ]
     },
     "execution_count": 62,
     "metadata": {},
     "output_type": "execute_result"
    }
   ],
   "source": [
    "rng.random(size=3)"
   ]
  },
  {
   "cell_type": "markdown",
   "id": "ab93cdc6",
   "metadata": {},
   "source": [
    "多次元の配列を生成するには次元ごとの要素数を格納したリストやタプルなどを渡します。次のコードでは3行2列（0次元目が3、1次元目が2）の乱数をもつ配列生成しています。"
   ]
  },
  {
   "cell_type": "code",
   "execution_count": 63,
   "id": "05386d04",
   "metadata": {},
   "outputs": [
    {
     "data": {
      "text/plain": [
       "array([[0.31183145, 0.42332645],\n",
       "       [0.82770259, 0.40919914],\n",
       "       [0.54959369, 0.02755911]])"
      ]
     },
     "execution_count": 63,
     "metadata": {},
     "output_type": "execute_result"
    }
   ],
   "source": [
    "rng.random(size=(3, 2))"
   ]
  },
  {
   "cell_type": "markdown",
   "id": "0d4c6824",
   "metadata": {},
   "source": [
    "[normal](https://numpy.org/doc/stable/reference/random/generated/numpy.random.Generator.normal.html) メソッドは標準正規分布に従う乱数を生成します。デフォルトでは平均0、標準偏差1の乱数を生成します。"
   ]
  },
  {
   "cell_type": "code",
   "execution_count": 64,
   "id": "fb0b350d",
   "metadata": {},
   "outputs": [
    {
     "data": {
      "text/plain": [
       "array([ 0.02842224,  0.54671299, -0.73645409, -0.16290995, -0.48211931,\n",
       "        0.59884621,  0.03972211, -0.29245675, -0.78190846, -0.25719224])"
      ]
     },
     "execution_count": 64,
     "metadata": {},
     "output_type": "execute_result"
    }
   ],
   "source": [
    "rng.normal(size=10)"
   ]
  },
  {
   "cell_type": "markdown",
   "id": "743abfcb",
   "metadata": {},
   "source": [
    "平均値は引数 `loc` 、標準偏差は引数 `scale` で指定できます。"
   ]
  },
  {
   "cell_type": "code",
   "execution_count": 65,
   "id": "d4c4dd43",
   "metadata": {},
   "outputs": [
    {
     "data": {
      "text/plain": [
       "array([[   5.81421805,  -22.56029053,  134.40638144,  105.67243153,\n",
       "        -266.1162479 ],\n",
       "       [-183.9013246 ,  -12.47720921,  -37.21904116,   26.36429975,\n",
       "          26.7321931 ],\n",
       "       [ 216.78387551, -106.20207627,  -32.76050071,  209.27716075,\n",
       "          69.67029962],\n",
       "       [  71.30633724,  -46.40063717, -159.80751709,   21.74647442,\n",
       "          15.90140878],\n",
       "       [-117.73520542,  -63.32266618,   -2.20436797,  -89.47516231,\n",
       "          -4.82699679]])"
      ]
     },
     "execution_count": 65,
     "metadata": {},
     "output_type": "execute_result"
    }
   ],
   "source": [
    "rng.normal(loc=5, scale=100, size=(5, 5))"
   ]
  }
 ],
 "metadata": {
  "kernelspec": {
   "display_name": "Python 3.11.0 64-bit",
   "language": "python",
   "name": "python3"
  },
  "language_info": {
   "codemirror_mode": {
    "name": "ipython",
    "version": 3
   },
   "file_extension": ".py",
   "mimetype": "text/x-python",
   "name": "python",
   "nbconvert_exporter": "python",
   "pygments_lexer": "ipython3",
   "version": "3.11.0"
  },
  "vscode": {
   "interpreter": {
    "hash": "949777d72b0d2535278d3dc13498b2535136f6dfe0678499012e853ee9abcab1"
   }
  }
 },
 "nbformat": 4,
 "nbformat_minor": 5
}
