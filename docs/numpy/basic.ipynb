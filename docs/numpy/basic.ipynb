{
 "cells": [
  {
   "cell_type": "markdown",
   "id": "88a8f30a",
   "metadata": {},
   "source": [
    "[![Open In Colab](https://colab.research.google.com/assets/colab-badge.svg)](http://colab.research.google.com/github/drillan/python-data-analysis/blob/main/docs/numpy/basic.ipynb)"
   ]
  },
  {
   "cell_type": "markdown",
   "id": "6ed4673d",
   "metadata": {},
   "source": [
    "# NumPy"
   ]
  },
  {
   "cell_type": "markdown",
   "id": "d006fe2c",
   "metadata": {},
   "source": [
    "NumPyは数値演算に特化したライブラリです。Pythonを利用しているほぼすべてのデータサイエンティストがNumPyを直接的（数値演算、行列演算など）・間接的（pandasやMatplotlibなどのライブラリ）に活用しています。従って、Pythonを利用して統計を学ぶうえで、NumPyの使い方やデータ構造を知ることは有益です。本節ではNumPyで最も重要なデータ型 ``ndarray`` の基本となる操作方法や演算方法を解説します。\n",
    "\n",
    "## ndarray型\n",
    "\n",
    "``ndarray`` 型は多次元の配列を扱うためのデータ型です。Python組込みのリスト型に似ていますが、次のような特徴があります。\n",
    "\n",
    "- 配列内の要素はすべて同じデータ型である\n",
    "- C言語やFORTRAN言語で実装されており、高速に演算できる\n",
    "- 多次元の要素にアクセスするためのインデックスやメソッドが用意されている\n",
    "- ブロードキャスト演算が行える\n",
    "- 関数が適用できる\n",
    "\n",
    "はじめにNumPyをインポートして ``ndarray`` オブジェクトを作成してみましょう。 ``ndarray`` オブジェクトを作成するには ``array`` クラスにリストやタプルなどを渡します。"
   ]
  },
  {
   "cell_type": "code",
   "execution_count": 1,
   "id": "b4f19c4b",
   "metadata": {},
   "outputs": [],
   "source": [
    "import numpy as np\n",
    "\n",
    "int_arr = np.array([1, 2])"
   ]
  },
  {
   "cell_type": "markdown",
   "id": "feed6c53",
   "metadata": {
    "raw_mimetype": "text/restructuredtext"
   },
   "source": [
    "オブジェクト内の要素はすべて同じデータ型であり、データ型を指定しない場合は自動的に判定されます。 ``ndarray`` オブジェクトの ``dtype`` 属性を参照するとデータ型が確認できます。"
   ]
  },
  {
   "cell_type": "code",
   "execution_count": 2,
   "id": "dd072f7b",
   "metadata": {},
   "outputs": [
    {
     "data": {
      "text/plain": [
       "dtype('int64')"
      ]
     },
     "execution_count": 2,
     "metadata": {},
     "output_type": "execute_result"
    }
   ],
   "source": [
    "int_arr.dtype"
   ]
  },
  {
   "cell_type": "markdown",
   "id": "40609152",
   "metadata": {
    "raw_mimetype": "text/restructuredtext"
   },
   "source": [
    "``ndarray`` 生成時にデータ型を明示する場合には、引数 ``dtype`` にデータ型を渡します。データ型の詳細は [公式ドキュメント](https://numpy.org/doc/stable/reference/generated/numpy.dtype.html) を参照してください。"
   ]
  },
  {
   "cell_type": "code",
   "execution_count": 3,
   "id": "93d11d14",
   "metadata": {},
   "outputs": [],
   "source": [
    "float_arr = np.array([1, 2], dtype=np.float32)"
   ]
  },
  {
   "cell_type": "code",
   "execution_count": 4,
   "id": "d63cf69d",
   "metadata": {},
   "outputs": [
    {
     "data": {
      "text/plain": [
       "dtype('float32')"
      ]
     },
     "execution_count": 4,
     "metadata": {},
     "output_type": "execute_result"
    }
   ],
   "source": [
    "float_arr.dtype"
   ]
  },
  {
   "cell_type": "markdown",
   "id": "1d1b3c4b",
   "metadata": {
    "raw_mimetype": "text/restructuredtext"
   },
   "source": [
    "型変換を行うには ``astype`` メソッドの引数にデータ型を渡します。"
   ]
  },
  {
   "cell_type": "code",
   "execution_count": 5,
   "id": "acf9bc88",
   "metadata": {},
   "outputs": [
    {
     "data": {
      "text/plain": [
       "array([1, 2], dtype=int32)"
      ]
     },
     "execution_count": 5,
     "metadata": {},
     "output_type": "execute_result"
    }
   ],
   "source": [
    "float_arr.astype(np.int32)"
   ]
  },
  {
   "cell_type": "raw",
   "id": "d37737e3",
   "metadata": {
    "raw_mimetype": "text/restructuredtext"
   },
   "source": [
    ".. note::\n",
    "\n",
    "   ``ndarray`` オブジェクトを「配列」と呼ぶ場合があります。"
   ]
  },
  {
   "cell_type": "markdown",
   "id": "090763ac",
   "metadata": {
    "raw_mimetype": "text/restructuredtext"
   },
   "source": [
    "## ndarrayオブジェクトの生成\n",
    "\n",
    "NumPyでは形状（各次元の要素数）を指定したり、特定の値や乱数で埋めた ``ndarray`` オブジェクトを生成できます。本項では ``ndarray`` オブジェクトのさまざまな生成方法を紹介します。\n",
    "\n",
    "``arange`` 関数は指定した範囲の配列を生成します。基本的な使い方はPython組込みの ``range`` 関数と同様です。引数を1つ渡した場合には渡した値が要素数となり、0から自然数が連番で割り当てられます。"
   ]
  },
  {
   "cell_type": "code",
   "execution_count": 6,
   "id": "1df78329",
   "metadata": {},
   "outputs": [
    {
     "data": {
      "text/plain": [
       "array([0, 1, 2])"
      ]
     },
     "execution_count": 6,
     "metadata": {},
     "output_type": "execute_result"
    }
   ],
   "source": [
    "np.arange(3)"
   ]
  },
  {
   "cell_type": "markdown",
   "id": "3bc02b99",
   "metadata": {
    "raw_mimetype": "text/restructuredtext"
   },
   "source": [
    "第1引数に開始位置、第2引数に終了位置（第2引数の値は含まれない）を指定すると、指定した範囲で配列を生成します。また、第3引数に増分値を指定できます。 ``range`` 関数とは異なり、 ``arange`` 関数は小数値も扱えます。"
   ]
  },
  {
   "cell_type": "code",
   "execution_count": 7,
   "id": "7b6a03be",
   "metadata": {},
   "outputs": [
    {
     "data": {
      "text/plain": [
       "array([0. , 0.5, 1. , 1.5, 2. ])"
      ]
     },
     "execution_count": 7,
     "metadata": {},
     "output_type": "execute_result"
    }
   ],
   "source": [
    "np.arange(0, 2.5, 0.5)"
   ]
  },
  {
   "cell_type": "markdown",
   "id": "74b33e44",
   "metadata": {},
   "source": [
    "`zeros` 関数では指定した要素分の配列を0で埋めて生成します。"
   ]
  },
  {
   "cell_type": "code",
   "execution_count": 8,
   "id": "4f403ae3",
   "metadata": {},
   "outputs": [
    {
     "data": {
      "text/plain": [
       "array([0., 0., 0.])"
      ]
     },
     "execution_count": 8,
     "metadata": {},
     "output_type": "execute_result"
    }
   ],
   "source": [
    "np.zeros(3)"
   ]
  },
  {
   "cell_type": "markdown",
   "id": "e02d4b98",
   "metadata": {
    "raw_mimetype": "text/restructuredtext"
   },
   "source": [
    "``ones`` 関数では1で埋めた配列を生成します。使い方は ``zeros`` 関数と同様です。要素数をリストやタプルで渡すと、多次元の配列を生成できます。次のコードでは2行2列の2次元配列を生成しています。"
   ]
  },
  {
   "cell_type": "code",
   "execution_count": 9,
   "id": "50691c7c",
   "metadata": {},
   "outputs": [
    {
     "data": {
      "text/plain": [
       "array([[1., 1.],\n",
       "       [1., 1.]])"
      ]
     },
     "execution_count": 9,
     "metadata": {},
     "output_type": "execute_result"
    }
   ],
   "source": [
    "np.ones([2, 2])"
   ]
  },
  {
   "cell_type": "markdown",
   "id": "a2c5fc7e",
   "metadata": {
    "raw_mimetype": "text/restructuredtext"
   },
   "source": [
    "``random`` モジュールにはさまざまな乱数を生成する関数が用意されています。次のコードでは連続一様分布で生成した乱数から3行3列の配列を生成しています。"
   ]
  },
  {
   "cell_type": "code",
   "execution_count": 10,
   "id": "913aa912",
   "metadata": {},
   "outputs": [
    {
     "data": {
      "text/plain": [
       "array([[0.51182162, 0.9504637 , 0.14415961],\n",
       "       [0.94864945, 0.31183145, 0.42332645],\n",
       "       [0.82770259, 0.40919914, 0.54959369]])"
      ]
     },
     "execution_count": 10,
     "metadata": {},
     "output_type": "execute_result"
    }
   ],
   "source": [
    "rng = np.random.default_rng(1)\n",
    "rng.random(size=(3, 3))"
   ]
  },
  {
   "cell_type": "raw",
   "id": "696f4665",
   "metadata": {
    "raw_mimetype": "text/restructuredtext"
   },
   "source": [
    ".. note::\n",
    "\n",
    "   ``random.default_rng`` 関数の引数を渡すことで乱数を固定します。出力結果を再現するためにこの関数を実行しています。"
   ]
  },
  {
   "cell_type": "markdown",
   "id": "5572651a",
   "metadata": {
    "raw_mimetype": "text/restructuredtext"
   },
   "source": [
    "## 要素へのアクセス\n",
    "\n",
    "``ndarray`` オブジェクトはリスト型と同様に要素の参照や代入が行えます。インデックスが多次元のデータに対応しており、組込みのリスト型などと比較してより柔軟に扱えます。本項では次の2つの配列にアクセスします。"
   ]
  },
  {
   "cell_type": "code",
   "execution_count": 11,
   "id": "c9301f7b",
   "metadata": {},
   "outputs": [
    {
     "data": {
      "text/plain": [
       "array([1, 2, 3])"
      ]
     },
     "execution_count": 11,
     "metadata": {},
     "output_type": "execute_result"
    }
   ],
   "source": [
    "arr1 = np.arange(1, 4)\n",
    "arr1"
   ]
  },
  {
   "cell_type": "markdown",
   "id": "8cfd6165",
   "metadata": {
    "raw_mimetype": "text/restructuredtext"
   },
   "source": [
    "``ndarray`` オブジェクトの ``reshape`` メソッドでは配列の形状を変更できます。次のコードでは12個の要素を持つ1次元配列を4行3列の2次元配列に変換しています。"
   ]
  },
  {
   "cell_type": "code",
   "execution_count": 12,
   "id": "02997abb",
   "metadata": {},
   "outputs": [
    {
     "data": {
      "text/plain": [
       "array([[ 1,  2,  3],\n",
       "       [ 4,  5,  6],\n",
       "       [ 7,  8,  9],\n",
       "       [10, 11, 12]])"
      ]
     },
     "execution_count": 12,
     "metadata": {},
     "output_type": "execute_result"
    }
   ],
   "source": [
    "arr2 = np.arange(1, 13).reshape(4, 3)\n",
    "arr2"
   ]
  },
  {
   "cell_type": "markdown",
   "id": "fcb31ea7",
   "metadata": {
    "raw_mimetype": "text/restructuredtext"
   },
   "source": [
    "要素を参照するには添字に位置を指定します。"
   ]
  },
  {
   "cell_type": "code",
   "execution_count": 13,
   "id": "b4780bb0",
   "metadata": {},
   "outputs": [
    {
     "data": {
      "text/plain": [
       "1"
      ]
     },
     "execution_count": 13,
     "metadata": {},
     "output_type": "execute_result"
    }
   ],
   "source": [
    "arr1[0]"
   ]
  },
  {
   "cell_type": "markdown",
   "id": "b3b0d7b5",
   "metadata": {
    "raw_mimetype": "text/restructuredtext"
   },
   "source": [
    "添字にはスライス記法が利用できます。次のコードでは2番目から3番目の位置の要素を参照しています。"
   ]
  },
  {
   "cell_type": "code",
   "execution_count": 14,
   "id": "6e7c67bc",
   "metadata": {},
   "outputs": [
    {
     "data": {
      "text/plain": [
       "array([2, 3])"
      ]
     },
     "execution_count": 14,
     "metadata": {},
     "output_type": "execute_result"
    }
   ],
   "source": [
    "arr1[1:3]"
   ]
  },
  {
   "cell_type": "markdown",
   "id": "07fc9b29",
   "metadata": {
    "raw_mimetype": "text/restructuredtext"
   },
   "source": [
    "2次元の配列の場合、1次元の配列の各要素が1次元の配列をもつ構造になります。2次元の配列の位置を添字で指定すると、指定した位置の行が参照されます。"
   ]
  },
  {
   "cell_type": "code",
   "execution_count": 15,
   "id": "75c334ed",
   "metadata": {},
   "outputs": [
    {
     "data": {
      "text/plain": [
       "array([1, 2, 3])"
      ]
     },
     "execution_count": 15,
     "metadata": {},
     "output_type": "execute_result"
    }
   ],
   "source": [
    "arr2[0]"
   ]
  },
  {
   "cell_type": "markdown",
   "id": "71cb5483",
   "metadata": {
    "raw_mimetype": "text/restructuredtext"
   },
   "source": [
    "添字には各次元の位置をカンマで区切って指定できます。次のコードでは2行3列目の要素を参照できます。"
   ]
  },
  {
   "cell_type": "code",
   "execution_count": 16,
   "id": "66bffb13",
   "metadata": {},
   "outputs": [
    {
     "data": {
      "text/plain": [
       "6"
      ]
     },
     "execution_count": 16,
     "metadata": {},
     "output_type": "execute_result"
    }
   ],
   "source": [
    "arr2[1, 2]"
   ]
  },
  {
   "cell_type": "markdown",
   "id": "30db068c",
   "metadata": {
    "raw_mimetype": "text/restructuredtext"
   },
   "source": [
    "特定の次元の要素をスライス記法で参照もできます。次のコードでは1行目2〜3列目の要素を参照しています。"
   ]
  },
  {
   "cell_type": "code",
   "execution_count": 17,
   "id": "0e4c2715",
   "metadata": {},
   "outputs": [
    {
     "data": {
      "text/plain": [
       "array([2, 3])"
      ]
     },
     "execution_count": 17,
     "metadata": {},
     "output_type": "execute_result"
    }
   ],
   "source": [
    "arr2[0, 1:3]"
   ]
  },
  {
   "cell_type": "markdown",
   "id": "1ab158ed",
   "metadata": {},
   "source": [
    "リスト型と同様に添字に指定した位置に値を代入できます。"
   ]
  },
  {
   "cell_type": "code",
   "execution_count": 18,
   "id": "4703bef0",
   "metadata": {},
   "outputs": [
    {
     "data": {
      "text/plain": [
       "array([ 1, 10,  3])"
      ]
     },
     "execution_count": 18,
     "metadata": {},
     "output_type": "execute_result"
    }
   ],
   "source": [
    "arr1[1] = 10\n",
    "arr1"
   ]
  },
  {
   "cell_type": "code",
   "execution_count": 19,
   "id": "7aa523d5",
   "metadata": {},
   "outputs": [
    {
     "data": {
      "text/plain": [
       "array([[  1,   2,   3],\n",
       "       [100, 100,   6],\n",
       "       [  7,   8,   9],\n",
       "       [ 10,  11,  12]])"
      ]
     },
     "execution_count": 19,
     "metadata": {},
     "output_type": "execute_result"
    }
   ],
   "source": [
    "arr2[1, :2] = 100\n",
    "arr2"
   ]
  },
  {
   "cell_type": "markdown",
   "id": "674dd015",
   "metadata": {
    "raw_mimetype": "text/restructuredtext"
   },
   "source": [
    "## ブロードキャスト\n",
    "\n",
    "複数の要素を数値演算するケースを考えてみます。さまざまな方法がありますが、例としてPythonの組み込みのリストを次のコードのようにfor文で繰り返して処理する方法が挙げられます。"
   ]
  },
  {
   "cell_type": "code",
   "execution_count": 20,
   "id": "2655e8d8",
   "metadata": {},
   "outputs": [
    {
     "data": {
      "text/plain": [
       "[2, 3, 4]"
      ]
     },
     "execution_count": 20,
     "metadata": {},
     "output_type": "execute_result"
    }
   ],
   "source": [
    "li = [1, 2, 3]\n",
    "[x + 1 for x in li]"
   ]
  },
  {
   "cell_type": "markdown",
   "id": "9c319516",
   "metadata": {
    "raw_mimetype": "text/restructuredtext"
   },
   "source": [
    "このように、組込み型で数値演算を行うには冗長となり、処理速度にも課題があります。 ``ndarray`` オブジェクトではブロードキャスト演算が行えます。次のコードのように配列に対して演算子を利用した演算ができ、高速に処理できます。 "
   ]
  },
  {
   "cell_type": "code",
   "execution_count": 21,
   "id": "41cb9d6e",
   "metadata": {},
   "outputs": [
    {
     "data": {
      "text/plain": [
       "array([2, 3, 4])"
      ]
     },
     "execution_count": 21,
     "metadata": {},
     "output_type": "execute_result"
    }
   ],
   "source": [
    "arr1 = np.array([1, 2, 3])\n",
    "arr1 + 1"
   ]
  },
  {
   "cell_type": "markdown",
   "id": "c458a173",
   "metadata": {
    "raw_mimetype": "text/restructuredtext"
   },
   "source": [
    "次のコードのように配列同士の演算も演算子が利用できます。"
   ]
  },
  {
   "cell_type": "code",
   "execution_count": 22,
   "id": "9b852a3e",
   "metadata": {},
   "outputs": [
    {
     "data": {
      "text/plain": [
       "array([[ 1,  2,  3],\n",
       "       [ 4,  5,  6],\n",
       "       [ 7,  8,  9],\n",
       "       [10, 11, 12]])"
      ]
     },
     "execution_count": 22,
     "metadata": {},
     "output_type": "execute_result"
    }
   ],
   "source": [
    "arr2 = np.arange(1, 13).reshape(4, 3)\n",
    "arr2"
   ]
  },
  {
   "cell_type": "code",
   "execution_count": 23,
   "id": "29cdc8e8",
   "metadata": {},
   "outputs": [
    {
     "data": {
      "text/plain": [
       "array([[ 2,  4,  6],\n",
       "       [ 5,  7,  9],\n",
       "       [ 8, 10, 12],\n",
       "       [11, 13, 15]])"
      ]
     },
     "execution_count": 23,
     "metadata": {},
     "output_type": "execute_result"
    }
   ],
   "source": [
    "arr1 + arr2"
   ]
  },
  {
   "cell_type": "markdown",
   "id": "e3f9740f",
   "metadata": {
    "raw_mimetype": "text/restructuredtext"
   },
   "source": [
    "## 関数の適用\n",
    "\n",
    "``ndarray`` オブジェクトの全ての要素に対して関数を適用する仕組みがあります。このような関数をユニバーサル関数または略してufuncなどと表記されます。\n",
    "\n",
    "> https://numpy.org/doc/stable/reference/ufuncs.html#math-operations\n",
    "\n",
    "次のコードでは ``power`` 関数を利用して配列のべき乗を算出しています。"
   ]
  },
  {
   "cell_type": "code",
   "execution_count": 24,
   "id": "18a2849f",
   "metadata": {},
   "outputs": [
    {
     "data": {
      "text/plain": [
       "array([[     1,      4,     27],\n",
       "       [     1,     32,    729],\n",
       "       [     1,    256,  19683],\n",
       "       [     1,   2048, 531441]])"
      ]
     },
     "execution_count": 24,
     "metadata": {},
     "output_type": "execute_result"
    }
   ],
   "source": [
    "np.power(arr1, arr2)"
   ]
  },
  {
   "cell_type": "markdown",
   "id": "54ce47da",
   "metadata": {
    "raw_mimetype": "text/restructuredtext"
   },
   "source": [
    "``ndarray`` オブジェクトにはNumPyの関数のほか、組込み関数やユーザが作成した関数を適用できます。次のコードでは組込みの ``abs`` 関数を利用して絶対値を算出しています。この ``abs`` 関数のように単一の値（スカラ型）を引数とする関数を適用した場合には、それぞれの要素に対して関数が適用されます。"
   ]
  },
  {
   "cell_type": "code",
   "execution_count": 25,
   "id": "6c8ac1fe",
   "metadata": {},
   "outputs": [
    {
     "data": {
      "text/plain": [
       "array([1, 2, 3])"
      ]
     },
     "execution_count": 25,
     "metadata": {},
     "output_type": "execute_result"
    }
   ],
   "source": [
    "abs(np.array([1, -2, 3]))"
   ]
  },
  {
   "cell_type": "markdown",
   "id": "e12cd273",
   "metadata": {
    "raw_mimetype": "text/restructuredtext"
   },
   "source": [
    "次の組込みの ``sum`` 関数のように複数の値（イテラブル）を引数とする関数を適用した場合には、すべてのデータに対して関数が適用されます。"
   ]
  },
  {
   "cell_type": "code",
   "execution_count": 26,
   "id": "e1982c45",
   "metadata": {},
   "outputs": [
    {
     "data": {
      "text/plain": [
       "6"
      ]
     },
     "execution_count": 26,
     "metadata": {},
     "output_type": "execute_result"
    }
   ],
   "source": [
    "sum(np.array([1, 2, 3]))"
   ]
  },
  {
   "cell_type": "markdown",
   "id": "c7ed95d3",
   "metadata": {},
   "source": [
    "次のコードでは `my_func` という関数を作成し、配列に適用しています。"
   ]
  },
  {
   "cell_type": "code",
   "execution_count": 27,
   "id": "70ab4c76",
   "metadata": {},
   "outputs": [
    {
     "data": {
      "text/plain": [
       "array([ 2,  5, 10])"
      ]
     },
     "execution_count": 27,
     "metadata": {},
     "output_type": "execute_result"
    }
   ],
   "source": [
    "def my_func(x):\n",
    "    return x ** 2 + 1\n",
    "\n",
    "\n",
    "my_func(arr1)"
   ]
  }
 ],
 "metadata": {
  "kernelspec": {
   "display_name": "Python 3 (ipykernel)",
   "language": "python",
   "name": "python3"
  },
  "language_info": {
   "codemirror_mode": {
    "name": "ipython",
    "version": 3
   },
   "file_extension": ".py",
   "mimetype": "text/x-python",
   "name": "python",
   "nbconvert_exporter": "python",
   "pygments_lexer": "ipython3",
   "version": "3.11.0"
  }
 },
 "nbformat": 4,
 "nbformat_minor": 5
}
