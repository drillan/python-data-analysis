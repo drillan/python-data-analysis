{
 "cells": [
  {
   "cell_type": "markdown",
   "id": "05a74a59",
   "metadata": {},
   "source": [
    "[![Open In Colab](https://colab.research.google.com/assets/colab-badge.svg)](http://colab.research.google.com/github/drillan/python-data-analysis/blob/main/docs/numpy/basic.ipynb)"
   ]
  },
  {
   "cell_type": "markdown",
   "id": "6ed4673d",
   "metadata": {},
   "source": [
    "# NumPy"
   ]
  },
  {
   "cell_type": "markdown",
   "id": "d006fe2c",
   "metadata": {},
   "source": [
    "NumPyは数値演算に特化したPythonパッケージです。Pythonを利用しているほぼすべてのデータサイエンティストがNumPyを直接的（数値演算、行列演算など）・間接的（pandasやMatplotlibなどのライブラリ）に活用しています。従って、Pythonを利用して統計を学ぶうえで、NumPyの使い方やデータ構造を知ることは有益です。本節ではNumPyで最も重要なデータ型 ``ndarray`` の基本となる操作方法や演算方法を解説します。\n",
    "\n",
    "## ndarray型\n",
    "\n",
    "``ndarray`` 型は多次元の配列を扱うためのデータ型です。Python組込みのリスト型に似ていますが、次のような特徴があります。\n",
    "\n",
    "- 配列内の要素はすべて同じデータ型である\n",
    "- C言語やFORTRAN言語で実装されており、高速に演算できる\n",
    "- 多次元の要素にアクセスするためのインデックスやメソッドが用意されている\n",
    "- ブロードキャスト演算が行える\n",
    "- 関数が適用できる\n",
    "\n",
    "はじめにNumPyをインポートして ``ndarray`` オブジェクトを作成してみましょう。 ``ndarray`` オブジェクトを作成するには ``array`` クラスにリストやタプルなどを渡します。"
   ]
  },
  {
   "cell_type": "code",
   "execution_count": 13,
   "id": "b4f19c4b",
   "metadata": {},
   "outputs": [],
   "source": [
    "import numpy as np\n",
    "\n",
    "int_arr = np.array([1, 2])"
   ]
  },
  {
   "cell_type": "markdown",
   "id": "feed6c53",
   "metadata": {
    "raw_mimetype": "text/restructuredtext"
   },
   "source": [
    "オブジェクト内の要素はすべて同じデータ型であり、データ型を指定しない場合は自動的に判定されます。 ``ndarray`` オブジェクトの ``dtype`` 属性を参照するとデータ型が確認できます。"
   ]
  },
  {
   "cell_type": "code",
   "execution_count": 2,
   "id": "dd072f7b",
   "metadata": {},
   "outputs": [
    {
     "data": {
      "text/plain": [
       "dtype('int64')"
      ]
     },
     "execution_count": 2,
     "metadata": {},
     "output_type": "execute_result"
    }
   ],
   "source": [
    "int_arr.dtype"
   ]
  },
  {
   "cell_type": "markdown",
   "id": "40609152",
   "metadata": {
    "raw_mimetype": "text/restructuredtext"
   },
   "source": [
    "``ndarray`` オブジェクトの生成時にデータ型を明示する場合には、引数 ``dtype`` にデータ型を渡します。データ型の詳細は [公式ドキュメント](https://numpy.org/doc/stable/reference/generated/numpy.dtype.html) を参照してください。"
   ]
  },
  {
   "cell_type": "code",
   "execution_count": 3,
   "id": "93d11d14",
   "metadata": {},
   "outputs": [],
   "source": [
    "float_arr = np.array([1, 2], dtype=np.float32)"
   ]
  },
  {
   "cell_type": "code",
   "execution_count": 4,
   "id": "d63cf69d",
   "metadata": {},
   "outputs": [
    {
     "data": {
      "text/plain": [
       "dtype('float32')"
      ]
     },
     "execution_count": 4,
     "metadata": {},
     "output_type": "execute_result"
    }
   ],
   "source": [
    "float_arr.dtype"
   ]
  },
  {
   "cell_type": "markdown",
   "id": "1d1b3c4b",
   "metadata": {
    "raw_mimetype": "text/restructuredtext"
   },
   "source": [
    "型変換を行うには ``astype`` メソッドの引数にデータ型を渡します。"
   ]
  },
  {
   "cell_type": "code",
   "execution_count": 5,
   "id": "acf9bc88",
   "metadata": {},
   "outputs": [
    {
     "data": {
      "text/plain": [
       "array([1, 2], dtype=int32)"
      ]
     },
     "execution_count": 5,
     "metadata": {},
     "output_type": "execute_result"
    }
   ],
   "source": [
    "float_arr.astype(np.int32)"
   ]
  },
  {
   "cell_type": "markdown",
   "id": "bb01d9da",
   "metadata": {},
   "source": [
    "``astype`` メソッドの引数にはクラス名の文字列も渡せます。"
   ]
  },
  {
   "cell_type": "code",
   "execution_count": 6,
   "id": "5497b57f",
   "metadata": {},
   "outputs": [
    {
     "data": {
      "text/plain": [
       "array([1, 2], dtype=int32)"
      ]
     },
     "execution_count": 6,
     "metadata": {},
     "output_type": "execute_result"
    }
   ],
   "source": [
    "float_arr.astype(\"int32\")"
   ]
  },
  {
   "cell_type": "markdown",
   "id": "ff02dcd7",
   "metadata": {},
   "source": [
    "```{note}\n",
    "`ndarray` オブジェクトを「配列」と呼ぶ場合があります。\n",
    "```"
   ]
  },
  {
   "cell_type": "markdown",
   "id": "f07fb430",
   "metadata": {},
   "source": [
    "## 多次元配列\n",
    "\n",
    "`ndarray` 型は多次元の要素を格納できます。次のコードでは2次元の配列（ `arr_2d` ）、3次元の配列（ `arr_3d` )を生成しています。"
   ]
  },
  {
   "cell_type": "code",
   "execution_count": 7,
   "id": "c94820fb",
   "metadata": {},
   "outputs": [
    {
     "data": {
      "text/plain": [
       "array([[ 1, 10],\n",
       "       [ 2, 20],\n",
       "       [ 3, 30]])"
      ]
     },
     "execution_count": 7,
     "metadata": {},
     "output_type": "execute_result"
    }
   ],
   "source": [
    "arr_2d = np.array([[1, 10], [2, 20], [3, 30]])\n",
    "arr_2d"
   ]
  },
  {
   "cell_type": "code",
   "execution_count": 8,
   "id": "0e0813dd",
   "metadata": {},
   "outputs": [
    {
     "data": {
      "text/plain": [
       "array([[[   1,   10],\n",
       "        [   2,   20],\n",
       "        [   3,   30]],\n",
       "\n",
       "       [[ 100, 1000],\n",
       "        [ 200, 2000],\n",
       "        [ 300, 3000]]])"
      ]
     },
     "execution_count": 8,
     "metadata": {},
     "output_type": "execute_result"
    }
   ],
   "source": [
    "arr_3d = np.array(\n",
    "    [[[1, 10], [2, 20], [3, 30]], [[100, 1000], [200, 2000], [300, 3000]]]\n",
    ")\n",
    "arr_3d"
   ]
  },
  {
   "cell_type": "markdown",
   "id": "4b20fdd3",
   "metadata": {},
   "source": [
    "配列の次元数は `ndim` 属性にアクセスして確認できます。"
   ]
  },
  {
   "cell_type": "code",
   "execution_count": 9,
   "id": "193c80b7",
   "metadata": {},
   "outputs": [
    {
     "data": {
      "text/plain": [
       "2"
      ]
     },
     "execution_count": 9,
     "metadata": {},
     "output_type": "execute_result"
    }
   ],
   "source": [
    "arr_2d.ndim"
   ]
  },
  {
   "cell_type": "code",
   "execution_count": 10,
   "id": "bf437e5e",
   "metadata": {},
   "outputs": [
    {
     "data": {
      "text/plain": [
       "3"
      ]
     },
     "execution_count": 10,
     "metadata": {},
     "output_type": "execute_result"
    }
   ],
   "source": [
    "arr_3d.ndim"
   ]
  },
  {
   "cell_type": "markdown",
   "id": "64f04c9e",
   "metadata": {},
   "source": [
    "配列の形状（次元ごとの要素数）は `shape` 属性にアクセスして確認できます。"
   ]
  },
  {
   "cell_type": "code",
   "execution_count": 11,
   "id": "29ef6508",
   "metadata": {},
   "outputs": [
    {
     "data": {
      "text/plain": [
       "(3, 2)"
      ]
     },
     "execution_count": 11,
     "metadata": {},
     "output_type": "execute_result"
    }
   ],
   "source": [
    "arr_2d.shape"
   ]
  },
  {
   "cell_type": "code",
   "execution_count": 12,
   "id": "e3a3c9e2",
   "metadata": {},
   "outputs": [
    {
     "data": {
      "text/plain": [
       "(2, 3, 2)"
      ]
     },
     "execution_count": 12,
     "metadata": {},
     "output_type": "execute_result"
    }
   ],
   "source": [
    "arr_3d.shape"
   ]
  },
  {
   "cell_type": "markdown",
   "id": "0c134279",
   "metadata": {},
   "source": [
    "## 転置\n",
    "\n",
    "配列を転置（軸の入れ替え）する場合は [transpose](https://numpy.org/doc/stable/reference/generated/numpy.transpose.html) メソッドを実行するか、 `T` 属性にアクセスします。"
   ]
  },
  {
   "cell_type": "code",
   "execution_count": 15,
   "id": "725596c9",
   "metadata": {},
   "outputs": [
    {
     "data": {
      "text/plain": [
       "array([[ 1,  2,  3],\n",
       "       [10, 20, 30]])"
      ]
     },
     "execution_count": 15,
     "metadata": {},
     "output_type": "execute_result"
    }
   ],
   "source": [
    "arr_2d.transpose()"
   ]
  },
  {
   "cell_type": "code",
   "execution_count": 16,
   "id": "2d03cdf2",
   "metadata": {},
   "outputs": [
    {
     "data": {
      "text/plain": [
       "array([[ 1,  2,  3],\n",
       "       [10, 20, 30]])"
      ]
     },
     "execution_count": 16,
     "metadata": {},
     "output_type": "execute_result"
    }
   ],
   "source": [
    "arr_2d.T"
   ]
  },
  {
   "cell_type": "code",
   "execution_count": 17,
   "id": "f95ab0b8",
   "metadata": {},
   "outputs": [
    {
     "data": {
      "text/plain": [
       "array([[[   1,  100],\n",
       "        [   2,  200],\n",
       "        [   3,  300]],\n",
       "\n",
       "       [[  10, 1000],\n",
       "        [  20, 2000],\n",
       "        [  30, 3000]]])"
      ]
     },
     "execution_count": 17,
     "metadata": {},
     "output_type": "execute_result"
    }
   ],
   "source": [
    "arr_3d.T"
   ]
  },
  {
   "cell_type": "markdown",
   "id": "090763ac",
   "metadata": {
    "raw_mimetype": "text/restructuredtext"
   },
   "source": [
    "## ndarrayオブジェクトの生成\n",
    "\n",
    "NumPyでは形状（各次元の要素数）を指定したり、特定の値や乱数で埋めた ``ndarray`` オブジェクトを生成できます。本項では ``ndarray`` オブジェクトのさまざまな生成方法を紹介します。\n",
    "\n",
    "``arange`` 関数は指定した範囲の配列を生成します。基本的な使い方はPython組込みの ``range`` 関数と同様です。引数を1つ渡した場合には渡した値が要素数となり、0から自然数が連番で割り当てられます。"
   ]
  },
  {
   "cell_type": "code",
   "execution_count": 13,
   "id": "1df78329",
   "metadata": {},
   "outputs": [
    {
     "data": {
      "text/plain": [
       "array([0, 1, 2])"
      ]
     },
     "execution_count": 13,
     "metadata": {},
     "output_type": "execute_result"
    }
   ],
   "source": [
    "np.arange(3)"
   ]
  },
  {
   "cell_type": "markdown",
   "id": "3bc02b99",
   "metadata": {
    "raw_mimetype": "text/restructuredtext"
   },
   "source": [
    "第1引数に開始位置、第2引数に終了位置（第2引数の値は含まれない）を指定すると、指定した範囲で配列を生成します。また、第3引数に増分値を指定できます。 ``range`` 関数とは異なり、 ``arange`` 関数は小数値も扱えます。"
   ]
  },
  {
   "cell_type": "code",
   "execution_count": 14,
   "id": "7b6a03be",
   "metadata": {},
   "outputs": [
    {
     "data": {
      "text/plain": [
       "array([0. , 0.5, 1. , 1.5, 2. ])"
      ]
     },
     "execution_count": 14,
     "metadata": {},
     "output_type": "execute_result"
    }
   ],
   "source": [
    "np.arange(0, 2.5, 0.5)"
   ]
  },
  {
   "cell_type": "markdown",
   "id": "74b33e44",
   "metadata": {},
   "source": [
    "`zeros` 関数では指定した要素分の配列を0で埋めて生成します。"
   ]
  },
  {
   "cell_type": "code",
   "execution_count": 15,
   "id": "4f403ae3",
   "metadata": {},
   "outputs": [
    {
     "data": {
      "text/plain": [
       "array([0., 0., 0.])"
      ]
     },
     "execution_count": 15,
     "metadata": {},
     "output_type": "execute_result"
    }
   ],
   "source": [
    "np.zeros(3)"
   ]
  },
  {
   "cell_type": "markdown",
   "id": "e02d4b98",
   "metadata": {
    "raw_mimetype": "text/restructuredtext"
   },
   "source": [
    "``ones`` 関数では1で埋めた配列を生成します。使い方は ``zeros`` 関数と同様です。要素数をリストやタプルで渡すと、多次元の配列を生成できます。次のコードでは2行2列の2次元配列を生成しています。"
   ]
  },
  {
   "cell_type": "code",
   "execution_count": 16,
   "id": "50691c7c",
   "metadata": {},
   "outputs": [
    {
     "data": {
      "text/plain": [
       "array([[1., 1.],\n",
       "       [1., 1.]])"
      ]
     },
     "execution_count": 16,
     "metadata": {},
     "output_type": "execute_result"
    }
   ],
   "source": [
    "np.ones([2, 2])"
   ]
  },
  {
   "cell_type": "markdown",
   "id": "a2c5fc7e",
   "metadata": {
    "raw_mimetype": "text/restructuredtext"
   },
   "source": [
    "``random`` モジュールにはさまざまな乱数を生成する関数が用意されています。次のコードでは連続一様分布で生成した乱数から3行3列の配列を生成しています。"
   ]
  },
  {
   "cell_type": "code",
   "execution_count": 17,
   "id": "913aa912",
   "metadata": {},
   "outputs": [
    {
     "data": {
      "text/plain": [
       "array([[0.51182162, 0.9504637 , 0.14415961],\n",
       "       [0.94864945, 0.31183145, 0.42332645],\n",
       "       [0.82770259, 0.40919914, 0.54959369]])"
      ]
     },
     "execution_count": 17,
     "metadata": {},
     "output_type": "execute_result"
    }
   ],
   "source": [
    "rng = np.random.default_rng(1)\n",
    "rng.random(size=(3, 3))"
   ]
  },
  {
   "cell_type": "raw",
   "id": "696f4665",
   "metadata": {
    "raw_mimetype": "text/restructuredtext"
   },
   "source": [
    ".. note::\n",
    "\n",
    "   ``random.default_rng`` 関数の引数を渡すことで乱数を固定します。出力結果を再現するためにこの関数を実行しています。"
   ]
  },
  {
   "cell_type": "markdown",
   "id": "5572651a",
   "metadata": {
    "raw_mimetype": "text/restructuredtext"
   },
   "source": [
    "## 要素へのアクセス\n",
    "\n",
    "``ndarray`` オブジェクトはリスト型と同様に要素の参照や代入が行えます。インデックスが多次元のデータに対応しており、組込みのリスト型などと比較してより柔軟に扱えます。本項では次の2つの配列にアクセスします。"
   ]
  },
  {
   "cell_type": "code",
   "execution_count": 18,
   "id": "c9301f7b",
   "metadata": {},
   "outputs": [
    {
     "data": {
      "text/plain": [
       "array([1, 2, 3])"
      ]
     },
     "execution_count": 18,
     "metadata": {},
     "output_type": "execute_result"
    }
   ],
   "source": [
    "arr1 = np.arange(1, 4)\n",
    "arr1"
   ]
  },
  {
   "cell_type": "markdown",
   "id": "8cfd6165",
   "metadata": {
    "raw_mimetype": "text/restructuredtext"
   },
   "source": [
    "``ndarray`` オブジェクトの ``reshape`` メソッドでは配列の形状を変更できます。次のコードでは12個の要素を持つ1次元配列を4行3列の2次元配列に変換しています。"
   ]
  },
  {
   "cell_type": "code",
   "execution_count": 19,
   "id": "02997abb",
   "metadata": {},
   "outputs": [
    {
     "data": {
      "text/plain": [
       "array([[ 1,  2,  3],\n",
       "       [ 4,  5,  6],\n",
       "       [ 7,  8,  9],\n",
       "       [10, 11, 12]])"
      ]
     },
     "execution_count": 19,
     "metadata": {},
     "output_type": "execute_result"
    }
   ],
   "source": [
    "arr2 = np.arange(1, 13).reshape(4, 3)\n",
    "arr2"
   ]
  },
  {
   "cell_type": "markdown",
   "id": "fcb31ea7",
   "metadata": {
    "raw_mimetype": "text/restructuredtext"
   },
   "source": [
    "要素を参照するには添字に位置を指定します。"
   ]
  },
  {
   "cell_type": "code",
   "execution_count": 20,
   "id": "b4780bb0",
   "metadata": {},
   "outputs": [
    {
     "data": {
      "text/plain": [
       "1"
      ]
     },
     "execution_count": 20,
     "metadata": {},
     "output_type": "execute_result"
    }
   ],
   "source": [
    "arr1[0]"
   ]
  },
  {
   "cell_type": "markdown",
   "id": "b3b0d7b5",
   "metadata": {
    "raw_mimetype": "text/restructuredtext"
   },
   "source": [
    "添字にはスライス記法が利用できます。次のコードでは0から数えて1番目から2番目の位置の要素を参照しています。"
   ]
  },
  {
   "cell_type": "code",
   "execution_count": 21,
   "id": "6e7c67bc",
   "metadata": {},
   "outputs": [
    {
     "data": {
      "text/plain": [
       "array([2, 3])"
      ]
     },
     "execution_count": 21,
     "metadata": {},
     "output_type": "execute_result"
    }
   ],
   "source": [
    "arr1[1:3]"
   ]
  },
  {
   "cell_type": "markdown",
   "id": "07fc9b29",
   "metadata": {
    "raw_mimetype": "text/restructuredtext"
   },
   "source": [
    "2次元の配列の場合、1次元の配列の各要素が1次元の配列をもつ構造になります。2次元の配列の位置を添字で指定すると、指定した位置の行が参照されます。"
   ]
  },
  {
   "cell_type": "code",
   "execution_count": 22,
   "id": "75c334ed",
   "metadata": {},
   "outputs": [
    {
     "data": {
      "text/plain": [
       "array([1, 2, 3])"
      ]
     },
     "execution_count": 22,
     "metadata": {},
     "output_type": "execute_result"
    }
   ],
   "source": [
    "arr2[0]"
   ]
  },
  {
   "cell_type": "markdown",
   "id": "71cb5483",
   "metadata": {
    "raw_mimetype": "text/restructuredtext"
   },
   "source": [
    "添字には各次元の位置をカンマで区切って指定できます。次のコードでは2行3列目の要素を参照できます。"
   ]
  },
  {
   "cell_type": "code",
   "execution_count": 23,
   "id": "66bffb13",
   "metadata": {},
   "outputs": [
    {
     "data": {
      "text/plain": [
       "6"
      ]
     },
     "execution_count": 23,
     "metadata": {},
     "output_type": "execute_result"
    }
   ],
   "source": [
    "arr2[1, 2]"
   ]
  },
  {
   "cell_type": "markdown",
   "id": "30db068c",
   "metadata": {
    "raw_mimetype": "text/restructuredtext"
   },
   "source": [
    "特定の次元の要素をスライス記法で参照もできます。次のコードでは0行目1-2列目の要素を参照しています。"
   ]
  },
  {
   "cell_type": "code",
   "execution_count": 24,
   "id": "0e4c2715",
   "metadata": {},
   "outputs": [
    {
     "data": {
      "text/plain": [
       "array([2, 3])"
      ]
     },
     "execution_count": 24,
     "metadata": {},
     "output_type": "execute_result"
    }
   ],
   "source": [
    "arr2[0, 1:3]"
   ]
  },
  {
   "cell_type": "markdown",
   "id": "1ab158ed",
   "metadata": {},
   "source": [
    "リスト型と同様に添字に指定した位置に値を代入できます。"
   ]
  },
  {
   "cell_type": "code",
   "execution_count": 25,
   "id": "4703bef0",
   "metadata": {},
   "outputs": [
    {
     "data": {
      "text/plain": [
       "array([ 1, 10,  3])"
      ]
     },
     "execution_count": 25,
     "metadata": {},
     "output_type": "execute_result"
    }
   ],
   "source": [
    "arr1[1] = 10\n",
    "arr1"
   ]
  },
  {
   "cell_type": "code",
   "execution_count": 26,
   "id": "7aa523d5",
   "metadata": {},
   "outputs": [
    {
     "data": {
      "text/plain": [
       "array([[  1,   2,   3],\n",
       "       [100, 100,   6],\n",
       "       [  7,   8,   9],\n",
       "       [ 10,  11,  12]])"
      ]
     },
     "execution_count": 26,
     "metadata": {},
     "output_type": "execute_result"
    }
   ],
   "source": [
    "arr2[1, :2] = 100\n",
    "arr2"
   ]
  },
  {
   "cell_type": "markdown",
   "id": "8cfb3b30",
   "metadata": {},
   "source": [
    "[where](https://numpy.org/doc/stable/reference/generated/numpy.where.html) 関数は条件に合致した要素のインデックスを返します。次のコードでは `arr3` の要素が2に該当するインデックスを取得しています。"
   ]
  },
  {
   "cell_type": "code",
   "execution_count": 35,
   "id": "914ee014",
   "metadata": {},
   "outputs": [
    {
     "data": {
      "text/plain": [
       "(array([1, 3]),)"
      ]
     },
     "execution_count": 35,
     "metadata": {},
     "output_type": "execute_result"
    }
   ],
   "source": [
    "arr3 = np.array([1, 2, 1, 2])\n",
    "np.where(arr3 == 2)"
   ]
  },
  {
   "cell_type": "markdown",
   "id": "807bf238",
   "metadata": {},
   "source": [
    "次のコードでは `arr3` の要素が2より小さい場合に該当するインデックスを取得しています。"
   ]
  },
  {
   "cell_type": "code",
   "execution_count": 36,
   "id": "d294302a",
   "metadata": {},
   "outputs": [
    {
     "data": {
      "text/plain": [
       "(array([0, 2]),)"
      ]
     },
     "execution_count": 36,
     "metadata": {},
     "output_type": "execute_result"
    }
   ],
   "source": [
    "np.where(arr3 < 2)"
   ]
  },
  {
   "cell_type": "markdown",
   "id": "2d5d8de1",
   "metadata": {},
   "source": [
    "`where` 関数の実行結果を配列の添字に渡せます。次のコードでは `arr3` から要素の値が2であるデータを抽出しています。"
   ]
  },
  {
   "cell_type": "code",
   "execution_count": 34,
   "id": "50780869",
   "metadata": {},
   "outputs": [
    {
     "data": {
      "text/plain": [
       "array([2, 2])"
      ]
     },
     "execution_count": 34,
     "metadata": {},
     "output_type": "execute_result"
    }
   ],
   "source": [
    "arr3[np.where(arr3 == 2)]"
   ]
  },
  {
   "cell_type": "markdown",
   "id": "b365ee7b",
   "metadata": {},
   "source": [
    "値を代入することで、指定した条件の要素を変更できます。"
   ]
  },
  {
   "cell_type": "code",
   "execution_count": 38,
   "id": "f24d580d",
   "metadata": {},
   "outputs": [
    {
     "data": {
      "text/plain": [
       "array([ 1, 22,  1, 22])"
      ]
     },
     "execution_count": 38,
     "metadata": {},
     "output_type": "execute_result"
    }
   ],
   "source": [
    "arr3[np.where(arr3 == 2)] = 22\n",
    "arr3"
   ]
  },
  {
   "cell_type": "markdown",
   "id": "674dd015",
   "metadata": {
    "raw_mimetype": "text/restructuredtext"
   },
   "source": [
    "## ブロードキャスト\n",
    "\n",
    "複数の要素を数値演算するケースを考えてみます。さまざまな方法がありますが、例としてPythonの組み込みのリストを次のコードのようにfor文で繰り返して処理する方法が挙げられます。"
   ]
  },
  {
   "cell_type": "code",
   "execution_count": 39,
   "id": "2655e8d8",
   "metadata": {},
   "outputs": [
    {
     "data": {
      "text/plain": [
       "[2, 3, 4]"
      ]
     },
     "execution_count": 39,
     "metadata": {},
     "output_type": "execute_result"
    }
   ],
   "source": [
    "li = [1, 2, 3]\n",
    "[x + 1 for x in li]"
   ]
  },
  {
   "cell_type": "markdown",
   "id": "9c319516",
   "metadata": {
    "raw_mimetype": "text/restructuredtext"
   },
   "source": [
    "このように、組込み型で数値演算を行うには冗長となり、処理速度にも課題があります。 ``ndarray`` オブジェクトではブロードキャスト演算が行えます。次のコードのように配列に対して演算子を利用した演算ができ、高速に処理できます。 "
   ]
  },
  {
   "cell_type": "code",
   "execution_count": 40,
   "id": "41cb9d6e",
   "metadata": {},
   "outputs": [
    {
     "data": {
      "text/plain": [
       "array([2, 3, 4])"
      ]
     },
     "execution_count": 40,
     "metadata": {},
     "output_type": "execute_result"
    }
   ],
   "source": [
    "arr1 = np.array([1, 2, 3])\n",
    "arr1 + 1"
   ]
  },
  {
   "cell_type": "markdown",
   "id": "c458a173",
   "metadata": {
    "raw_mimetype": "text/restructuredtext"
   },
   "source": [
    "次のコードのように配列同士の演算も演算子が利用できます。"
   ]
  },
  {
   "cell_type": "code",
   "execution_count": 41,
   "id": "9b852a3e",
   "metadata": {},
   "outputs": [
    {
     "data": {
      "text/plain": [
       "array([[ 1,  2,  3],\n",
       "       [ 4,  5,  6],\n",
       "       [ 7,  8,  9],\n",
       "       [10, 11, 12]])"
      ]
     },
     "execution_count": 41,
     "metadata": {},
     "output_type": "execute_result"
    }
   ],
   "source": [
    "arr2 = np.arange(1, 13).reshape(4, 3)\n",
    "arr2"
   ]
  },
  {
   "cell_type": "code",
   "execution_count": 42,
   "id": "29cdc8e8",
   "metadata": {},
   "outputs": [
    {
     "data": {
      "text/plain": [
       "array([[ 2,  4,  6],\n",
       "       [ 5,  7,  9],\n",
       "       [ 8, 10, 12],\n",
       "       [11, 13, 15]])"
      ]
     },
     "execution_count": 42,
     "metadata": {},
     "output_type": "execute_result"
    }
   ],
   "source": [
    "arr1 + arr2"
   ]
  },
  {
   "cell_type": "markdown",
   "id": "e3f9740f",
   "metadata": {
    "raw_mimetype": "text/restructuredtext"
   },
   "source": [
    "## 関数の適用\n",
    "\n",
    "``ndarray`` オブジェクトの全ての要素に対して関数を適用する仕組みがあります。このような関数をユニバーサル関数または略してufuncなどと表記されます。\n",
    "\n",
    "> [Universal functions > Math operations](https://numpy.org/doc/stable/reference/ufuncs.html#math-operations)\n",
    "\n",
    "次のコードでは ``power`` 関数を利用して配列のべき乗を算出しています。"
   ]
  },
  {
   "cell_type": "code",
   "execution_count": 43,
   "id": "18a2849f",
   "metadata": {},
   "outputs": [
    {
     "data": {
      "text/plain": [
       "array([[     1,      4,     27],\n",
       "       [     1,     32,    729],\n",
       "       [     1,    256,  19683],\n",
       "       [     1,   2048, 531441]])"
      ]
     },
     "execution_count": 43,
     "metadata": {},
     "output_type": "execute_result"
    }
   ],
   "source": [
    "np.power(arr1, arr2)"
   ]
  },
  {
   "cell_type": "markdown",
   "id": "54ce47da",
   "metadata": {
    "raw_mimetype": "text/restructuredtext"
   },
   "source": [
    "``ndarray`` オブジェクトにはNumPyの関数のほか、組込み関数やユーザが作成した関数を適用できます。次のコードでは組込みの ``abs`` 関数を利用して絶対値を算出しています。この ``abs`` 関数のように単一の値（スカラ型）を引数とする関数を適用した場合には、それぞれの要素に対して関数が適用されます。"
   ]
  },
  {
   "cell_type": "code",
   "execution_count": 44,
   "id": "6c8ac1fe",
   "metadata": {},
   "outputs": [
    {
     "data": {
      "text/plain": [
       "array([1, 2, 3])"
      ]
     },
     "execution_count": 44,
     "metadata": {},
     "output_type": "execute_result"
    }
   ],
   "source": [
    "abs(np.array([1, -2, 3]))"
   ]
  },
  {
   "cell_type": "markdown",
   "id": "e12cd273",
   "metadata": {
    "raw_mimetype": "text/restructuredtext"
   },
   "source": [
    "次の組込みの ``sum`` 関数のように複数の値（イテラブル）を引数とする関数を適用した場合には、すべてのデータに対して関数が適用されます。"
   ]
  },
  {
   "cell_type": "code",
   "execution_count": 45,
   "id": "e1982c45",
   "metadata": {},
   "outputs": [
    {
     "data": {
      "text/plain": [
       "6"
      ]
     },
     "execution_count": 45,
     "metadata": {},
     "output_type": "execute_result"
    }
   ],
   "source": [
    "sum(np.array([1, 2, 3]))"
   ]
  },
  {
   "cell_type": "markdown",
   "id": "c7ed95d3",
   "metadata": {},
   "source": [
    "次のコードでは `my_func` という関数を作成し、配列に適用しています。"
   ]
  },
  {
   "cell_type": "code",
   "execution_count": 46,
   "id": "70ab4c76",
   "metadata": {},
   "outputs": [
    {
     "data": {
      "text/plain": [
       "array([ 2,  5, 10])"
      ]
     },
     "execution_count": 46,
     "metadata": {},
     "output_type": "execute_result"
    }
   ],
   "source": [
    "def my_func(x):\n",
    "    return x ** 2 + 1\n",
    "\n",
    "\n",
    "my_func(arr1)"
   ]
  },
  {
   "cell_type": "markdown",
   "id": "2561a7f6",
   "metadata": {},
   "source": [
    "## メソッドの適用\n",
    "\n",
    "`ndarray` 型には配列を操作するさまざまなメソッドが用意されています。代表的なメソッドを次に挙げます。\n",
    "\n",
    "- 記述統計\n",
    "  - `sum` , `mean` , `std`\n",
    "- 形状の操作\n",
    "  - `reshape` , `flatten`\n",
    "- ブール演算\n",
    "  - `all` , `any`"
   ]
  },
  {
   "cell_type": "markdown",
   "id": "bcc45a6d",
   "metadata": {},
   "source": [
    "次のコードでは `mean` メソッドを実行して配列の算術平均値を算出しています。"
   ]
  },
  {
   "cell_type": "code",
   "execution_count": 47,
   "id": "8fc00481",
   "metadata": {},
   "outputs": [
    {
     "data": {
      "text/plain": [
       "array([1, 2, 3])"
      ]
     },
     "execution_count": 47,
     "metadata": {},
     "output_type": "execute_result"
    }
   ],
   "source": [
    "arr1"
   ]
  },
  {
   "cell_type": "code",
   "execution_count": 48,
   "id": "4599dd37",
   "metadata": {},
   "outputs": [
    {
     "data": {
      "text/plain": [
       "2.0"
      ]
     },
     "execution_count": 48,
     "metadata": {},
     "output_type": "execute_result"
    }
   ],
   "source": [
    "arr1.mean()"
   ]
  },
  {
   "cell_type": "markdown",
   "id": "40064d4f",
   "metadata": {},
   "source": [
    "次のコードでは `sum` メソッドを実行して配列の合計値を算出しています。"
   ]
  },
  {
   "cell_type": "code",
   "execution_count": 49,
   "id": "54ad8857",
   "metadata": {},
   "outputs": [
    {
     "data": {
      "text/plain": [
       "array([[ 1,  2,  3],\n",
       "       [ 4,  5,  6],\n",
       "       [ 7,  8,  9],\n",
       "       [10, 11, 12]])"
      ]
     },
     "execution_count": 49,
     "metadata": {},
     "output_type": "execute_result"
    }
   ],
   "source": [
    "arr2"
   ]
  },
  {
   "cell_type": "code",
   "execution_count": 50,
   "id": "1b6e0c7e",
   "metadata": {},
   "outputs": [
    {
     "data": {
      "text/plain": [
       "78"
      ]
     },
     "execution_count": 50,
     "metadata": {},
     "output_type": "execute_result"
    }
   ],
   "source": [
    "arr2.sum()"
   ]
  },
  {
   "cell_type": "markdown",
   "id": "8baf3df5",
   "metadata": {},
   "source": [
    "次のコードではブール演算をしています。   \n",
    "`all` メソッドはすべての要素が `True` の場合は `True` を返し、それ以外は `False` を返します。  \n",
    "`any` メソッドはいずれかの要素が `True` の場合は `True` を返し、それ以外は `False` を返します。"
   ]
  },
  {
   "cell_type": "code",
   "execution_count": 51,
   "id": "cf2f1a4c",
   "metadata": {},
   "outputs": [],
   "source": [
    "arr_bool1 = np.array([True, True, True])\n",
    "arr_bool2 = np.array([True, False, True])\n",
    "arr_bool3 = np.array([False, False, False])"
   ]
  },
  {
   "cell_type": "code",
   "execution_count": 52,
   "id": "56ce11a0",
   "metadata": {},
   "outputs": [
    {
     "data": {
      "text/plain": [
       "True"
      ]
     },
     "execution_count": 52,
     "metadata": {},
     "output_type": "execute_result"
    }
   ],
   "source": [
    "arr_bool1.all()"
   ]
  },
  {
   "cell_type": "code",
   "execution_count": 53,
   "id": "cd966272",
   "metadata": {},
   "outputs": [
    {
     "data": {
      "text/plain": [
       "False"
      ]
     },
     "execution_count": 53,
     "metadata": {},
     "output_type": "execute_result"
    }
   ],
   "source": [
    "arr_bool2.all()"
   ]
  },
  {
   "cell_type": "code",
   "execution_count": 54,
   "id": "7a22a3f7",
   "metadata": {},
   "outputs": [
    {
     "data": {
      "text/plain": [
       "False"
      ]
     },
     "execution_count": 54,
     "metadata": {},
     "output_type": "execute_result"
    }
   ],
   "source": [
    "arr_bool3.all()"
   ]
  },
  {
   "cell_type": "code",
   "execution_count": 55,
   "id": "149743e9",
   "metadata": {},
   "outputs": [
    {
     "data": {
      "text/plain": [
       "True"
      ]
     },
     "execution_count": 55,
     "metadata": {},
     "output_type": "execute_result"
    }
   ],
   "source": [
    "arr_bool1.any()"
   ]
  },
  {
   "cell_type": "code",
   "execution_count": 56,
   "id": "829fba45",
   "metadata": {},
   "outputs": [
    {
     "data": {
      "text/plain": [
       "True"
      ]
     },
     "execution_count": 56,
     "metadata": {},
     "output_type": "execute_result"
    }
   ],
   "source": [
    "arr_bool2.any()"
   ]
  },
  {
   "cell_type": "code",
   "execution_count": 57,
   "id": "fe56197d",
   "metadata": {},
   "outputs": [
    {
     "data": {
      "text/plain": [
       "False"
      ]
     },
     "execution_count": 57,
     "metadata": {},
     "output_type": "execute_result"
    }
   ],
   "source": [
    "arr_bool3.any()"
   ]
  },
  {
   "cell_type": "markdown",
   "id": "5705dfc4",
   "metadata": {},
   "source": [
    "多次元配列の場合はメソッドの引数 `axis` に指定した軸に対して演算します。"
   ]
  },
  {
   "cell_type": "code",
   "execution_count": 58,
   "id": "de89bd2e",
   "metadata": {},
   "outputs": [
    {
     "data": {
      "text/plain": [
       "array([[ 1,  2,  3],\n",
       "       [ 4,  5,  6],\n",
       "       [ 7,  8,  9],\n",
       "       [10, 11, 12]])"
      ]
     },
     "execution_count": 58,
     "metadata": {},
     "output_type": "execute_result"
    }
   ],
   "source": [
    "arr2"
   ]
  },
  {
   "cell_type": "code",
   "execution_count": 59,
   "id": "70f3e7ee",
   "metadata": {},
   "outputs": [
    {
     "data": {
      "text/plain": [
       "array([22, 26, 30])"
      ]
     },
     "execution_count": 59,
     "metadata": {},
     "output_type": "execute_result"
    }
   ],
   "source": [
    "arr2.sum(axis=0)"
   ]
  },
  {
   "cell_type": "code",
   "execution_count": 60,
   "id": "672751f8",
   "metadata": {},
   "outputs": [
    {
     "data": {
      "text/plain": [
       "array([ 6, 15, 24, 33])"
      ]
     },
     "execution_count": 60,
     "metadata": {},
     "output_type": "execute_result"
    }
   ],
   "source": [
    "arr2.sum(axis=1)"
   ]
  },
  {
   "cell_type": "markdown",
   "id": "21610987",
   "metadata": {},
   "source": [
    "軸（axis）の概念は少々複雑であるため、補足します。まずは0番目の次元（ `axis=0` ）に該当する要素を取り出してみます。"
   ]
  },
  {
   "cell_type": "code",
   "execution_count": 61,
   "id": "86b2b3b1",
   "metadata": {},
   "outputs": [
    {
     "data": {
      "text/plain": [
       "array([1, 2, 3])"
      ]
     },
     "execution_count": 61,
     "metadata": {},
     "output_type": "execute_result"
    }
   ],
   "source": [
    "arr2[0, :]"
   ]
  },
  {
   "cell_type": "code",
   "execution_count": 62,
   "id": "0dc8497b",
   "metadata": {},
   "outputs": [
    {
     "data": {
      "text/plain": [
       "array([4, 5, 6])"
      ]
     },
     "execution_count": 62,
     "metadata": {},
     "output_type": "execute_result"
    }
   ],
   "source": [
    "arr2[1, :]"
   ]
  },
  {
   "cell_type": "code",
   "execution_count": 63,
   "id": "a1714611",
   "metadata": {},
   "outputs": [
    {
     "data": {
      "text/plain": [
       "array([7, 8, 9])"
      ]
     },
     "execution_count": 63,
     "metadata": {},
     "output_type": "execute_result"
    }
   ],
   "source": [
    "arr2[2, :]"
   ]
  },
  {
   "cell_type": "code",
   "execution_count": 64,
   "id": "28198ec9",
   "metadata": {},
   "outputs": [
    {
     "data": {
      "text/plain": [
       "array([10, 11, 12])"
      ]
     },
     "execution_count": 64,
     "metadata": {},
     "output_type": "execute_result"
    }
   ],
   "source": [
    "arr2[3, :]"
   ]
  },
  {
   "cell_type": "markdown",
   "id": "608bb7b1",
   "metadata": {},
   "source": [
    "取り出された要素を、順番に演算していきます。\n",
    "この場合では0番目の要素となる `1, 4, 7, 10` が演算され、次に1番目の要素が `2, 5, 8, 11` が演算されます。"
   ]
  },
  {
   "cell_type": "code",
   "execution_count": 65,
   "id": "139f5e57",
   "metadata": {},
   "outputs": [
    {
     "data": {
      "text/plain": [
       "22"
      ]
     },
     "execution_count": 65,
     "metadata": {},
     "output_type": "execute_result"
    }
   ],
   "source": [
    "arr2.sum(axis=0)[0]  # == sum([1, 4, 7, 10])"
   ]
  },
  {
   "cell_type": "code",
   "execution_count": 66,
   "id": "4caa5f6f",
   "metadata": {},
   "outputs": [
    {
     "data": {
      "text/plain": [
       "26"
      ]
     },
     "execution_count": 66,
     "metadata": {},
     "output_type": "execute_result"
    }
   ],
   "source": [
    "arr2.sum(axis=0)[1]  # == sum([2, 5, 8, 11])"
   ]
  },
  {
   "cell_type": "markdown",
   "id": "55473291",
   "metadata": {},
   "source": [
    "\n",
    "同様に1番目の次元（ `axis=1` )に該当する要素を取り出してみます。"
   ]
  },
  {
   "cell_type": "code",
   "execution_count": 67,
   "id": "63e5d5f3",
   "metadata": {},
   "outputs": [
    {
     "data": {
      "text/plain": [
       "array([10, 11, 12])"
      ]
     },
     "execution_count": 67,
     "metadata": {},
     "output_type": "execute_result"
    }
   ],
   "source": [
    "arr2[3, :]"
   ]
  },
  {
   "cell_type": "code",
   "execution_count": 68,
   "id": "9899aa7d",
   "metadata": {},
   "outputs": [
    {
     "data": {
      "text/plain": [
       "array([ 1,  4,  7, 10])"
      ]
     },
     "execution_count": 68,
     "metadata": {},
     "output_type": "execute_result"
    }
   ],
   "source": [
    "arr2[:, 0]"
   ]
  },
  {
   "cell_type": "code",
   "execution_count": 69,
   "id": "4b0a4cdd",
   "metadata": {},
   "outputs": [
    {
     "data": {
      "text/plain": [
       "array([ 2,  5,  8, 11])"
      ]
     },
     "execution_count": 69,
     "metadata": {},
     "output_type": "execute_result"
    }
   ],
   "source": [
    "arr2[:, 1]"
   ]
  },
  {
   "cell_type": "code",
   "execution_count": 70,
   "id": "ab2099c9",
   "metadata": {},
   "outputs": [
    {
     "data": {
      "text/plain": [
       "array([ 3,  6,  9, 12])"
      ]
     },
     "execution_count": 70,
     "metadata": {},
     "output_type": "execute_result"
    }
   ],
   "source": [
    "arr2[:, 2]"
   ]
  },
  {
   "cell_type": "markdown",
   "id": "6e9c222e",
   "metadata": {},
   "source": [
    "1番目の次元も取り出された要素を、順番に演算していきます。\n",
    "この場合では0番目の要素となる `1, 2, 3` が演算され、次に1番目の要素が `4, 5, 6` が演算されます。"
   ]
  },
  {
   "cell_type": "code",
   "execution_count": 71,
   "id": "dead118a",
   "metadata": {},
   "outputs": [
    {
     "data": {
      "text/plain": [
       "6"
      ]
     },
     "execution_count": 71,
     "metadata": {},
     "output_type": "execute_result"
    }
   ],
   "source": [
    "arr2.sum(axis=1)[0]  # == sum([1, 2, 3])"
   ]
  },
  {
   "cell_type": "code",
   "execution_count": 72,
   "id": "55e19f56",
   "metadata": {},
   "outputs": [
    {
     "data": {
      "text/plain": [
       "15"
      ]
     },
     "execution_count": 72,
     "metadata": {},
     "output_type": "execute_result"
    }
   ],
   "source": [
    "arr2.sum(axis=1)[1]  # == sum([4, 5, 6])"
   ]
  },
  {
   "cell_type": "markdown",
   "id": "c8a9d96e",
   "metadata": {},
   "source": [
    "## 乱数の生成\n",
    "\n",
    "NumPyでは [PCG64](https://numpy.org/doc/stable/reference/random/bit_generators/pcg64.html#numpy.random.PCG64) という擬似乱数生成器を利用して乱数の値や配列を生成できます。\n",
    "\n",
    "乱数を生成するには [default_rng](https://numpy.org/doc/stable/reference/random/generator.html#numpy.random.default_rng) 関数を実行し、 [Generator](https://numpy.org/doc/stable/reference/random/generator.html#numpy.random.Generator) インスタンスを生成します。\n",
    "\n",
    "```{warning}\n",
    "以前のNumPyでは [メルセンヌ・ツイスタ（MT19937）](https://numpy.org/doc/stable/reference/random/bit_generators/mt19937.html#numpy.random.MT19937) という擬似乱数列生成器が利用されていました。\n",
    "\n",
    "`np.random.random()` のように記述されたコードは [legacy generators](https://numpy.org/doc/stable/reference/random/legacy.html) と呼ばれ、非推奨となっています。\n",
    "\n",
    "```"
   ]
  },
  {
   "cell_type": "code",
   "execution_count": 73,
   "id": "97e31c56",
   "metadata": {},
   "outputs": [
    {
     "data": {
      "text/plain": [
       "numpy.random._generator.Generator"
      ]
     },
     "execution_count": 73,
     "metadata": {},
     "output_type": "execute_result"
    }
   ],
   "source": [
    "from numpy.random import default_rng\n",
    "\n",
    "rng = default_rng(1)\n",
    "type(rng)"
   ]
  },
  {
   "cell_type": "markdown",
   "id": "68809baf",
   "metadata": {},
   "source": [
    "[random](https://numpy.org/doc/stable/reference/random/generated/numpy.random.Generator.random.html) メソッドは0から1までのランダムな少数値を返します。"
   ]
  },
  {
   "cell_type": "code",
   "execution_count": 74,
   "id": "14e5c8a1",
   "metadata": {},
   "outputs": [
    {
     "data": {
      "text/plain": [
       "0.5118216247002567"
      ]
     },
     "execution_count": 74,
     "metadata": {},
     "output_type": "execute_result"
    }
   ],
   "source": [
    "rng.random()"
   ]
  },
  {
   "cell_type": "markdown",
   "id": "54e2e8d6",
   "metadata": {},
   "source": [
    "配列を生成する場合は引数 `size` に要素数を渡します。"
   ]
  },
  {
   "cell_type": "code",
   "execution_count": 75,
   "id": "97620485",
   "metadata": {},
   "outputs": [
    {
     "data": {
      "text/plain": [
       "array([0.9504637 , 0.14415961, 0.94864945])"
      ]
     },
     "execution_count": 75,
     "metadata": {},
     "output_type": "execute_result"
    }
   ],
   "source": [
    "rng.random(size=3)"
   ]
  },
  {
   "cell_type": "markdown",
   "id": "ab93cdc6",
   "metadata": {},
   "source": [
    "多次元の配列を生成するには次元ごとの要素数を格納したリストやタプルなどを渡します。次のコードでは3行2列（0次元目が3、1次元目が2）の乱数をもつ配列生成しています。"
   ]
  },
  {
   "cell_type": "code",
   "execution_count": 76,
   "id": "05386d04",
   "metadata": {},
   "outputs": [
    {
     "data": {
      "text/plain": [
       "array([[0.31183145, 0.42332645],\n",
       "       [0.82770259, 0.40919914],\n",
       "       [0.54959369, 0.02755911]])"
      ]
     },
     "execution_count": 76,
     "metadata": {},
     "output_type": "execute_result"
    }
   ],
   "source": [
    "rng.random(size=(3, 2))"
   ]
  },
  {
   "cell_type": "markdown",
   "id": "0d4c6824",
   "metadata": {},
   "source": [
    "[normal](https://numpy.org/doc/stable/reference/random/generated/numpy.random.Generator.normal.html) メソッドは標準正規分布に従う乱数を生成します。デフォルトでは平均0、標準偏差1の乱数を生成します。"
   ]
  },
  {
   "cell_type": "code",
   "execution_count": 77,
   "id": "fb0b350d",
   "metadata": {},
   "outputs": [
    {
     "data": {
      "text/plain": [
       "array([ 0.02842224,  0.54671299, -0.73645409, -0.16290995, -0.48211931,\n",
       "        0.59884621,  0.03972211, -0.29245675, -0.78190846, -0.25719224])"
      ]
     },
     "execution_count": 77,
     "metadata": {},
     "output_type": "execute_result"
    }
   ],
   "source": [
    "rng.normal(size=10)"
   ]
  },
  {
   "cell_type": "markdown",
   "id": "743abfcb",
   "metadata": {},
   "source": [
    "平均値は引数 `loc` 、標準偏差は引数 `scale` で指定できます。"
   ]
  },
  {
   "cell_type": "code",
   "execution_count": 78,
   "id": "d4c4dd43",
   "metadata": {},
   "outputs": [
    {
     "data": {
      "text/plain": [
       "array([[   5.81421805,  -22.56029053,  134.40638144,  105.67243153,\n",
       "        -266.1162479 ],\n",
       "       [-183.9013246 ,  -12.47720921,  -37.21904116,   26.36429975,\n",
       "          26.7321931 ],\n",
       "       [ 216.78387551, -106.20207627,  -32.76050071,  209.27716075,\n",
       "          69.67029962],\n",
       "       [  71.30633724,  -46.40063717, -159.80751709,   21.74647442,\n",
       "          15.90140878],\n",
       "       [-117.73520542,  -63.32266618,   -2.20436797,  -89.47516231,\n",
       "          -4.82699679]])"
      ]
     },
     "execution_count": 78,
     "metadata": {},
     "output_type": "execute_result"
    }
   ],
   "source": [
    "rng.normal(loc=5, scale=100, size=(5, 5))"
   ]
  },
  {
   "cell_type": "markdown",
   "id": "ce81f646",
   "metadata": {},
   "source": [
    "次のコードでは `normal` メソッドによって生成されたデータをPloly Expressを利用して、ヒストグラムに可視化しています。Ploly Expressについては別の資料で解説します。"
   ]
  },
  {
   "cell_type": "code",
   "execution_count": 82,
   "id": "96bbd42c",
   "metadata": {},
   "outputs": [
    {
     "data": {
      "application/vnd.plotly.v1+json": {
       "config": {
        "plotlyServerURL": "https://plot.ly"
       },
       "data": [
        {
         "alignmentgroup": "True",
         "bingroup": "x",
         "hovertemplate": "variable=0<br>value=%{x}<br>count=%{y}<extra></extra>",
         "legendgroup": "0",
         "marker": {
          "color": "#636efa",
          "pattern": {
           "shape": ""
          }
         },
         "name": "0",
         "offsetgroup": "0",
         "orientation": "v",
         "showlegend": true,
         "type": "histogram",
         "x": [
          0.13527022548244338,
          -1.7094648044918936,
          0.48361928725301506,
          -1.326905535789353,
          -1.5207624555751316,
          -1.5621201032214072,
          2.304392161318247,
          -2.1863035261122246,
          -0.40799665496219484,
          -0.3241753819202489,
          1.5046194308728564,
          2.6168086671419175,
          1.1327788408828168,
          0.09015092243604486,
          0.6848871610411773,
          0.49164099948874174,
          0.4099588322927017,
          -1.2593776799153984,
          -0.31120489092752507,
          0.40087989461728885,
          1.1100126537556576,
          -0.05901832039477048,
          1.2256528548167271,
          1.3602362411145494,
          -0.09975902604738836,
          -0.08537017232855579,
          -2.0658367504577244,
          1.1331733790496679,
          -0.7044748806854929,
          1.6806893421441134,
          2.518677201120199,
          1.1092293538925078,
          -0.23124709594767814,
          0.5672783652890201,
          -0.22405120998470618,
          -0.8011904693158332,
          0.39233554322571484,
          0.4426186266408609,
          -0.552694243532166,
          -0.4709958934136399,
          1.477207659312199,
          -2.2093254845660764,
          -0.1546128062633252,
          1.2093952459410011,
          1.7859275248180624,
          -0.130724885112729,
          0.061281782884242644,
          -1.7212173934425885,
          -0.9664930487672385,
          -1.4199296564190238,
          -1.0820813363665251,
          -1.35544719385285,
          2.21275407826651,
          1.4240854574146944,
          -0.4736866865593837,
          -1.4587970462922648,
          -1.282771095221523,
          1.0196611135529976,
          0.11798680241387487,
          0.3685330941731586,
          0.26066232194059186,
          0.6375125909201975,
          -0.688992883627134,
          0.7269857953841011,
          1.4846995324539791,
          -1.7881062039377986,
          0.4322018361208407,
          -0.9465936260333598,
          -2.0851685205129287,
          -0.8696062958831071,
          0.2455486424969843,
          0.07315434820684714,
          0.21584850645834294,
          0.6446758269587296,
          -1.2554329696461075,
          -1.2007958861212866,
          0.26718248477796563,
          -0.032921478933344045,
          -1.583996650164866,
          0.6673178515705283,
          0.7150692123512431,
          0.9010487812212036,
          -0.5928950319735959,
          1.1028968201618718,
          0.9053854382612428,
          0.16985623145427306,
          2.5877755462986003,
          1.3174169017501414,
          0.6015529877717578,
          -0.6609286275554603,
          -0.019593024497642005,
          -1.4560808624581822,
          0.896504816790137,
          -0.8732381530010737,
          -0.436031051090587,
          -0.6501627617301453,
          1.3917575725504656,
          1.0146052523473332,
          0.9119910621553996,
          0.13348816939238167,
          0.8136971240722191,
          0.3372508079597027,
          0.5276186885884442,
          -0.004668320829465925,
          1.3511594823599575,
          -0.8629228860507597,
          1.833454915298189,
          -0.400425741781052,
          0.4414260955179398,
          -0.7413241240867411,
          -1.0066583138077052,
          -0.694247003532898,
          0.5603099517906969,
          -0.4719961830257591,
          0.3027123231441948,
          1.6004211494261167,
          -1.1126798850572905,
          0.030826594983718095,
          1.3546457083769488,
          0.7997544076906075,
          0.3341023332891314,
          -0.2616381782540083,
          0.6930450615654697,
          0.2022850119042335,
          -1.0808452183930517,
          -0.07670020471204264,
          1.515482847837814,
          -1.2008835520937098,
          -0.6930660539673,
          1.213500848354095,
          0.4954247372250013,
          -0.3530521722385248,
          1.5464378356672654,
          -0.7155695543130772,
          -0.2100676722501866,
          0.9915399690735721,
          0.5173191734443092,
          0.03815125869992586,
          -0.5231425086629662,
          -1.3885076737029982,
          -0.11792208419472003,
          -0.4275873120343498,
          1.0826180997808352,
          -1.369886896523382,
          2.308168393550909,
          0.5465739001478344,
          -1.4357404250922634,
          -2.845111939906192,
          1.892724519210419,
          -0.624572765572716,
          -0.44522490532489567,
          0.8895389186843442,
          -1.113606700892662,
          -1.011744986368409,
          1.7652644266202049,
          -0.41950810011307593,
          0.9459599143982436,
          -1.3894586208732815,
          0.5793875080921415,
          0.4164569294510272,
          0.960195350917309,
          1.9091614828098737,
          -1.2530166452464715,
          0.7085017972639718,
          -1.4341535219568666,
          -0.36847334809935495,
          -0.6540941274994367,
          -0.2911371790448783,
          0.28295414748443676,
          -0.38383766362415217,
          0.8846674561909705,
          -0.4956364204296559,
          0.45203540208200504,
          -1.1663730890235207,
          1.3714835686735838,
          1.224059640631612,
          -0.38242047756479836,
          -0.8209162379471936,
          -1.3239407636286291,
          0.5582669146518241,
          0.6307651945758442,
          -1.7061369335442778,
          -0.4534923103309088,
          -1.2028821589174135,
          -0.7772977197296272,
          0.3048186432892856,
          1.2146247409388315,
          0.6127130435651106,
          -1.274619424339652,
          1.1254855934454309,
          2.3852634752646353,
          0.850955232728407,
          2.0453590186703545,
          -0.48221324286590417,
          1.3426631925749701,
          0.28475823443222176,
          -1.664261602639101,
          0.3678792386343405,
          1.8961751271161287,
          -1.4471470141063838,
          -0.4117752185593837,
          -1.913964269551236,
          0.7571812203692861,
          -0.805077946135624,
          0.662271137518239,
          0.5066110057519626,
          1.1365327078052891,
          0.5422762673938629,
          2.7710851670111154,
          0.1678417297052509,
          1.4547572735487153,
          -0.7273823558837834,
          0.09396028134728325,
          0.48134438630414855,
          0.6064850070756928,
          0.9711186756874983,
          -0.9172617060754827,
          -0.7504193843668384,
          -0.30268325363310095,
          1.4384153573050682,
          -0.8802402955910802,
          -1.6140716601813723,
          1.7687660538238907,
          0.5162991129658898,
          0.22966621056291214,
          -0.29545307091414097,
          1.7717039872666476,
          -0.8253431665398594,
          0.6899568580350396,
          0.45562492526022985,
          0.4203497623071292,
          -1.2700135783607476,
          -0.12652785344636805,
          -0.5152172396273592,
          0.17486346168189043,
          -0.9643829563276104,
          0.7249829716076941,
          0.9357094464680988,
          1.0675053868225455,
          -1.3441692368141656,
          -1.010033916963234,
          -1.0166742525801977,
          0.5559511314701421,
          -0.2860616657022166,
          -0.5143313473370279,
          0.2433111104515172,
          -0.5469195008187097,
          -0.9720425167232045,
          2.308509592165145,
          -2.9093410257178083,
          0.45636158930297155,
          -0.36191041312631034,
          0.13738395178727492,
          -1.6843139218444971,
          0.4819170916705299,
          0.18729823511680974,
          -1.3042320597607202,
          -0.6435624809123978,
          0.3041906824364345,
          1.0125353315662355,
          1.412650883563064,
          -0.40658465779674074,
          -0.969083047212695,
          2.4345589942614505,
          0.6962958816332782,
          -0.9833961067004354,
          1.4423570942682784,
          0.17497261849974813,
          0.47595178346489153,
          -1.3092776458056572,
          0.15900068070163859,
          0.32021096043939073,
          0.6543829834488737,
          0.9168532190931168,
          -0.12256360400322772,
          0.3314371953426361,
          1.4535050541000911,
          0.12624739219252942,
          1.4479779042427694,
          -0.5883172967799188,
          -0.6894524951001224,
          -0.3368560231652581,
          0.5638412444065937,
          0.3281958001547651,
          -0.724142433852579,
          0.7589848689700688,
          0.8904460372533995,
          -0.3479875488756343,
          0.72361394537039,
          1.508569652787629,
          -0.1572025375673387,
          -0.2257546600971301,
          0.32577521463993564,
          -0.1367359334894722,
          0.01291870218857953,
          0.42006001448659375,
          0.15943215109697906,
          -0.2518829067641927,
          -0.14594963297547292,
          -0.3713926594314636,
          -0.25384049036424194,
          -1.4680357103852135,
          0.6960513900311995,
          0.5627492597745443,
          -1.046304948831658,
          0.2631272724160345,
          0.07716216893580638,
          -0.3490567893119976,
          0.5108694403111314,
          0.2878942484786554,
          -0.22146366249358354,
          -1.6356324745630726,
          -0.8075769699342895,
          1.2999293418821645,
          0.60874133521237,
          0.4194761007690328,
          -0.3001383842559183,
          -0.40431721131195997,
          -0.7761780887865997,
          -0.9050551974119373,
          0.026621319248816604,
          -0.812258411406607,
          -1.1102143147398622,
          0.9917385741443355,
          0.5394377656570509,
          0.19921231309082316,
          1.096735007705021,
          0.07913280524976303,
          -0.11282658359500267,
          1.5198719723468752,
          -0.5329174599721989,
          -0.7490233303549946,
          0.42105077780189476,
          0.47615505404234443,
          -0.3811267210758427,
          0.699973029339021,
          -0.38642045038655876,
          1.123667141151341,
          -0.22839044165221883,
          -0.3058294308081898,
          -0.47512558160629953,
          -0.4045859899867186,
          -1.2764448542765305,
          -0.06800473724566146,
          0.6514770431642615,
          1.918858088851657,
          0.3642252138609425,
          0.22948076463926456,
          0.4295139604587879,
          1.8031999747711984,
          -0.5340678617177028,
          0.6571347595706488,
          -0.35930871695546013,
          -0.4969055271813976,
          -0.7663280308784383,
          0.5058098865403815,
          -0.16468227708296315,
          -1.9389999032600143,
          1.1094184197610482,
          0.68648510547639,
          -0.609254421546405,
          -1.4455625518862885,
          0.3896879517566024,
          0.5944291660358274,
          0.8588979300292323,
          0.9877028568568982,
          -1.2340675797227254,
          0.6582705187464157,
          0.3667938868741448,
          -0.014566549423546496,
          0.24041200264140078,
          2.124206987641016,
          0.812743953654113,
          0.0058754107884781935,
          1.055832634632545,
          -1.6398923541319135,
          -0.41970570852600225,
          1.0776722701789043,
          0.4142101406454924,
          0.9860411620382052,
          -0.5001135205563987,
          0.706368777853887,
          1.2842513109195923,
          -1.7533959908475814,
          -0.8500869317414081,
          0.28183465127409685,
          0.14119254241512588,
          0.24940089832597254,
          -2.174105028768626,
          1.1511909959357494,
          -0.9087484628801018,
          -0.24927632526410975,
          1.9773368977659733,
          -0.6441198516995543,
          1.5857001260618113,
          0.14044781322799732,
          -0.23479144819133152,
          0.623173627211988,
          0.08318535861902997,
          1.9449601918546187,
          1.0066767415603395,
          -0.20956111041734604,
          1.5242330503601793,
          0.7255998725614288,
          0.8979395567966991,
          -1.2110008681733884,
          -0.8672378642535586,
          0.06414930988372566,
          -1.3177907245665108,
          1.9020255339265162,
          0.3408196913527538,
          -0.02442746198532925,
          1.205984834219663,
          -0.3974718414118691,
          -0.08081179861203328,
          1.1172448719811108,
          1.137868281549163,
          -1.0378535280800731,
          0.7983214751241635,
          0.48717749707470454,
          -0.38081506243736907,
          -0.5282975861373496,
          -1.1808234948482519,
          -0.5604211539535976,
          1.1108407385109411,
          -0.9687482122976424,
          -1.0948375830899055,
          -0.05432448928903113,
          -0.1922449791524782,
          -0.5927656017432127,
          -0.4964892776789623,
          -0.58083796361959,
          -1.0139038404980685,
          -1.973902261367921,
          -0.07110306264759902,
          0.4650281900527182,
          -1.2560537904268854,
          0.15519840463961884,
          1.0400229817547795,
          0.4181107908303338,
          0.6790716508973013,
          0.7007058716813194,
          -0.7893034722897496,
          -1.7005463799787162,
          0.4621698568936386,
          0.25860350253538567,
          -0.0505420461160303,
          0.8485566023914988,
          -1.6176921227862737,
          0.7322278687282989,
          -0.30929552441667124,
          1.1422676808646202,
          -0.5222022263060989,
          0.6108463367721255,
          -0.5768546440844429,
          1.5912186246477478,
          0.1337296971785625,
          0.7836072535290631,
          -0.3272441274160888,
          -0.037355434204689994,
          -0.6614901557674842,
          0.3115454890527734,
          0.5476201049701168,
          -0.9390021812336354,
          0.36893496418006594,
          1.9019424220806875,
          -0.9525384411641196,
          -1.2325306465386414,
          -0.6959637137434281,
          0.6510043966511554,
          -0.02832281796070697,
          1.3545512120919114,
          -0.39672544048254665,
          -0.851874321765322,
          -2.3775317499104243,
          -2.3320765070551333,
          -0.5037092920564797,
          -0.16667463200100216,
          0.2162824867304989,
          0.9989634031716725,
          -0.701639568639586,
          -1.0308326534910683,
          -0.039759681697473015,
          1.612988614326631,
          -1.745512607061658,
          -0.019966250928575163,
          1.7956414542785277,
          0.10019652648035086,
          -0.6334635352877753,
          0.6039608893462565,
          -0.26212184700287977,
          0.19585510790609195,
          -0.024501557640376783,
          -1.5404468577809454,
          0.9621774333782747,
          -1.6415946085602966,
          -1.3353113462177817,
          -0.5469796491067508,
          -0.8409330304963785,
          0.7013165910780341,
          1.208606993708022,
          -1.9581752967602752,
          0.12873834447636365,
          -0.647528188060338,
          1.2761956926299969,
          -0.97894727494267,
          2.3261361625190102,
          -0.5151601406041423,
          1.2071350634173457,
          0.631960456335261,
          1.8410612414663192,
          1.4858136231573866,
          1.6464774603590733,
          0.9056275691345161,
          -0.7093300052597619,
          0.5694748258727425,
          0.7593916915511881,
          -0.4222519000058231,
          0.17222004448906153,
          -1.5817619202673505,
          -1.2003342624958977,
          -0.4066948528884028,
          -0.15003404935693365,
          -0.42379670923269996,
          0.1951759835618903,
          1.301350532449756,
          -0.06666797495376837,
          -0.504801639787551,
          1.0520979388487208,
          -1.594140261795902,
          3.0959378291963167,
          -0.3975107514197711,
          -1.5559790156229993,
          -0.269618575324382,
          -0.057890005158748405,
          -0.5389574911641658,
          -0.1050034715599335,
          -0.007678568170793285,
          -0.3143919197829289,
          -1.9179380037376041,
          2.54038364259937,
          -1.285578548603933,
          -0.04457587514803039,
          -0.26748742757707816,
          -0.9360965364159267,
          0.6366134587185476,
          0.3945837912762466,
          1.269304639742012,
          0.5098565388945092,
          -1.5064225405639513,
          -1.4337278748992548,
          0.09273688223492578,
          0.46038725743832354,
          -0.29408366002270303,
          0.9377392718695813,
          1.4843199856901956,
          -0.023751123374832823,
          1.3506055567933017,
          -0.27907508139057513,
          0.09420116456376786,
          0.710697180906778,
          3.2347745823270038,
          0.33821287481666534,
          -1.8071602833634446,
          1.6124272477945558,
          0.15907309190043845,
          -0.06320843633516286,
          -0.7697404074682959,
          -0.6922474401973668,
          -0.40628240792887466,
          0.7321721185553584,
          0.5026543120789441,
          0.7697605748506671,
          0.9851167071628758,
          -0.24467123889517312,
          1.2175967663006417,
          -0.048943446934651386,
          -1.9505106272345472,
          0.892176195502973,
          -0.27794404672473844,
          -0.629494665320201,
          -0.4667031350185834,
          -0.6834426325108245,
          -0.8692480800126547,
          0.896493719817243,
          -1.7070643309901417,
          0.76532914206896,
          1.4662361630700842,
          -1.03799970722757,
          0.6887398602076329,
          0.04005981499771003,
          0.5577884836991395,
          0.8720664373225694,
          0.8825596916694013,
          -0.792896703851809,
          -0.9373949235371746,
          -0.9385408712772019,
          0.6912163187798562,
          -1.361101978354197,
          0.3756911745627583,
          -0.015432923617679355,
          0.3225045581666801,
          -0.9473900507317543,
          1.0216152865097892,
          1.1999063514195023,
          1.5367019978130725,
          1.3726015470487425,
          -0.006076457763058397,
          -0.4774475788939016,
          -0.4988202243427659,
          0.5091420199085932,
          -0.8774778587957833,
          -0.9851354280345711,
          -1.1709446786650235,
          0.8462397666320723,
          0.5168270822179155,
          0.07738225610263605,
          0.18270212615609518,
          0.33564270012010994,
          -2.1916562555010026,
          0.5649989096054553,
          -0.46422406518041,
          1.4148136505347066,
          0.2538333439275266,
          -0.33951335205376454,
          -0.9048957084401469,
          1.9797235935943776,
          -0.2994503266492997,
          0.03166229264854369,
          -0.6281012392939327,
          0.11426014801782462,
          -0.1882783808754445,
          1.296752269473837,
          1.1991640927941174,
          -0.3082744857501414,
          -1.2764686566075119,
          -0.5056100266301035,
          -0.6716326887666414,
          0.3881236510532549,
          0.41726077564078634,
          1.0887536814889835,
          0.8470314033937997,
          0.21237237265687708,
          -1.7108671675800908,
          -0.42810471610736955,
          -0.563960987989764,
          -0.22495121030418289,
          -0.2906584613159155,
          2.022945734182314,
          -0.35855388108780867,
          -0.9716418990723442,
          0.48199802756191995,
          1.1766490485964158,
          -0.4759592830862276,
          -1.8724851985852655,
          0.13599014361246603,
          -0.624867494474202,
          -0.599580190027607,
          -0.5395680063199727,
          0.0031466856545014667,
          -2.7629558845409274,
          -0.45800878880000767,
          -0.24007613696992144,
          1.9496298514154096,
          0.4330065588055954,
          -0.6560564937677535,
          -0.12734290754600672,
          -0.7550179191657489,
          0.6668493648494185,
          0.11247069454047638,
          0.00860856951316935,
          -0.42956784641239815,
          0.9802839463777882,
          -0.1293663247905327,
          -2.053937934896858,
          -2.0244479011356207,
          0.08682821461856136,
          -0.6715614674926477,
          0.19955412231260738,
          2.0741849162452244,
          -2.0987326950697285,
          0.405627714720629,
          -2.665112254305205,
          0.022505746414904645,
          -0.7869495239367542,
          -0.2500094109130257,
          -0.3920871415086299,
          0.66116665536512,
          1.387439136382772,
          1.1347600835848057,
          -0.4153424787001467,
          -0.36694914910613863,
          0.8342622079186672,
          -1.239981235056359,
          -0.3456711444683883,
          0.041157953227757275,
          -0.034819973395773404,
          -1.6596734192718359,
          -1.2254627324549139,
          1.4872943376949115,
          -1.9645977047045362,
          0.6430747621774165,
          -0.7043755499090997,
          0.5466135438245283,
          1.687474667391841,
          0.5400994784366311,
          0.227908044579097,
          -0.07135077357674463,
          -0.5482578657534902,
          -1.2824773806565628,
          0.9211289322553342,
          0.04093976393723887,
          0.3899303244438737,
          1.1234525675818954,
          1.1846443131598134,
          -0.3986764483250343,
          1.3190334507038806,
          0.011394478970695097,
          0.1027979283929555,
          0.04891767889499494,
          0.928340695351772,
          -1.3337515859318814,
          -1.369262307877265,
          0.32149077342263516,
          -0.972336692425705,
          0.6472810680438784,
          2.394215135735926,
          1.7557791783090577,
          -0.42296108351025785,
          -0.05865160777922224,
          0.6311053336087188,
          0.16721743105554593,
          -2.4546781861519595,
          -0.2402131575507785,
          0.053905863475140293,
          -0.013418481164225097,
          -0.25381222315909147,
          0.9158782831971489,
          -0.33817305795680247,
          -2.296338639433795,
          -0.3336841237284882,
          -1.1785616090105546,
          -1.3251616560128394,
          -0.46822028686223366,
          1.2209798771677343,
          0.7913169110728715,
          0.12215678722764178,
          -1.337625622353942,
          -0.45051764471791395,
          0.07649366686308595,
          1.03560829855478,
          -1.7909993089660197,
          -0.07494437403131883,
          -0.7917281741282869,
          0.5069270705286174,
          0.8254658547400866,
          0.41442749074082463,
          -0.9479773308300431,
          -0.12680786384063616,
          -0.453778162250369,
          1.7452011945564883,
          -0.12720884150053405,
          -1.2865722252267764,
          -0.2837031370484068,
          0.4834671693048341,
          -0.004198453535699629,
          1.0454765297962194,
          1.038670230265754,
          0.081078898555975,
          -1.415558473492989,
          -0.13185051121831298,
          1.3389875100586706,
          -1.4648183210557968,
          -1.5589713183562555,
          0.4008019029015441,
          -1.477861614793845,
          1.1462969968855101,
          0.38803446935396724,
          -0.36400864081914236,
          0.35489787422812247,
          0.45466672063748054,
          -1.701753963397284,
          2.017245122929869,
          -1.154322939562758,
          0.8602033181206054,
          1.4150471623156409,
          0.2633973768718877,
          1.3935873617161678,
          0.05630772240740643,
          -0.44383285575002396,
          2.138876236629522,
          -0.3778409335763326,
          -1.1388972501198595,
          -1.0863276032917373,
          -1.3604942899779244,
          -0.3107241411179844,
          2.590981927786762,
          -0.25376443960678075,
          -0.8642961350162742,
          -0.04649050739317201,
          -0.17017708983035482,
          2.4767287928832866,
          -0.018518792545003184,
          2.0759918345650004,
          0.020531198110190475,
          -1.3714072506543231,
          0.8508061693771285,
          -0.8112525353417527,
          -1.438534961235837,
          0.39404737288336894,
          0.5763656916172979,
          -1.6820495638457171,
          -1.0658722663102436,
          0.8317160958588118,
          1.2861353849486212,
          1.6688480921193778,
          0.2894615499054882,
          1.0646819893174302,
          -1.1576607686144806,
          0.19736135531963772,
          -1.050060783603346,
          -0.6187844895705183,
          0.021154286165726524,
          1.3771092025630847,
          -0.7020927363389536,
          -0.08970069792035654,
          -1.0024223169023354,
          0.10754999724079824,
          -0.29947748941445707,
          -1.1890893674375835,
          0.32026864789456216,
          0.7410040815427944,
          -0.29545423878922655,
          -0.8773554752228445,
          1.0049352433491419,
          1.0700118780021424,
          0.5091063631946005,
          -0.08515171298457573,
          -0.020009856114610255,
          0.5774160744266899,
          -0.37505210045534804,
          -0.6948063436566924,
          0.8630700744532832,
          0.2631610021405466,
          -0.08884063121514296,
          -1.3074475720941214,
          0.503929208124029,
          1.4151670024687857,
          -1.4799078732137405,
          -0.9232287597225933,
          1.314470485234312,
          0.5370989619120138,
          1.5700504967706557,
          0.41454573579470483,
          -1.115825995024104,
          -0.581967726013403,
          2.2208907811106,
          0.38119974972597465,
          -0.2927092911195621,
          -0.15982530256190067,
          1.673237603395698,
          -0.8919466970083092,
          -0.005161279624909023,
          -0.4198222608463826,
          -1.1203213314791114,
          1.028005209703381,
          1.6094397684852009,
          1.5577780891828954,
          0.6771172867622829,
          0.6425001705397884,
          -1.7288396952690166,
          -0.10893277096906841,
          0.6010376535606501,
          0.4039167615986337,
          -0.5845961331854524,
          -1.3769531686322143,
          -0.3567375057956759,
          -1.2772811986037638,
          -0.7466294034357396,
          -0.8369453273221933,
          0.6369281608009484,
          -0.40390389167355445,
          0.9867909659767917,
          2.328697648770794,
          0.9479203231094222,
          1.344737289174791,
          -0.08267136476353089,
          -1.693322769240132,
          0.7147780000927211,
          1.2693653159508425,
          -0.7457286194461185,
          0.47488789926967295,
          1.9691655240839063,
          0.44678688862283006,
          0.15807832459955184,
          0.5050972848534241,
          0.8703156620014829,
          1.7100343448808424,
          0.19202753543909057,
          0.5086081439252599,
          0.5188565781776685,
          0.18704730277667128,
          1.2796128691719157,
          -0.733508226040502,
          1.8985258396695666,
          -0.6650645035820096,
          -0.048636972708579106,
          -0.1904874079820628,
          0.20985398294395446,
          0.25235132456109827,
          1.5153646798702174,
          1.2789926824496516,
          -0.5110259418025019,
          0.14590103733202495,
          -0.2240672367400557,
          1.6716770764167803,
          -1.589412790633098,
          1.1724848544299804,
          0.6334477020574439,
          1.0848934278819466,
          1.8884232685569649,
          -0.23664435208317172,
          0.5369303484307039,
          0.14156350984318422,
          -1.2723748561258503,
          0.5941879334900043,
          -0.27187835334469246,
          0.838288404347319,
          0.8711202263875719,
          -0.3782675159255427,
          -0.7942103919357766,
          -1.7235287379716557,
          0.30093327541632453,
          -0.4396280198016831,
          1.0497184696751518,
          -0.5745685878723042,
          -1.9724061072662464,
          1.5794809805155297,
          0.6186522854586243,
          1.6661555326211441,
          0.09793377482352178,
          0.34507043183751857,
          -0.29433766897546615,
          0.20726192822401102,
          -1.485163870989916,
          -1.521891242451913,
          0.08570973288050839,
          -0.33319878466022534,
          -0.9892879492376954,
          0.08147244439772193,
          0.1331954200686702,
          0.46098273814375884,
          -1.7903584162453539,
          -2.358717378185796,
          -0.5913863985747644,
          0.24400290821594017,
          -0.5454608922761865,
          0.2617888595475394,
          1.1027298842911086,
          -0.11703111744127029,
          0.4139245787202233,
          1.2029117889040737,
          -0.845316410713131,
          -0.1970101718065846,
          1.9853650794885116,
          1.2505282074525639,
          0.18958489993093908,
          1.2568488167833902,
          0.3950236268858367,
          -0.7430864303080096,
          0.6117149193288349,
          -2.9247029314351365,
          0.501304248381486,
          0.01067908617026384,
          0.570603194858258,
          1.2523766959989338,
          -1.8855239681550433,
          0.9701702052703906,
          -2.574657008965072,
          -1.2559379829897692,
          0.9276821718584239,
          -1.1612805328435816,
          0.002088312883751825,
          0.2716341998826789,
          -1.7984859493936136,
          -1.9584963734646044,
          0.7156378658625764,
          -0.050696387150263277,
          1.046932563095979,
          1.627264159550387,
          0.6969297357605946,
          0.3730778185460581,
          0.0649981034471782,
          -0.6127183065666801,
          1.4798269868104923,
          -1.8314035704016414,
          2.871960182676602,
          0.060531937260513,
          1.094722876327163,
          -0.05631942007702004
         ],
         "xaxis": "x",
         "yaxis": "y"
        }
       ],
       "layout": {
        "barmode": "relative",
        "legend": {
         "title": {
          "text": "variable"
         },
         "tracegroupgap": 0
        },
        "margin": {
         "t": 60
        },
        "template": {
         "data": {
          "bar": [
           {
            "error_x": {
             "color": "#2a3f5f"
            },
            "error_y": {
             "color": "#2a3f5f"
            },
            "marker": {
             "line": {
              "color": "#E5ECF6",
              "width": 0.5
             },
             "pattern": {
              "fillmode": "overlay",
              "size": 10,
              "solidity": 0.2
             }
            },
            "type": "bar"
           }
          ],
          "barpolar": [
           {
            "marker": {
             "line": {
              "color": "#E5ECF6",
              "width": 0.5
             },
             "pattern": {
              "fillmode": "overlay",
              "size": 10,
              "solidity": 0.2
             }
            },
            "type": "barpolar"
           }
          ],
          "carpet": [
           {
            "aaxis": {
             "endlinecolor": "#2a3f5f",
             "gridcolor": "white",
             "linecolor": "white",
             "minorgridcolor": "white",
             "startlinecolor": "#2a3f5f"
            },
            "baxis": {
             "endlinecolor": "#2a3f5f",
             "gridcolor": "white",
             "linecolor": "white",
             "minorgridcolor": "white",
             "startlinecolor": "#2a3f5f"
            },
            "type": "carpet"
           }
          ],
          "choropleth": [
           {
            "colorbar": {
             "outlinewidth": 0,
             "ticks": ""
            },
            "type": "choropleth"
           }
          ],
          "contour": [
           {
            "colorbar": {
             "outlinewidth": 0,
             "ticks": ""
            },
            "colorscale": [
             [
              0,
              "#0d0887"
             ],
             [
              0.1111111111111111,
              "#46039f"
             ],
             [
              0.2222222222222222,
              "#7201a8"
             ],
             [
              0.3333333333333333,
              "#9c179e"
             ],
             [
              0.4444444444444444,
              "#bd3786"
             ],
             [
              0.5555555555555556,
              "#d8576b"
             ],
             [
              0.6666666666666666,
              "#ed7953"
             ],
             [
              0.7777777777777778,
              "#fb9f3a"
             ],
             [
              0.8888888888888888,
              "#fdca26"
             ],
             [
              1,
              "#f0f921"
             ]
            ],
            "type": "contour"
           }
          ],
          "contourcarpet": [
           {
            "colorbar": {
             "outlinewidth": 0,
             "ticks": ""
            },
            "type": "contourcarpet"
           }
          ],
          "heatmap": [
           {
            "colorbar": {
             "outlinewidth": 0,
             "ticks": ""
            },
            "colorscale": [
             [
              0,
              "#0d0887"
             ],
             [
              0.1111111111111111,
              "#46039f"
             ],
             [
              0.2222222222222222,
              "#7201a8"
             ],
             [
              0.3333333333333333,
              "#9c179e"
             ],
             [
              0.4444444444444444,
              "#bd3786"
             ],
             [
              0.5555555555555556,
              "#d8576b"
             ],
             [
              0.6666666666666666,
              "#ed7953"
             ],
             [
              0.7777777777777778,
              "#fb9f3a"
             ],
             [
              0.8888888888888888,
              "#fdca26"
             ],
             [
              1,
              "#f0f921"
             ]
            ],
            "type": "heatmap"
           }
          ],
          "heatmapgl": [
           {
            "colorbar": {
             "outlinewidth": 0,
             "ticks": ""
            },
            "colorscale": [
             [
              0,
              "#0d0887"
             ],
             [
              0.1111111111111111,
              "#46039f"
             ],
             [
              0.2222222222222222,
              "#7201a8"
             ],
             [
              0.3333333333333333,
              "#9c179e"
             ],
             [
              0.4444444444444444,
              "#bd3786"
             ],
             [
              0.5555555555555556,
              "#d8576b"
             ],
             [
              0.6666666666666666,
              "#ed7953"
             ],
             [
              0.7777777777777778,
              "#fb9f3a"
             ],
             [
              0.8888888888888888,
              "#fdca26"
             ],
             [
              1,
              "#f0f921"
             ]
            ],
            "type": "heatmapgl"
           }
          ],
          "histogram": [
           {
            "marker": {
             "pattern": {
              "fillmode": "overlay",
              "size": 10,
              "solidity": 0.2
             }
            },
            "type": "histogram"
           }
          ],
          "histogram2d": [
           {
            "colorbar": {
             "outlinewidth": 0,
             "ticks": ""
            },
            "colorscale": [
             [
              0,
              "#0d0887"
             ],
             [
              0.1111111111111111,
              "#46039f"
             ],
             [
              0.2222222222222222,
              "#7201a8"
             ],
             [
              0.3333333333333333,
              "#9c179e"
             ],
             [
              0.4444444444444444,
              "#bd3786"
             ],
             [
              0.5555555555555556,
              "#d8576b"
             ],
             [
              0.6666666666666666,
              "#ed7953"
             ],
             [
              0.7777777777777778,
              "#fb9f3a"
             ],
             [
              0.8888888888888888,
              "#fdca26"
             ],
             [
              1,
              "#f0f921"
             ]
            ],
            "type": "histogram2d"
           }
          ],
          "histogram2dcontour": [
           {
            "colorbar": {
             "outlinewidth": 0,
             "ticks": ""
            },
            "colorscale": [
             [
              0,
              "#0d0887"
             ],
             [
              0.1111111111111111,
              "#46039f"
             ],
             [
              0.2222222222222222,
              "#7201a8"
             ],
             [
              0.3333333333333333,
              "#9c179e"
             ],
             [
              0.4444444444444444,
              "#bd3786"
             ],
             [
              0.5555555555555556,
              "#d8576b"
             ],
             [
              0.6666666666666666,
              "#ed7953"
             ],
             [
              0.7777777777777778,
              "#fb9f3a"
             ],
             [
              0.8888888888888888,
              "#fdca26"
             ],
             [
              1,
              "#f0f921"
             ]
            ],
            "type": "histogram2dcontour"
           }
          ],
          "mesh3d": [
           {
            "colorbar": {
             "outlinewidth": 0,
             "ticks": ""
            },
            "type": "mesh3d"
           }
          ],
          "parcoords": [
           {
            "line": {
             "colorbar": {
              "outlinewidth": 0,
              "ticks": ""
             }
            },
            "type": "parcoords"
           }
          ],
          "pie": [
           {
            "automargin": true,
            "type": "pie"
           }
          ],
          "scatter": [
           {
            "fillpattern": {
             "fillmode": "overlay",
             "size": 10,
             "solidity": 0.2
            },
            "type": "scatter"
           }
          ],
          "scatter3d": [
           {
            "line": {
             "colorbar": {
              "outlinewidth": 0,
              "ticks": ""
             }
            },
            "marker": {
             "colorbar": {
              "outlinewidth": 0,
              "ticks": ""
             }
            },
            "type": "scatter3d"
           }
          ],
          "scattercarpet": [
           {
            "marker": {
             "colorbar": {
              "outlinewidth": 0,
              "ticks": ""
             }
            },
            "type": "scattercarpet"
           }
          ],
          "scattergeo": [
           {
            "marker": {
             "colorbar": {
              "outlinewidth": 0,
              "ticks": ""
             }
            },
            "type": "scattergeo"
           }
          ],
          "scattergl": [
           {
            "marker": {
             "colorbar": {
              "outlinewidth": 0,
              "ticks": ""
             }
            },
            "type": "scattergl"
           }
          ],
          "scattermapbox": [
           {
            "marker": {
             "colorbar": {
              "outlinewidth": 0,
              "ticks": ""
             }
            },
            "type": "scattermapbox"
           }
          ],
          "scatterpolar": [
           {
            "marker": {
             "colorbar": {
              "outlinewidth": 0,
              "ticks": ""
             }
            },
            "type": "scatterpolar"
           }
          ],
          "scatterpolargl": [
           {
            "marker": {
             "colorbar": {
              "outlinewidth": 0,
              "ticks": ""
             }
            },
            "type": "scatterpolargl"
           }
          ],
          "scatterternary": [
           {
            "marker": {
             "colorbar": {
              "outlinewidth": 0,
              "ticks": ""
             }
            },
            "type": "scatterternary"
           }
          ],
          "surface": [
           {
            "colorbar": {
             "outlinewidth": 0,
             "ticks": ""
            },
            "colorscale": [
             [
              0,
              "#0d0887"
             ],
             [
              0.1111111111111111,
              "#46039f"
             ],
             [
              0.2222222222222222,
              "#7201a8"
             ],
             [
              0.3333333333333333,
              "#9c179e"
             ],
             [
              0.4444444444444444,
              "#bd3786"
             ],
             [
              0.5555555555555556,
              "#d8576b"
             ],
             [
              0.6666666666666666,
              "#ed7953"
             ],
             [
              0.7777777777777778,
              "#fb9f3a"
             ],
             [
              0.8888888888888888,
              "#fdca26"
             ],
             [
              1,
              "#f0f921"
             ]
            ],
            "type": "surface"
           }
          ],
          "table": [
           {
            "cells": {
             "fill": {
              "color": "#EBF0F8"
             },
             "line": {
              "color": "white"
             }
            },
            "header": {
             "fill": {
              "color": "#C8D4E3"
             },
             "line": {
              "color": "white"
             }
            },
            "type": "table"
           }
          ]
         },
         "layout": {
          "annotationdefaults": {
           "arrowcolor": "#2a3f5f",
           "arrowhead": 0,
           "arrowwidth": 1
          },
          "autotypenumbers": "strict",
          "coloraxis": {
           "colorbar": {
            "outlinewidth": 0,
            "ticks": ""
           }
          },
          "colorscale": {
           "diverging": [
            [
             0,
             "#8e0152"
            ],
            [
             0.1,
             "#c51b7d"
            ],
            [
             0.2,
             "#de77ae"
            ],
            [
             0.3,
             "#f1b6da"
            ],
            [
             0.4,
             "#fde0ef"
            ],
            [
             0.5,
             "#f7f7f7"
            ],
            [
             0.6,
             "#e6f5d0"
            ],
            [
             0.7,
             "#b8e186"
            ],
            [
             0.8,
             "#7fbc41"
            ],
            [
             0.9,
             "#4d9221"
            ],
            [
             1,
             "#276419"
            ]
           ],
           "sequential": [
            [
             0,
             "#0d0887"
            ],
            [
             0.1111111111111111,
             "#46039f"
            ],
            [
             0.2222222222222222,
             "#7201a8"
            ],
            [
             0.3333333333333333,
             "#9c179e"
            ],
            [
             0.4444444444444444,
             "#bd3786"
            ],
            [
             0.5555555555555556,
             "#d8576b"
            ],
            [
             0.6666666666666666,
             "#ed7953"
            ],
            [
             0.7777777777777778,
             "#fb9f3a"
            ],
            [
             0.8888888888888888,
             "#fdca26"
            ],
            [
             1,
             "#f0f921"
            ]
           ],
           "sequentialminus": [
            [
             0,
             "#0d0887"
            ],
            [
             0.1111111111111111,
             "#46039f"
            ],
            [
             0.2222222222222222,
             "#7201a8"
            ],
            [
             0.3333333333333333,
             "#9c179e"
            ],
            [
             0.4444444444444444,
             "#bd3786"
            ],
            [
             0.5555555555555556,
             "#d8576b"
            ],
            [
             0.6666666666666666,
             "#ed7953"
            ],
            [
             0.7777777777777778,
             "#fb9f3a"
            ],
            [
             0.8888888888888888,
             "#fdca26"
            ],
            [
             1,
             "#f0f921"
            ]
           ]
          },
          "colorway": [
           "#636efa",
           "#EF553B",
           "#00cc96",
           "#ab63fa",
           "#FFA15A",
           "#19d3f3",
           "#FF6692",
           "#B6E880",
           "#FF97FF",
           "#FECB52"
          ],
          "font": {
           "color": "#2a3f5f"
          },
          "geo": {
           "bgcolor": "white",
           "lakecolor": "white",
           "landcolor": "#E5ECF6",
           "showlakes": true,
           "showland": true,
           "subunitcolor": "white"
          },
          "hoverlabel": {
           "align": "left"
          },
          "hovermode": "closest",
          "mapbox": {
           "style": "light"
          },
          "paper_bgcolor": "white",
          "plot_bgcolor": "#E5ECF6",
          "polar": {
           "angularaxis": {
            "gridcolor": "white",
            "linecolor": "white",
            "ticks": ""
           },
           "bgcolor": "#E5ECF6",
           "radialaxis": {
            "gridcolor": "white",
            "linecolor": "white",
            "ticks": ""
           }
          },
          "scene": {
           "xaxis": {
            "backgroundcolor": "#E5ECF6",
            "gridcolor": "white",
            "gridwidth": 2,
            "linecolor": "white",
            "showbackground": true,
            "ticks": "",
            "zerolinecolor": "white"
           },
           "yaxis": {
            "backgroundcolor": "#E5ECF6",
            "gridcolor": "white",
            "gridwidth": 2,
            "linecolor": "white",
            "showbackground": true,
            "ticks": "",
            "zerolinecolor": "white"
           },
           "zaxis": {
            "backgroundcolor": "#E5ECF6",
            "gridcolor": "white",
            "gridwidth": 2,
            "linecolor": "white",
            "showbackground": true,
            "ticks": "",
            "zerolinecolor": "white"
           }
          },
          "shapedefaults": {
           "line": {
            "color": "#2a3f5f"
           }
          },
          "ternary": {
           "aaxis": {
            "gridcolor": "white",
            "linecolor": "white",
            "ticks": ""
           },
           "baxis": {
            "gridcolor": "white",
            "linecolor": "white",
            "ticks": ""
           },
           "bgcolor": "#E5ECF6",
           "caxis": {
            "gridcolor": "white",
            "linecolor": "white",
            "ticks": ""
           }
          },
          "title": {
           "x": 0.05
          },
          "xaxis": {
           "automargin": true,
           "gridcolor": "white",
           "linecolor": "white",
           "ticks": "",
           "title": {
            "standoff": 15
           },
           "zerolinecolor": "white",
           "zerolinewidth": 2
          },
          "yaxis": {
           "automargin": true,
           "gridcolor": "white",
           "linecolor": "white",
           "ticks": "",
           "title": {
            "standoff": 15
           },
           "zerolinecolor": "white",
           "zerolinewidth": 2
          }
         }
        },
        "xaxis": {
         "anchor": "y",
         "domain": [
          0,
          1
         ],
         "title": {
          "text": "value"
         }
        },
        "yaxis": {
         "anchor": "x",
         "domain": [
          0,
          1
         ],
         "title": {
          "text": "count"
         }
        }
       }
      },
      "text/html": [
       "<div>                            <div id=\"921cf21e-4aa4-4114-9399-6cb9d0f324c8\" class=\"plotly-graph-div\" style=\"height:525px; width:100%;\"></div>            <script type=\"text/javascript\">                require([\"plotly\"], function(Plotly) {                    window.PLOTLYENV=window.PLOTLYENV || {};                                    if (document.getElementById(\"921cf21e-4aa4-4114-9399-6cb9d0f324c8\")) {                    Plotly.newPlot(                        \"921cf21e-4aa4-4114-9399-6cb9d0f324c8\",                        [{\"alignmentgroup\":\"True\",\"bingroup\":\"x\",\"hovertemplate\":\"variable=0<br>value=%{x}<br>count=%{y}<extra></extra>\",\"legendgroup\":\"0\",\"marker\":{\"color\":\"#636efa\",\"pattern\":{\"shape\":\"\"}},\"name\":\"0\",\"offsetgroup\":\"0\",\"orientation\":\"v\",\"showlegend\":true,\"x\":[0.13527022548244338,-1.7094648044918936,0.48361928725301506,-1.326905535789353,-1.5207624555751316,-1.5621201032214072,2.304392161318247,-2.1863035261122246,-0.40799665496219484,-0.3241753819202489,1.5046194308728564,2.6168086671419175,1.1327788408828168,0.09015092243604486,0.6848871610411773,0.49164099948874174,0.4099588322927017,-1.2593776799153984,-0.31120489092752507,0.40087989461728885,1.1100126537556576,-0.05901832039477048,1.2256528548167271,1.3602362411145494,-0.09975902604738836,-0.08537017232855579,-2.0658367504577244,1.1331733790496679,-0.7044748806854929,1.6806893421441134,2.518677201120199,1.1092293538925078,-0.23124709594767814,0.5672783652890201,-0.22405120998470618,-0.8011904693158332,0.39233554322571484,0.4426186266408609,-0.552694243532166,-0.4709958934136399,1.477207659312199,-2.2093254845660764,-0.1546128062633252,1.2093952459410011,1.7859275248180624,-0.130724885112729,0.061281782884242644,-1.7212173934425885,-0.9664930487672385,-1.4199296564190238,-1.0820813363665251,-1.35544719385285,2.21275407826651,1.4240854574146944,-0.4736866865593837,-1.4587970462922648,-1.282771095221523,1.0196611135529976,0.11798680241387487,0.3685330941731586,0.26066232194059186,0.6375125909201975,-0.688992883627134,0.7269857953841011,1.4846995324539791,-1.7881062039377986,0.4322018361208407,-0.9465936260333598,-2.0851685205129287,-0.8696062958831071,0.2455486424969843,0.07315434820684714,0.21584850645834294,0.6446758269587296,-1.2554329696461075,-1.2007958861212866,0.26718248477796563,-0.032921478933344045,-1.583996650164866,0.6673178515705283,0.7150692123512431,0.9010487812212036,-0.5928950319735959,1.1028968201618718,0.9053854382612428,0.16985623145427306,2.5877755462986003,1.3174169017501414,0.6015529877717578,-0.6609286275554603,-0.019593024497642005,-1.4560808624581822,0.896504816790137,-0.8732381530010737,-0.436031051090587,-0.6501627617301453,1.3917575725504656,1.0146052523473332,0.9119910621553996,0.13348816939238167,0.8136971240722191,0.3372508079597027,0.5276186885884442,-0.004668320829465925,1.3511594823599575,-0.8629228860507597,1.833454915298189,-0.400425741781052,0.4414260955179398,-0.7413241240867411,-1.0066583138077052,-0.694247003532898,0.5603099517906969,-0.4719961830257591,0.3027123231441948,1.6004211494261167,-1.1126798850572905,0.030826594983718095,1.3546457083769488,0.7997544076906075,0.3341023332891314,-0.2616381782540083,0.6930450615654697,0.2022850119042335,-1.0808452183930517,-0.07670020471204264,1.515482847837814,-1.2008835520937098,-0.6930660539673,1.213500848354095,0.4954247372250013,-0.3530521722385248,1.5464378356672654,-0.7155695543130772,-0.2100676722501866,0.9915399690735721,0.5173191734443092,0.03815125869992586,-0.5231425086629662,-1.3885076737029982,-0.11792208419472003,-0.4275873120343498,1.0826180997808352,-1.369886896523382,2.308168393550909,0.5465739001478344,-1.4357404250922634,-2.845111939906192,1.892724519210419,-0.624572765572716,-0.44522490532489567,0.8895389186843442,-1.113606700892662,-1.011744986368409,1.7652644266202049,-0.41950810011307593,0.9459599143982436,-1.3894586208732815,0.5793875080921415,0.4164569294510272,0.960195350917309,1.9091614828098737,-1.2530166452464715,0.7085017972639718,-1.4341535219568666,-0.36847334809935495,-0.6540941274994367,-0.2911371790448783,0.28295414748443676,-0.38383766362415217,0.8846674561909705,-0.4956364204296559,0.45203540208200504,-1.1663730890235207,1.3714835686735838,1.224059640631612,-0.38242047756479836,-0.8209162379471936,-1.3239407636286291,0.5582669146518241,0.6307651945758442,-1.7061369335442778,-0.4534923103309088,-1.2028821589174135,-0.7772977197296272,0.3048186432892856,1.2146247409388315,0.6127130435651106,-1.274619424339652,1.1254855934454309,2.3852634752646353,0.850955232728407,2.0453590186703545,-0.48221324286590417,1.3426631925749701,0.28475823443222176,-1.664261602639101,0.3678792386343405,1.8961751271161287,-1.4471470141063838,-0.4117752185593837,-1.913964269551236,0.7571812203692861,-0.805077946135624,0.662271137518239,0.5066110057519626,1.1365327078052891,0.5422762673938629,2.7710851670111154,0.1678417297052509,1.4547572735487153,-0.7273823558837834,0.09396028134728325,0.48134438630414855,0.6064850070756928,0.9711186756874983,-0.9172617060754827,-0.7504193843668384,-0.30268325363310095,1.4384153573050682,-0.8802402955910802,-1.6140716601813723,1.7687660538238907,0.5162991129658898,0.22966621056291214,-0.29545307091414097,1.7717039872666476,-0.8253431665398594,0.6899568580350396,0.45562492526022985,0.4203497623071292,-1.2700135783607476,-0.12652785344636805,-0.5152172396273592,0.17486346168189043,-0.9643829563276104,0.7249829716076941,0.9357094464680988,1.0675053868225455,-1.3441692368141656,-1.010033916963234,-1.0166742525801977,0.5559511314701421,-0.2860616657022166,-0.5143313473370279,0.2433111104515172,-0.5469195008187097,-0.9720425167232045,2.308509592165145,-2.9093410257178083,0.45636158930297155,-0.36191041312631034,0.13738395178727492,-1.6843139218444971,0.4819170916705299,0.18729823511680974,-1.3042320597607202,-0.6435624809123978,0.3041906824364345,1.0125353315662355,1.412650883563064,-0.40658465779674074,-0.969083047212695,2.4345589942614505,0.6962958816332782,-0.9833961067004354,1.4423570942682784,0.17497261849974813,0.47595178346489153,-1.3092776458056572,0.15900068070163859,0.32021096043939073,0.6543829834488737,0.9168532190931168,-0.12256360400322772,0.3314371953426361,1.4535050541000911,0.12624739219252942,1.4479779042427694,-0.5883172967799188,-0.6894524951001224,-0.3368560231652581,0.5638412444065937,0.3281958001547651,-0.724142433852579,0.7589848689700688,0.8904460372533995,-0.3479875488756343,0.72361394537039,1.508569652787629,-0.1572025375673387,-0.2257546600971301,0.32577521463993564,-0.1367359334894722,0.01291870218857953,0.42006001448659375,0.15943215109697906,-0.2518829067641927,-0.14594963297547292,-0.3713926594314636,-0.25384049036424194,-1.4680357103852135,0.6960513900311995,0.5627492597745443,-1.046304948831658,0.2631272724160345,0.07716216893580638,-0.3490567893119976,0.5108694403111314,0.2878942484786554,-0.22146366249358354,-1.6356324745630726,-0.8075769699342895,1.2999293418821645,0.60874133521237,0.4194761007690328,-0.3001383842559183,-0.40431721131195997,-0.7761780887865997,-0.9050551974119373,0.026621319248816604,-0.812258411406607,-1.1102143147398622,0.9917385741443355,0.5394377656570509,0.19921231309082316,1.096735007705021,0.07913280524976303,-0.11282658359500267,1.5198719723468752,-0.5329174599721989,-0.7490233303549946,0.42105077780189476,0.47615505404234443,-0.3811267210758427,0.699973029339021,-0.38642045038655876,1.123667141151341,-0.22839044165221883,-0.3058294308081898,-0.47512558160629953,-0.4045859899867186,-1.2764448542765305,-0.06800473724566146,0.6514770431642615,1.918858088851657,0.3642252138609425,0.22948076463926456,0.4295139604587879,1.8031999747711984,-0.5340678617177028,0.6571347595706488,-0.35930871695546013,-0.4969055271813976,-0.7663280308784383,0.5058098865403815,-0.16468227708296315,-1.9389999032600143,1.1094184197610482,0.68648510547639,-0.609254421546405,-1.4455625518862885,0.3896879517566024,0.5944291660358274,0.8588979300292323,0.9877028568568982,-1.2340675797227254,0.6582705187464157,0.3667938868741448,-0.014566549423546496,0.24041200264140078,2.124206987641016,0.812743953654113,0.0058754107884781935,1.055832634632545,-1.6398923541319135,-0.41970570852600225,1.0776722701789043,0.4142101406454924,0.9860411620382052,-0.5001135205563987,0.706368777853887,1.2842513109195923,-1.7533959908475814,-0.8500869317414081,0.28183465127409685,0.14119254241512588,0.24940089832597254,-2.174105028768626,1.1511909959357494,-0.9087484628801018,-0.24927632526410975,1.9773368977659733,-0.6441198516995543,1.5857001260618113,0.14044781322799732,-0.23479144819133152,0.623173627211988,0.08318535861902997,1.9449601918546187,1.0066767415603395,-0.20956111041734604,1.5242330503601793,0.7255998725614288,0.8979395567966991,-1.2110008681733884,-0.8672378642535586,0.06414930988372566,-1.3177907245665108,1.9020255339265162,0.3408196913527538,-0.02442746198532925,1.205984834219663,-0.3974718414118691,-0.08081179861203328,1.1172448719811108,1.137868281549163,-1.0378535280800731,0.7983214751241635,0.48717749707470454,-0.38081506243736907,-0.5282975861373496,-1.1808234948482519,-0.5604211539535976,1.1108407385109411,-0.9687482122976424,-1.0948375830899055,-0.05432448928903113,-0.1922449791524782,-0.5927656017432127,-0.4964892776789623,-0.58083796361959,-1.0139038404980685,-1.973902261367921,-0.07110306264759902,0.4650281900527182,-1.2560537904268854,0.15519840463961884,1.0400229817547795,0.4181107908303338,0.6790716508973013,0.7007058716813194,-0.7893034722897496,-1.7005463799787162,0.4621698568936386,0.25860350253538567,-0.0505420461160303,0.8485566023914988,-1.6176921227862737,0.7322278687282989,-0.30929552441667124,1.1422676808646202,-0.5222022263060989,0.6108463367721255,-0.5768546440844429,1.5912186246477478,0.1337296971785625,0.7836072535290631,-0.3272441274160888,-0.037355434204689994,-0.6614901557674842,0.3115454890527734,0.5476201049701168,-0.9390021812336354,0.36893496418006594,1.9019424220806875,-0.9525384411641196,-1.2325306465386414,-0.6959637137434281,0.6510043966511554,-0.02832281796070697,1.3545512120919114,-0.39672544048254665,-0.851874321765322,-2.3775317499104243,-2.3320765070551333,-0.5037092920564797,-0.16667463200100216,0.2162824867304989,0.9989634031716725,-0.701639568639586,-1.0308326534910683,-0.039759681697473015,1.612988614326631,-1.745512607061658,-0.019966250928575163,1.7956414542785277,0.10019652648035086,-0.6334635352877753,0.6039608893462565,-0.26212184700287977,0.19585510790609195,-0.024501557640376783,-1.5404468577809454,0.9621774333782747,-1.6415946085602966,-1.3353113462177817,-0.5469796491067508,-0.8409330304963785,0.7013165910780341,1.208606993708022,-1.9581752967602752,0.12873834447636365,-0.647528188060338,1.2761956926299969,-0.97894727494267,2.3261361625190102,-0.5151601406041423,1.2071350634173457,0.631960456335261,1.8410612414663192,1.4858136231573866,1.6464774603590733,0.9056275691345161,-0.7093300052597619,0.5694748258727425,0.7593916915511881,-0.4222519000058231,0.17222004448906153,-1.5817619202673505,-1.2003342624958977,-0.4066948528884028,-0.15003404935693365,-0.42379670923269996,0.1951759835618903,1.301350532449756,-0.06666797495376837,-0.504801639787551,1.0520979388487208,-1.594140261795902,3.0959378291963167,-0.3975107514197711,-1.5559790156229993,-0.269618575324382,-0.057890005158748405,-0.5389574911641658,-0.1050034715599335,-0.007678568170793285,-0.3143919197829289,-1.9179380037376041,2.54038364259937,-1.285578548603933,-0.04457587514803039,-0.26748742757707816,-0.9360965364159267,0.6366134587185476,0.3945837912762466,1.269304639742012,0.5098565388945092,-1.5064225405639513,-1.4337278748992548,0.09273688223492578,0.46038725743832354,-0.29408366002270303,0.9377392718695813,1.4843199856901956,-0.023751123374832823,1.3506055567933017,-0.27907508139057513,0.09420116456376786,0.710697180906778,3.2347745823270038,0.33821287481666534,-1.8071602833634446,1.6124272477945558,0.15907309190043845,-0.06320843633516286,-0.7697404074682959,-0.6922474401973668,-0.40628240792887466,0.7321721185553584,0.5026543120789441,0.7697605748506671,0.9851167071628758,-0.24467123889517312,1.2175967663006417,-0.048943446934651386,-1.9505106272345472,0.892176195502973,-0.27794404672473844,-0.629494665320201,-0.4667031350185834,-0.6834426325108245,-0.8692480800126547,0.896493719817243,-1.7070643309901417,0.76532914206896,1.4662361630700842,-1.03799970722757,0.6887398602076329,0.04005981499771003,0.5577884836991395,0.8720664373225694,0.8825596916694013,-0.792896703851809,-0.9373949235371746,-0.9385408712772019,0.6912163187798562,-1.361101978354197,0.3756911745627583,-0.015432923617679355,0.3225045581666801,-0.9473900507317543,1.0216152865097892,1.1999063514195023,1.5367019978130725,1.3726015470487425,-0.006076457763058397,-0.4774475788939016,-0.4988202243427659,0.5091420199085932,-0.8774778587957833,-0.9851354280345711,-1.1709446786650235,0.8462397666320723,0.5168270822179155,0.07738225610263605,0.18270212615609518,0.33564270012010994,-2.1916562555010026,0.5649989096054553,-0.46422406518041,1.4148136505347066,0.2538333439275266,-0.33951335205376454,-0.9048957084401469,1.9797235935943776,-0.2994503266492997,0.03166229264854369,-0.6281012392939327,0.11426014801782462,-0.1882783808754445,1.296752269473837,1.1991640927941174,-0.3082744857501414,-1.2764686566075119,-0.5056100266301035,-0.6716326887666414,0.3881236510532549,0.41726077564078634,1.0887536814889835,0.8470314033937997,0.21237237265687708,-1.7108671675800908,-0.42810471610736955,-0.563960987989764,-0.22495121030418289,-0.2906584613159155,2.022945734182314,-0.35855388108780867,-0.9716418990723442,0.48199802756191995,1.1766490485964158,-0.4759592830862276,-1.8724851985852655,0.13599014361246603,-0.624867494474202,-0.599580190027607,-0.5395680063199727,0.0031466856545014667,-2.7629558845409274,-0.45800878880000767,-0.24007613696992144,1.9496298514154096,0.4330065588055954,-0.6560564937677535,-0.12734290754600672,-0.7550179191657489,0.6668493648494185,0.11247069454047638,0.00860856951316935,-0.42956784641239815,0.9802839463777882,-0.1293663247905327,-2.053937934896858,-2.0244479011356207,0.08682821461856136,-0.6715614674926477,0.19955412231260738,2.0741849162452244,-2.0987326950697285,0.405627714720629,-2.665112254305205,0.022505746414904645,-0.7869495239367542,-0.2500094109130257,-0.3920871415086299,0.66116665536512,1.387439136382772,1.1347600835848057,-0.4153424787001467,-0.36694914910613863,0.8342622079186672,-1.239981235056359,-0.3456711444683883,0.041157953227757275,-0.034819973395773404,-1.6596734192718359,-1.2254627324549139,1.4872943376949115,-1.9645977047045362,0.6430747621774165,-0.7043755499090997,0.5466135438245283,1.687474667391841,0.5400994784366311,0.227908044579097,-0.07135077357674463,-0.5482578657534902,-1.2824773806565628,0.9211289322553342,0.04093976393723887,0.3899303244438737,1.1234525675818954,1.1846443131598134,-0.3986764483250343,1.3190334507038806,0.011394478970695097,0.1027979283929555,0.04891767889499494,0.928340695351772,-1.3337515859318814,-1.369262307877265,0.32149077342263516,-0.972336692425705,0.6472810680438784,2.394215135735926,1.7557791783090577,-0.42296108351025785,-0.05865160777922224,0.6311053336087188,0.16721743105554593,-2.4546781861519595,-0.2402131575507785,0.053905863475140293,-0.013418481164225097,-0.25381222315909147,0.9158782831971489,-0.33817305795680247,-2.296338639433795,-0.3336841237284882,-1.1785616090105546,-1.3251616560128394,-0.46822028686223366,1.2209798771677343,0.7913169110728715,0.12215678722764178,-1.337625622353942,-0.45051764471791395,0.07649366686308595,1.03560829855478,-1.7909993089660197,-0.07494437403131883,-0.7917281741282869,0.5069270705286174,0.8254658547400866,0.41442749074082463,-0.9479773308300431,-0.12680786384063616,-0.453778162250369,1.7452011945564883,-0.12720884150053405,-1.2865722252267764,-0.2837031370484068,0.4834671693048341,-0.004198453535699629,1.0454765297962194,1.038670230265754,0.081078898555975,-1.415558473492989,-0.13185051121831298,1.3389875100586706,-1.4648183210557968,-1.5589713183562555,0.4008019029015441,-1.477861614793845,1.1462969968855101,0.38803446935396724,-0.36400864081914236,0.35489787422812247,0.45466672063748054,-1.701753963397284,2.017245122929869,-1.154322939562758,0.8602033181206054,1.4150471623156409,0.2633973768718877,1.3935873617161678,0.05630772240740643,-0.44383285575002396,2.138876236629522,-0.3778409335763326,-1.1388972501198595,-1.0863276032917373,-1.3604942899779244,-0.3107241411179844,2.590981927786762,-0.25376443960678075,-0.8642961350162742,-0.04649050739317201,-0.17017708983035482,2.4767287928832866,-0.018518792545003184,2.0759918345650004,0.020531198110190475,-1.3714072506543231,0.8508061693771285,-0.8112525353417527,-1.438534961235837,0.39404737288336894,0.5763656916172979,-1.6820495638457171,-1.0658722663102436,0.8317160958588118,1.2861353849486212,1.6688480921193778,0.2894615499054882,1.0646819893174302,-1.1576607686144806,0.19736135531963772,-1.050060783603346,-0.6187844895705183,0.021154286165726524,1.3771092025630847,-0.7020927363389536,-0.08970069792035654,-1.0024223169023354,0.10754999724079824,-0.29947748941445707,-1.1890893674375835,0.32026864789456216,0.7410040815427944,-0.29545423878922655,-0.8773554752228445,1.0049352433491419,1.0700118780021424,0.5091063631946005,-0.08515171298457573,-0.020009856114610255,0.5774160744266899,-0.37505210045534804,-0.6948063436566924,0.8630700744532832,0.2631610021405466,-0.08884063121514296,-1.3074475720941214,0.503929208124029,1.4151670024687857,-1.4799078732137405,-0.9232287597225933,1.314470485234312,0.5370989619120138,1.5700504967706557,0.41454573579470483,-1.115825995024104,-0.581967726013403,2.2208907811106,0.38119974972597465,-0.2927092911195621,-0.15982530256190067,1.673237603395698,-0.8919466970083092,-0.005161279624909023,-0.4198222608463826,-1.1203213314791114,1.028005209703381,1.6094397684852009,1.5577780891828954,0.6771172867622829,0.6425001705397884,-1.7288396952690166,-0.10893277096906841,0.6010376535606501,0.4039167615986337,-0.5845961331854524,-1.3769531686322143,-0.3567375057956759,-1.2772811986037638,-0.7466294034357396,-0.8369453273221933,0.6369281608009484,-0.40390389167355445,0.9867909659767917,2.328697648770794,0.9479203231094222,1.344737289174791,-0.08267136476353089,-1.693322769240132,0.7147780000927211,1.2693653159508425,-0.7457286194461185,0.47488789926967295,1.9691655240839063,0.44678688862283006,0.15807832459955184,0.5050972848534241,0.8703156620014829,1.7100343448808424,0.19202753543909057,0.5086081439252599,0.5188565781776685,0.18704730277667128,1.2796128691719157,-0.733508226040502,1.8985258396695666,-0.6650645035820096,-0.048636972708579106,-0.1904874079820628,0.20985398294395446,0.25235132456109827,1.5153646798702174,1.2789926824496516,-0.5110259418025019,0.14590103733202495,-0.2240672367400557,1.6716770764167803,-1.589412790633098,1.1724848544299804,0.6334477020574439,1.0848934278819466,1.8884232685569649,-0.23664435208317172,0.5369303484307039,0.14156350984318422,-1.2723748561258503,0.5941879334900043,-0.27187835334469246,0.838288404347319,0.8711202263875719,-0.3782675159255427,-0.7942103919357766,-1.7235287379716557,0.30093327541632453,-0.4396280198016831,1.0497184696751518,-0.5745685878723042,-1.9724061072662464,1.5794809805155297,0.6186522854586243,1.6661555326211441,0.09793377482352178,0.34507043183751857,-0.29433766897546615,0.20726192822401102,-1.485163870989916,-1.521891242451913,0.08570973288050839,-0.33319878466022534,-0.9892879492376954,0.08147244439772193,0.1331954200686702,0.46098273814375884,-1.7903584162453539,-2.358717378185796,-0.5913863985747644,0.24400290821594017,-0.5454608922761865,0.2617888595475394,1.1027298842911086,-0.11703111744127029,0.4139245787202233,1.2029117889040737,-0.845316410713131,-0.1970101718065846,1.9853650794885116,1.2505282074525639,0.18958489993093908,1.2568488167833902,0.3950236268858367,-0.7430864303080096,0.6117149193288349,-2.9247029314351365,0.501304248381486,0.01067908617026384,0.570603194858258,1.2523766959989338,-1.8855239681550433,0.9701702052703906,-2.574657008965072,-1.2559379829897692,0.9276821718584239,-1.1612805328435816,0.002088312883751825,0.2716341998826789,-1.7984859493936136,-1.9584963734646044,0.7156378658625764,-0.050696387150263277,1.046932563095979,1.627264159550387,0.6969297357605946,0.3730778185460581,0.0649981034471782,-0.6127183065666801,1.4798269868104923,-1.8314035704016414,2.871960182676602,0.060531937260513,1.094722876327163,-0.05631942007702004],\"xaxis\":\"x\",\"yaxis\":\"y\",\"type\":\"histogram\"}],                        {\"template\":{\"data\":{\"histogram2dcontour\":[{\"type\":\"histogram2dcontour\",\"colorbar\":{\"outlinewidth\":0,\"ticks\":\"\"},\"colorscale\":[[0.0,\"#0d0887\"],[0.1111111111111111,\"#46039f\"],[0.2222222222222222,\"#7201a8\"],[0.3333333333333333,\"#9c179e\"],[0.4444444444444444,\"#bd3786\"],[0.5555555555555556,\"#d8576b\"],[0.6666666666666666,\"#ed7953\"],[0.7777777777777778,\"#fb9f3a\"],[0.8888888888888888,\"#fdca26\"],[1.0,\"#f0f921\"]]}],\"choropleth\":[{\"type\":\"choropleth\",\"colorbar\":{\"outlinewidth\":0,\"ticks\":\"\"}}],\"histogram2d\":[{\"type\":\"histogram2d\",\"colorbar\":{\"outlinewidth\":0,\"ticks\":\"\"},\"colorscale\":[[0.0,\"#0d0887\"],[0.1111111111111111,\"#46039f\"],[0.2222222222222222,\"#7201a8\"],[0.3333333333333333,\"#9c179e\"],[0.4444444444444444,\"#bd3786\"],[0.5555555555555556,\"#d8576b\"],[0.6666666666666666,\"#ed7953\"],[0.7777777777777778,\"#fb9f3a\"],[0.8888888888888888,\"#fdca26\"],[1.0,\"#f0f921\"]]}],\"heatmap\":[{\"type\":\"heatmap\",\"colorbar\":{\"outlinewidth\":0,\"ticks\":\"\"},\"colorscale\":[[0.0,\"#0d0887\"],[0.1111111111111111,\"#46039f\"],[0.2222222222222222,\"#7201a8\"],[0.3333333333333333,\"#9c179e\"],[0.4444444444444444,\"#bd3786\"],[0.5555555555555556,\"#d8576b\"],[0.6666666666666666,\"#ed7953\"],[0.7777777777777778,\"#fb9f3a\"],[0.8888888888888888,\"#fdca26\"],[1.0,\"#f0f921\"]]}],\"heatmapgl\":[{\"type\":\"heatmapgl\",\"colorbar\":{\"outlinewidth\":0,\"ticks\":\"\"},\"colorscale\":[[0.0,\"#0d0887\"],[0.1111111111111111,\"#46039f\"],[0.2222222222222222,\"#7201a8\"],[0.3333333333333333,\"#9c179e\"],[0.4444444444444444,\"#bd3786\"],[0.5555555555555556,\"#d8576b\"],[0.6666666666666666,\"#ed7953\"],[0.7777777777777778,\"#fb9f3a\"],[0.8888888888888888,\"#fdca26\"],[1.0,\"#f0f921\"]]}],\"contourcarpet\":[{\"type\":\"contourcarpet\",\"colorbar\":{\"outlinewidth\":0,\"ticks\":\"\"}}],\"contour\":[{\"type\":\"contour\",\"colorbar\":{\"outlinewidth\":0,\"ticks\":\"\"},\"colorscale\":[[0.0,\"#0d0887\"],[0.1111111111111111,\"#46039f\"],[0.2222222222222222,\"#7201a8\"],[0.3333333333333333,\"#9c179e\"],[0.4444444444444444,\"#bd3786\"],[0.5555555555555556,\"#d8576b\"],[0.6666666666666666,\"#ed7953\"],[0.7777777777777778,\"#fb9f3a\"],[0.8888888888888888,\"#fdca26\"],[1.0,\"#f0f921\"]]}],\"surface\":[{\"type\":\"surface\",\"colorbar\":{\"outlinewidth\":0,\"ticks\":\"\"},\"colorscale\":[[0.0,\"#0d0887\"],[0.1111111111111111,\"#46039f\"],[0.2222222222222222,\"#7201a8\"],[0.3333333333333333,\"#9c179e\"],[0.4444444444444444,\"#bd3786\"],[0.5555555555555556,\"#d8576b\"],[0.6666666666666666,\"#ed7953\"],[0.7777777777777778,\"#fb9f3a\"],[0.8888888888888888,\"#fdca26\"],[1.0,\"#f0f921\"]]}],\"mesh3d\":[{\"type\":\"mesh3d\",\"colorbar\":{\"outlinewidth\":0,\"ticks\":\"\"}}],\"scatter\":[{\"fillpattern\":{\"fillmode\":\"overlay\",\"size\":10,\"solidity\":0.2},\"type\":\"scatter\"}],\"parcoords\":[{\"type\":\"parcoords\",\"line\":{\"colorbar\":{\"outlinewidth\":0,\"ticks\":\"\"}}}],\"scatterpolargl\":[{\"type\":\"scatterpolargl\",\"marker\":{\"colorbar\":{\"outlinewidth\":0,\"ticks\":\"\"}}}],\"bar\":[{\"error_x\":{\"color\":\"#2a3f5f\"},\"error_y\":{\"color\":\"#2a3f5f\"},\"marker\":{\"line\":{\"color\":\"#E5ECF6\",\"width\":0.5},\"pattern\":{\"fillmode\":\"overlay\",\"size\":10,\"solidity\":0.2}},\"type\":\"bar\"}],\"scattergeo\":[{\"type\":\"scattergeo\",\"marker\":{\"colorbar\":{\"outlinewidth\":0,\"ticks\":\"\"}}}],\"scatterpolar\":[{\"type\":\"scatterpolar\",\"marker\":{\"colorbar\":{\"outlinewidth\":0,\"ticks\":\"\"}}}],\"histogram\":[{\"marker\":{\"pattern\":{\"fillmode\":\"overlay\",\"size\":10,\"solidity\":0.2}},\"type\":\"histogram\"}],\"scattergl\":[{\"type\":\"scattergl\",\"marker\":{\"colorbar\":{\"outlinewidth\":0,\"ticks\":\"\"}}}],\"scatter3d\":[{\"type\":\"scatter3d\",\"line\":{\"colorbar\":{\"outlinewidth\":0,\"ticks\":\"\"}},\"marker\":{\"colorbar\":{\"outlinewidth\":0,\"ticks\":\"\"}}}],\"scattermapbox\":[{\"type\":\"scattermapbox\",\"marker\":{\"colorbar\":{\"outlinewidth\":0,\"ticks\":\"\"}}}],\"scatterternary\":[{\"type\":\"scatterternary\",\"marker\":{\"colorbar\":{\"outlinewidth\":0,\"ticks\":\"\"}}}],\"scattercarpet\":[{\"type\":\"scattercarpet\",\"marker\":{\"colorbar\":{\"outlinewidth\":0,\"ticks\":\"\"}}}],\"carpet\":[{\"aaxis\":{\"endlinecolor\":\"#2a3f5f\",\"gridcolor\":\"white\",\"linecolor\":\"white\",\"minorgridcolor\":\"white\",\"startlinecolor\":\"#2a3f5f\"},\"baxis\":{\"endlinecolor\":\"#2a3f5f\",\"gridcolor\":\"white\",\"linecolor\":\"white\",\"minorgridcolor\":\"white\",\"startlinecolor\":\"#2a3f5f\"},\"type\":\"carpet\"}],\"table\":[{\"cells\":{\"fill\":{\"color\":\"#EBF0F8\"},\"line\":{\"color\":\"white\"}},\"header\":{\"fill\":{\"color\":\"#C8D4E3\"},\"line\":{\"color\":\"white\"}},\"type\":\"table\"}],\"barpolar\":[{\"marker\":{\"line\":{\"color\":\"#E5ECF6\",\"width\":0.5},\"pattern\":{\"fillmode\":\"overlay\",\"size\":10,\"solidity\":0.2}},\"type\":\"barpolar\"}],\"pie\":[{\"automargin\":true,\"type\":\"pie\"}]},\"layout\":{\"autotypenumbers\":\"strict\",\"colorway\":[\"#636efa\",\"#EF553B\",\"#00cc96\",\"#ab63fa\",\"#FFA15A\",\"#19d3f3\",\"#FF6692\",\"#B6E880\",\"#FF97FF\",\"#FECB52\"],\"font\":{\"color\":\"#2a3f5f\"},\"hovermode\":\"closest\",\"hoverlabel\":{\"align\":\"left\"},\"paper_bgcolor\":\"white\",\"plot_bgcolor\":\"#E5ECF6\",\"polar\":{\"bgcolor\":\"#E5ECF6\",\"angularaxis\":{\"gridcolor\":\"white\",\"linecolor\":\"white\",\"ticks\":\"\"},\"radialaxis\":{\"gridcolor\":\"white\",\"linecolor\":\"white\",\"ticks\":\"\"}},\"ternary\":{\"bgcolor\":\"#E5ECF6\",\"aaxis\":{\"gridcolor\":\"white\",\"linecolor\":\"white\",\"ticks\":\"\"},\"baxis\":{\"gridcolor\":\"white\",\"linecolor\":\"white\",\"ticks\":\"\"},\"caxis\":{\"gridcolor\":\"white\",\"linecolor\":\"white\",\"ticks\":\"\"}},\"coloraxis\":{\"colorbar\":{\"outlinewidth\":0,\"ticks\":\"\"}},\"colorscale\":{\"sequential\":[[0.0,\"#0d0887\"],[0.1111111111111111,\"#46039f\"],[0.2222222222222222,\"#7201a8\"],[0.3333333333333333,\"#9c179e\"],[0.4444444444444444,\"#bd3786\"],[0.5555555555555556,\"#d8576b\"],[0.6666666666666666,\"#ed7953\"],[0.7777777777777778,\"#fb9f3a\"],[0.8888888888888888,\"#fdca26\"],[1.0,\"#f0f921\"]],\"sequentialminus\":[[0.0,\"#0d0887\"],[0.1111111111111111,\"#46039f\"],[0.2222222222222222,\"#7201a8\"],[0.3333333333333333,\"#9c179e\"],[0.4444444444444444,\"#bd3786\"],[0.5555555555555556,\"#d8576b\"],[0.6666666666666666,\"#ed7953\"],[0.7777777777777778,\"#fb9f3a\"],[0.8888888888888888,\"#fdca26\"],[1.0,\"#f0f921\"]],\"diverging\":[[0,\"#8e0152\"],[0.1,\"#c51b7d\"],[0.2,\"#de77ae\"],[0.3,\"#f1b6da\"],[0.4,\"#fde0ef\"],[0.5,\"#f7f7f7\"],[0.6,\"#e6f5d0\"],[0.7,\"#b8e186\"],[0.8,\"#7fbc41\"],[0.9,\"#4d9221\"],[1,\"#276419\"]]},\"xaxis\":{\"gridcolor\":\"white\",\"linecolor\":\"white\",\"ticks\":\"\",\"title\":{\"standoff\":15},\"zerolinecolor\":\"white\",\"automargin\":true,\"zerolinewidth\":2},\"yaxis\":{\"gridcolor\":\"white\",\"linecolor\":\"white\",\"ticks\":\"\",\"title\":{\"standoff\":15},\"zerolinecolor\":\"white\",\"automargin\":true,\"zerolinewidth\":2},\"scene\":{\"xaxis\":{\"backgroundcolor\":\"#E5ECF6\",\"gridcolor\":\"white\",\"linecolor\":\"white\",\"showbackground\":true,\"ticks\":\"\",\"zerolinecolor\":\"white\",\"gridwidth\":2},\"yaxis\":{\"backgroundcolor\":\"#E5ECF6\",\"gridcolor\":\"white\",\"linecolor\":\"white\",\"showbackground\":true,\"ticks\":\"\",\"zerolinecolor\":\"white\",\"gridwidth\":2},\"zaxis\":{\"backgroundcolor\":\"#E5ECF6\",\"gridcolor\":\"white\",\"linecolor\":\"white\",\"showbackground\":true,\"ticks\":\"\",\"zerolinecolor\":\"white\",\"gridwidth\":2}},\"shapedefaults\":{\"line\":{\"color\":\"#2a3f5f\"}},\"annotationdefaults\":{\"arrowcolor\":\"#2a3f5f\",\"arrowhead\":0,\"arrowwidth\":1},\"geo\":{\"bgcolor\":\"white\",\"landcolor\":\"#E5ECF6\",\"subunitcolor\":\"white\",\"showland\":true,\"showlakes\":true,\"lakecolor\":\"white\"},\"title\":{\"x\":0.05},\"mapbox\":{\"style\":\"light\"}}},\"xaxis\":{\"anchor\":\"y\",\"domain\":[0.0,1.0],\"title\":{\"text\":\"value\"}},\"yaxis\":{\"anchor\":\"x\",\"domain\":[0.0,1.0],\"title\":{\"text\":\"count\"}},\"legend\":{\"title\":{\"text\":\"variable\"},\"tracegroupgap\":0},\"margin\":{\"t\":60},\"barmode\":\"relative\"},                        {\"responsive\": true}                    ).then(function(){\n",
       "                            \n",
       "var gd = document.getElementById('921cf21e-4aa4-4114-9399-6cb9d0f324c8');\n",
       "var x = new MutationObserver(function (mutations, observer) {{\n",
       "        var display = window.getComputedStyle(gd).display;\n",
       "        if (!display || display === 'none') {{\n",
       "            console.log([gd, 'removed!']);\n",
       "            Plotly.purge(gd);\n",
       "            observer.disconnect();\n",
       "        }}\n",
       "}});\n",
       "\n",
       "// Listen for the removal of the full notebook cells\n",
       "var notebookContainer = gd.closest('#notebook-container');\n",
       "if (notebookContainer) {{\n",
       "    x.observe(notebookContainer, {childList: true});\n",
       "}}\n",
       "\n",
       "// Listen for the clearing of the current output cell\n",
       "var outputEl = gd.closest('.output');\n",
       "if (outputEl) {{\n",
       "    x.observe(outputEl, {childList: true});\n",
       "}}\n",
       "\n",
       "                        })                };                });            </script>        </div>"
      ]
     },
     "metadata": {},
     "output_type": "display_data"
    }
   ],
   "source": [
    "import plotly.express as px\n",
    "\n",
    "px.histogram(rng.normal(size=1000))"
   ]
  }
 ],
 "metadata": {},
 "nbformat": 4,
 "nbformat_minor": 5
}
