{
 "cells": [
  {
   "cell_type": "markdown",
   "id": "b93b4120",
   "metadata": {},
   "source": [
    "[![Open In Colab](https://colab.research.google.com/assets/colab-badge.svg)](http://colab.research.google.com/github/drillan/python-data-analysis/blob/main/docs/pandas/boolean_indexing.ipynb)"
   ]
  },
  {
   "cell_type": "markdown",
   "id": "b995c54c",
   "metadata": {},
   "source": [
    "# ブールインデックス\n",
    "\n",
    "本節では真理値（ブール値）を利用したデータのアクセス方法について学びます。"
   ]
  },
  {
   "cell_type": "code",
   "execution_count": 9,
   "id": "87efd5fe",
   "metadata": {},
   "outputs": [],
   "source": [
    "import numpy as np\n",
    "import pandas as pd"
   ]
  },
  {
   "cell_type": "code",
   "execution_count": 10,
   "id": "ac8f28d0",
   "metadata": {},
   "outputs": [
    {
     "data": {
      "text/plain": [
       "0    -1\n",
       "1     0\n",
       "2     5\n",
       "3     9\n",
       "4   -10\n",
       "5    -8\n",
       "6     6\n",
       "7     8\n",
       "8    -6\n",
       "9    -4\n",
       "dtype: int64"
      ]
     },
     "execution_count": 10,
     "metadata": {},
     "output_type": "execute_result"
    }
   ],
   "source": [
    "rng = np.random.default_rng(1)\n",
    "ser = pd.Series(rng.integers(-10, 10, size=10))\n",
    "df = pd.DataFrame(rng.integers(-10, 10, size=(10, 2)), columns=[\"a\", \"b\"])\n",
    "ser"
   ]
  },
  {
   "cell_type": "code",
   "execution_count": 11,
   "id": "978e1344",
   "metadata": {},
   "outputs": [
    {
     "data": {
      "text/html": [
       "<div>\n",
       "<style scoped>\n",
       "    .dataframe tbody tr th:only-of-type {\n",
       "        vertical-align: middle;\n",
       "    }\n",
       "\n",
       "    .dataframe tbody tr th {\n",
       "        vertical-align: top;\n",
       "    }\n",
       "\n",
       "    .dataframe thead th {\n",
       "        text-align: right;\n",
       "    }\n",
       "</style>\n",
       "<table border=\"1\" class=\"dataframe\">\n",
       "  <thead>\n",
       "    <tr style=\"text-align: right;\">\n",
       "      <th></th>\n",
       "      <th>a</th>\n",
       "      <th>b</th>\n",
       "    </tr>\n",
       "  </thead>\n",
       "  <tbody>\n",
       "    <tr>\n",
       "      <th>0</th>\n",
       "      <td>7</td>\n",
       "      <td>-2</td>\n",
       "    </tr>\n",
       "    <tr>\n",
       "      <th>1</th>\n",
       "      <td>-5</td>\n",
       "      <td>6</td>\n",
       "    </tr>\n",
       "    <tr>\n",
       "      <th>2</th>\n",
       "      <td>-5</td>\n",
       "      <td>-2</td>\n",
       "    </tr>\n",
       "    <tr>\n",
       "      <th>3</th>\n",
       "      <td>2</td>\n",
       "      <td>0</td>\n",
       "    </tr>\n",
       "    <tr>\n",
       "      <th>4</th>\n",
       "      <td>-9</td>\n",
       "      <td>-10</td>\n",
       "    </tr>\n",
       "    <tr>\n",
       "      <th>5</th>\n",
       "      <td>7</td>\n",
       "      <td>5</td>\n",
       "    </tr>\n",
       "    <tr>\n",
       "      <th>6</th>\n",
       "      <td>6</td>\n",
       "      <td>0</td>\n",
       "    </tr>\n",
       "    <tr>\n",
       "      <th>7</th>\n",
       "      <td>6</td>\n",
       "      <td>-4</td>\n",
       "    </tr>\n",
       "    <tr>\n",
       "      <th>8</th>\n",
       "      <td>-1</td>\n",
       "      <td>5</td>\n",
       "    </tr>\n",
       "    <tr>\n",
       "      <th>9</th>\n",
       "      <td>-8</td>\n",
       "      <td>-4</td>\n",
       "    </tr>\n",
       "  </tbody>\n",
       "</table>\n",
       "</div>"
      ],
      "text/plain": [
       "   a   b\n",
       "0  7  -2\n",
       "1 -5   6\n",
       "2 -5  -2\n",
       "3  2   0\n",
       "4 -9 -10\n",
       "5  7   5\n",
       "6  6   0\n",
       "7  6  -4\n",
       "8 -1   5\n",
       "9 -8  -4"
      ]
     },
     "execution_count": 11,
     "metadata": {},
     "output_type": "execute_result"
    }
   ],
   "source": [
    "df"
   ]
  },
  {
   "cell_type": "markdown",
   "id": "6acdb033",
   "metadata": {},
   "source": [
    "Seriesオブジェクト `ser` から0より大きい要素を抽出する処理を検討します。.locインデクサおよび.ilocインデクサに真理値を要素としたarray-likeオブジェクトを渡すと、 `True` に該当する要素のみを返します。"
   ]
  },
  {
   "cell_type": "code",
   "execution_count": 12,
   "id": "44447483",
   "metadata": {},
   "outputs": [
    {
     "data": {
      "text/plain": [
       "2    5\n",
       "3    9\n",
       "6    6\n",
       "7    8\n",
       "dtype: int64"
      ]
     },
     "execution_count": 12,
     "metadata": {},
     "output_type": "execute_result"
    }
   ],
   "source": [
    "ser.loc[[False, False, True, True, False, False, True, True, False, False]]"
   ]
  },
  {
   "cell_type": "markdown",
   "id": "9e1acef1",
   "metadata": {},
   "source": [
    "SeriesおよびDataFrameにはブロードキャスト演算が行えます、次のコードでは `>` 演算子を利用して、 `ser` オブジェクトの要素が 0 より大きい要素を `True` 、それ以外を `False` のSeriesを生成しています。"
   ]
  },
  {
   "cell_type": "code",
   "execution_count": 13,
   "id": "7c437c64",
   "metadata": {},
   "outputs": [
    {
     "data": {
      "text/plain": [
       "0    False\n",
       "1    False\n",
       "2     True\n",
       "3     True\n",
       "4    False\n",
       "5    False\n",
       "6     True\n",
       "7     True\n",
       "8    False\n",
       "9    False\n",
       "dtype: bool"
      ]
     },
     "execution_count": 13,
     "metadata": {},
     "output_type": "execute_result"
    }
   ],
   "source": [
    "ser > 0"
   ]
  },
  {
   "cell_type": "markdown",
   "id": "7a608556",
   "metadata": {},
   "source": [
    "前述の2つのコードを組み合わせることにより、条件に合致したデータを抽出できます。"
   ]
  },
  {
   "cell_type": "code",
   "execution_count": 14,
   "id": "98f16866",
   "metadata": {},
   "outputs": [
    {
     "data": {
      "text/plain": [
       "2    5\n",
       "3    9\n",
       "6    6\n",
       "7    8\n",
       "dtype: int64"
      ]
     },
     "execution_count": 14,
     "metadata": {},
     "output_type": "execute_result"
    }
   ],
   "source": [
    "ser.loc[ser > 0]"
   ]
  },
  {
   "cell_type": "markdown",
   "id": "14cbc9dc",
   "metadata": {},
   "source": [
    "同様に、DataFrameのインデクサにも真理値を利用した抽出ができます。次のコードでは `df` オブジェクトから「a」列の値が0より大きい行を `True` としたSeriesを返しています。"
   ]
  },
  {
   "cell_type": "code",
   "execution_count": 15,
   "id": "67920bac",
   "metadata": {},
   "outputs": [
    {
     "data": {
      "text/plain": [
       "0     True\n",
       "1    False\n",
       "2    False\n",
       "3     True\n",
       "4    False\n",
       "5     True\n",
       "6     True\n",
       "7     True\n",
       "8    False\n",
       "9    False\n",
       "Name: a, dtype: bool"
      ]
     },
     "execution_count": 15,
     "metadata": {},
     "output_type": "execute_result"
    }
   ],
   "source": [
    "df.loc[:, \"a\"] > 0"
   ]
  },
  {
   "cell_type": "markdown",
   "id": "c75b21fb",
   "metadata": {},
   "source": [
    "次のコードでは `df` オブジェクトから「a」列の値が0より大きい行を抽出しています。"
   ]
  },
  {
   "cell_type": "code",
   "execution_count": 16,
   "id": "1aa4bfda",
   "metadata": {},
   "outputs": [
    {
     "data": {
      "text/html": [
       "<div>\n",
       "<style scoped>\n",
       "    .dataframe tbody tr th:only-of-type {\n",
       "        vertical-align: middle;\n",
       "    }\n",
       "\n",
       "    .dataframe tbody tr th {\n",
       "        vertical-align: top;\n",
       "    }\n",
       "\n",
       "    .dataframe thead th {\n",
       "        text-align: right;\n",
       "    }\n",
       "</style>\n",
       "<table border=\"1\" class=\"dataframe\">\n",
       "  <thead>\n",
       "    <tr style=\"text-align: right;\">\n",
       "      <th></th>\n",
       "      <th>a</th>\n",
       "      <th>b</th>\n",
       "    </tr>\n",
       "  </thead>\n",
       "  <tbody>\n",
       "    <tr>\n",
       "      <th>0</th>\n",
       "      <td>7</td>\n",
       "      <td>-2</td>\n",
       "    </tr>\n",
       "    <tr>\n",
       "      <th>3</th>\n",
       "      <td>2</td>\n",
       "      <td>0</td>\n",
       "    </tr>\n",
       "    <tr>\n",
       "      <th>5</th>\n",
       "      <td>7</td>\n",
       "      <td>5</td>\n",
       "    </tr>\n",
       "    <tr>\n",
       "      <th>6</th>\n",
       "      <td>6</td>\n",
       "      <td>0</td>\n",
       "    </tr>\n",
       "    <tr>\n",
       "      <th>7</th>\n",
       "      <td>6</td>\n",
       "      <td>-4</td>\n",
       "    </tr>\n",
       "  </tbody>\n",
       "</table>\n",
       "</div>"
      ],
      "text/plain": [
       "   a  b\n",
       "0  7 -2\n",
       "3  2  0\n",
       "5  7  5\n",
       "6  6  0\n",
       "7  6 -4"
      ]
     },
     "execution_count": 16,
     "metadata": {},
     "output_type": "execute_result"
    }
   ],
   "source": [
    "df.loc[df.loc[:, \"a\"] > 0, :]"
   ]
  },
  {
   "cell_type": "markdown",
   "id": "062ad3f2",
   "metadata": {},
   "source": [
    "複数の条件を設定する場合には `()` で括ります。And条件は `&` 演算子、Or条件は `|` 演算子を使います。次のコードでは `df` オブジェクトから「a」列の値が0より小さく、かつ「b」列の値が3より大きい行を抽出しています。"
   ]
  },
  {
   "cell_type": "code",
   "execution_count": 17,
   "id": "89d6051a",
   "metadata": {},
   "outputs": [
    {
     "data": {
      "text/html": [
       "<div>\n",
       "<style scoped>\n",
       "    .dataframe tbody tr th:only-of-type {\n",
       "        vertical-align: middle;\n",
       "    }\n",
       "\n",
       "    .dataframe tbody tr th {\n",
       "        vertical-align: top;\n",
       "    }\n",
       "\n",
       "    .dataframe thead th {\n",
       "        text-align: right;\n",
       "    }\n",
       "</style>\n",
       "<table border=\"1\" class=\"dataframe\">\n",
       "  <thead>\n",
       "    <tr style=\"text-align: right;\">\n",
       "      <th></th>\n",
       "      <th>a</th>\n",
       "      <th>b</th>\n",
       "    </tr>\n",
       "  </thead>\n",
       "  <tbody>\n",
       "    <tr>\n",
       "      <th>1</th>\n",
       "      <td>-5</td>\n",
       "      <td>6</td>\n",
       "    </tr>\n",
       "    <tr>\n",
       "      <th>8</th>\n",
       "      <td>-1</td>\n",
       "      <td>5</td>\n",
       "    </tr>\n",
       "  </tbody>\n",
       "</table>\n",
       "</div>"
      ],
      "text/plain": [
       "   a  b\n",
       "1 -5  6\n",
       "8 -1  5"
      ]
     },
     "execution_count": 17,
     "metadata": {},
     "output_type": "execute_result"
    }
   ],
   "source": [
    "df.loc[(df.loc[:, \"a\"] < 0) & (df.loc[:, \"b\"] > 3), :]"
   ]
  },
  {
   "cell_type": "code",
   "execution_count": null,
   "id": "3af92ff2",
   "metadata": {},
   "outputs": [],
   "source": []
  }
 ],
 "metadata": {},
 "nbformat": 4,
 "nbformat_minor": 5
}
