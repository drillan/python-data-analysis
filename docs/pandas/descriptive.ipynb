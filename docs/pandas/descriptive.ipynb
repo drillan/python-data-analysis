{
 "cells": [
  {
   "cell_type": "markdown",
   "id": "604e719d",
   "metadata": {},
   "source": [
    "[![Open In Colab](https://colab.research.google.com/assets/colab-badge.svg)](http://colab.research.google.com/github/drillan/python-data-analysis/blob/main/docs/pandas/descriptive.ipynb)"
   ]
  },
  {
   "cell_type": "markdown",
   "id": "94867b27",
   "metadata": {},
   "source": [
    "# データの演算・記述統計\n",
    "\n",
    "pandasには数値データを高速にかつ効率よく演算・集計する機能が備わっています。本節では `Series` および `DataFrame` に対して算術演算や記述統計を行う方法について学びます。"
   ]
  },
  {
   "cell_type": "markdown",
   "id": "5724df71",
   "metadata": {},
   "source": [
    "本節では数値データを乱数で生成します。乱数はNumPyの `random.randn` 関数を実行して、4行4列からなる標準正規分布に従う乱数を生成します。 `numpy` モジュールは一般的に `np` という別名でインポートされます。"
   ]
  },
  {
   "cell_type": "code",
   "execution_count": 1,
   "id": "95ee35fc",
   "metadata": {},
   "outputs": [
    {
     "data": {
      "text/plain": [
       "0    0.189053\n",
       "1   -0.522748\n",
       "2   -0.413064\n",
       "3   -2.441467\n",
       "dtype: float64"
      ]
     },
     "execution_count": 1,
     "metadata": {},
     "output_type": "execute_result"
    }
   ],
   "source": [
    "import numpy as np\n",
    "import pandas as pd\n",
    "\n",
    "rng = np.random.default_rng(2)\n",
    "ser = pd.Series(rng.normal(size=4))\n",
    "df = pd.DataFrame(rng.normal(size=(4, 4)), columns=list(\"abcd\"))\n",
    "ser"
   ]
  },
  {
   "cell_type": "code",
   "execution_count": 2,
   "id": "bf8b8fec",
   "metadata": {},
   "outputs": [
    {
     "data": {
      "text/html": [
       "<div>\n",
       "<style scoped>\n",
       "    .dataframe tbody tr th:only-of-type {\n",
       "        vertical-align: middle;\n",
       "    }\n",
       "\n",
       "    .dataframe tbody tr th {\n",
       "        vertical-align: top;\n",
       "    }\n",
       "\n",
       "    .dataframe thead th {\n",
       "        text-align: right;\n",
       "    }\n",
       "</style>\n",
       "<table border=\"1\" class=\"dataframe\">\n",
       "  <thead>\n",
       "    <tr style=\"text-align: right;\">\n",
       "      <th></th>\n",
       "      <th>a</th>\n",
       "      <th>b</th>\n",
       "      <th>c</th>\n",
       "      <th>d</th>\n",
       "    </tr>\n",
       "  </thead>\n",
       "  <tbody>\n",
       "    <tr>\n",
       "      <th>0</th>\n",
       "      <td>1.799707</td>\n",
       "      <td>1.144166</td>\n",
       "      <td>-0.325423</td>\n",
       "      <td>0.773807</td>\n",
       "    </tr>\n",
       "    <tr>\n",
       "      <th>1</th>\n",
       "      <td>0.281211</td>\n",
       "      <td>-0.553823</td>\n",
       "      <td>0.977567</td>\n",
       "      <td>-0.310557</td>\n",
       "    </tr>\n",
       "    <tr>\n",
       "      <th>2</th>\n",
       "      <td>-0.328824</td>\n",
       "      <td>-0.792147</td>\n",
       "      <td>0.454958</td>\n",
       "      <td>-0.099198</td>\n",
       "    </tr>\n",
       "    <tr>\n",
       "      <th>3</th>\n",
       "      <td>0.545289</td>\n",
       "      <td>-0.607186</td>\n",
       "      <td>0.126828</td>\n",
       "      <td>-0.892274</td>\n",
       "    </tr>\n",
       "  </tbody>\n",
       "</table>\n",
       "</div>"
      ],
      "text/plain": [
       "          a         b         c         d\n",
       "0  1.799707  1.144166 -0.325423  0.773807\n",
       "1  0.281211 -0.553823  0.977567 -0.310557\n",
       "2 -0.328824 -0.792147  0.454958 -0.099198\n",
       "3  0.545289 -0.607186  0.126828 -0.892274"
      ]
     },
     "execution_count": 2,
     "metadata": {},
     "output_type": "execute_result"
    }
   ],
   "source": [
    "df"
   ]
  },
  {
   "cell_type": "markdown",
   "id": "43d492c4",
   "metadata": {},
   "source": [
    "## 演算子による演算\n",
    "\n",
    "`Series` および `DataFrame` に対して演算子による演算を行うと、すべての要素に対して演算されます。"
   ]
  },
  {
   "cell_type": "code",
   "execution_count": 3,
   "id": "0a40ec42",
   "metadata": {},
   "outputs": [
    {
     "data": {
      "text/plain": [
       "0    10.189053\n",
       "1     9.477252\n",
       "2     9.586936\n",
       "3     7.558533\n",
       "dtype: float64"
      ]
     },
     "execution_count": 3,
     "metadata": {},
     "output_type": "execute_result"
    }
   ],
   "source": [
    "ser + 10"
   ]
  },
  {
   "cell_type": "code",
   "execution_count": 4,
   "id": "ffa68894",
   "metadata": {},
   "outputs": [
    {
     "data": {
      "text/html": [
       "<div>\n",
       "<style scoped>\n",
       "    .dataframe tbody tr th:only-of-type {\n",
       "        vertical-align: middle;\n",
       "    }\n",
       "\n",
       "    .dataframe tbody tr th {\n",
       "        vertical-align: top;\n",
       "    }\n",
       "\n",
       "    .dataframe thead th {\n",
       "        text-align: right;\n",
       "    }\n",
       "</style>\n",
       "<table border=\"1\" class=\"dataframe\">\n",
       "  <thead>\n",
       "    <tr style=\"text-align: right;\">\n",
       "      <th></th>\n",
       "      <th>a</th>\n",
       "      <th>b</th>\n",
       "      <th>c</th>\n",
       "      <th>d</th>\n",
       "    </tr>\n",
       "  </thead>\n",
       "  <tbody>\n",
       "    <tr>\n",
       "      <th>0</th>\n",
       "      <td>3.238947</td>\n",
       "      <td>1.309116</td>\n",
       "      <td>0.105900</td>\n",
       "      <td>0.598777</td>\n",
       "    </tr>\n",
       "    <tr>\n",
       "      <th>1</th>\n",
       "      <td>0.079079</td>\n",
       "      <td>0.306720</td>\n",
       "      <td>0.955638</td>\n",
       "      <td>0.096445</td>\n",
       "    </tr>\n",
       "    <tr>\n",
       "      <th>2</th>\n",
       "      <td>0.108125</td>\n",
       "      <td>0.627496</td>\n",
       "      <td>0.206987</td>\n",
       "      <td>0.009840</td>\n",
       "    </tr>\n",
       "    <tr>\n",
       "      <th>3</th>\n",
       "      <td>0.297340</td>\n",
       "      <td>0.368674</td>\n",
       "      <td>0.016085</td>\n",
       "      <td>0.796153</td>\n",
       "    </tr>\n",
       "  </tbody>\n",
       "</table>\n",
       "</div>"
      ],
      "text/plain": [
       "          a         b         c         d\n",
       "0  3.238947  1.309116  0.105900  0.598777\n",
       "1  0.079079  0.306720  0.955638  0.096445\n",
       "2  0.108125  0.627496  0.206987  0.009840\n",
       "3  0.297340  0.368674  0.016085  0.796153"
      ]
     },
     "execution_count": 4,
     "metadata": {},
     "output_type": "execute_result"
    }
   ],
   "source": [
    "df ** 2"
   ]
  },
  {
   "cell_type": "markdown",
   "id": "15798a46",
   "metadata": {},
   "source": [
    "`Series` と `DataFrame` 同士の演算ができます。この場合、演算対象の要素数が合致している必要があります。"
   ]
  },
  {
   "cell_type": "code",
   "execution_count": 5,
   "id": "11a714b1",
   "metadata": {},
   "outputs": [
    {
     "data": {
      "text/plain": [
       "0    0.567160\n",
       "1   -1.568245\n",
       "2   -1.239191\n",
       "3   -7.324402\n",
       "dtype: float64"
      ]
     },
     "execution_count": 5,
     "metadata": {},
     "output_type": "execute_result"
    }
   ],
   "source": [
    "ser + ser * 2"
   ]
  },
  {
   "cell_type": "code",
   "execution_count": 6,
   "id": "f9256cfd",
   "metadata": {},
   "outputs": [
    {
     "data": {
      "text/html": [
       "<div>\n",
       "<style scoped>\n",
       "    .dataframe tbody tr th:only-of-type {\n",
       "        vertical-align: middle;\n",
       "    }\n",
       "\n",
       "    .dataframe tbody tr th {\n",
       "        vertical-align: top;\n",
       "    }\n",
       "\n",
       "    .dataframe thead th {\n",
       "        text-align: right;\n",
       "    }\n",
       "</style>\n",
       "<table border=\"1\" class=\"dataframe\">\n",
       "  <thead>\n",
       "    <tr style=\"text-align: right;\">\n",
       "      <th></th>\n",
       "      <th>a</th>\n",
       "      <th>b</th>\n",
       "      <th>c</th>\n",
       "      <th>d</th>\n",
       "    </tr>\n",
       "  </thead>\n",
       "  <tbody>\n",
       "    <tr>\n",
       "      <th>0</th>\n",
       "      <td>1.0</td>\n",
       "      <td>1.0</td>\n",
       "      <td>1.0</td>\n",
       "      <td>1.0</td>\n",
       "    </tr>\n",
       "    <tr>\n",
       "      <th>1</th>\n",
       "      <td>1.0</td>\n",
       "      <td>1.0</td>\n",
       "      <td>1.0</td>\n",
       "      <td>1.0</td>\n",
       "    </tr>\n",
       "    <tr>\n",
       "      <th>2</th>\n",
       "      <td>1.0</td>\n",
       "      <td>1.0</td>\n",
       "      <td>1.0</td>\n",
       "      <td>1.0</td>\n",
       "    </tr>\n",
       "    <tr>\n",
       "      <th>3</th>\n",
       "      <td>1.0</td>\n",
       "      <td>1.0</td>\n",
       "      <td>1.0</td>\n",
       "      <td>1.0</td>\n",
       "    </tr>\n",
       "  </tbody>\n",
       "</table>\n",
       "</div>"
      ],
      "text/plain": [
       "     a    b    c    d\n",
       "0  1.0  1.0  1.0  1.0\n",
       "1  1.0  1.0  1.0  1.0\n",
       "2  1.0  1.0  1.0  1.0\n",
       "3  1.0  1.0  1.0  1.0"
      ]
     },
     "execution_count": 6,
     "metadata": {},
     "output_type": "execute_result"
    }
   ],
   "source": [
    "df / df"
   ]
  },
  {
   "cell_type": "markdown",
   "id": "3ce210ce",
   "metadata": {},
   "source": [
    "## 関数・メソッドによる演算\n",
    "\n",
    "`Series` および `DataFrame` には関数が適用できます。\n",
    "\n",
    "次のコードは各要素に関数を適用しています。"
   ]
  },
  {
   "cell_type": "code",
   "execution_count": 7,
   "id": "da197e51",
   "metadata": {},
   "outputs": [
    {
     "data": {
      "text/plain": [
       "0    0.189053\n",
       "1    0.522748\n",
       "2    0.413064\n",
       "3    2.441467\n",
       "dtype: float64"
      ]
     },
     "execution_count": 7,
     "metadata": {},
     "output_type": "execute_result"
    }
   ],
   "source": [
    "abs(ser)"
   ]
  },
  {
   "cell_type": "markdown",
   "id": "6bfd2bd7",
   "metadata": {},
   "source": [
    "`Series` および `DataFrame` には記述統計のためのメソッドが用意されています。\n",
    "\n",
    "<table border=\"1\" class=\"dataframe\">\n",
    "  <thead>\n",
    "    <tr style=\"text-align: right;\">\n",
    "      <th>Function</th>\n",
    "      <th>Description</th>\n",
    "    </tr>\n",
    "  </thead>\n",
    "  <tbody>\n",
    "    <tr>\n",
    "      <td>count</td>\n",
    "      <td>Number of non-NA observations</td>\n",
    "    </tr>\n",
    "    <tr>\n",
    "      <td>sum</td>\n",
    "      <td>Sum of values</td>\n",
    "    </tr>\n",
    "    <tr>\n",
    "      <td>mean</td>\n",
    "      <td>Mean of values</td>\n",
    "    </tr>\n",
    "    <tr>\n",
    "      <td>mad</td>\n",
    "      <td>Mean absolute deviation</td>\n",
    "    </tr>\n",
    "    <tr>\n",
    "      <td>median</td>\n",
    "      <td>Arithmetic median of values</td>\n",
    "    </tr>\n",
    "    <tr>\n",
    "      <td>min</td>\n",
    "      <td>Minimum</td>\n",
    "    </tr>\n",
    "    <tr>\n",
    "      <td>max</td>\n",
    "      <td>Maximum</td>\n",
    "    </tr>\n",
    "    <tr>\n",
    "      <td>mode</td>\n",
    "      <td>Mode</td>\n",
    "    </tr>\n",
    "    <tr>\n",
    "      <td>abs</td>\n",
    "      <td>Absolute Value</td>\n",
    "    </tr>\n",
    "    <tr>\n",
    "      <td>prod</td>\n",
    "      <td>Product of values</td>\n",
    "    </tr>\n",
    "    <tr>\n",
    "      <td>std</td>\n",
    "      <td>Bessel-corrected sample standard deviation</td>\n",
    "    </tr>\n",
    "    <tr>\n",
    "      <td>var</td>\n",
    "      <td>Unbiased variance</td>\n",
    "    </tr>\n",
    "    <tr>\n",
    "      <td>sem</td>\n",
    "      <td>Standard error of the mean</td>\n",
    "    </tr>\n",
    "    <tr>\n",
    "      <td>skew</td>\n",
    "      <td>Sample skewness (3rd moment)</td>\n",
    "    </tr>\n",
    "    <tr>\n",
    "      <td>kurt</td>\n",
    "      <td>Sample kurtosis (4th moment)</td>\n",
    "    </tr>\n",
    "    <tr>\n",
    "      <td>quantile</td>\n",
    "      <td>Sample quantile (value at %)</td>\n",
    "    </tr>\n",
    "    <tr>\n",
    "      <td>cumsum</td>\n",
    "      <td>Cumulative sum</td>\n",
    "    </tr>\n",
    "    <tr>\n",
    "      <td>cumprod</td>\n",
    "      <td>Cumulative product</td>\n",
    "    </tr>\n",
    "    <tr>\n",
    "      <td>cummax</td>\n",
    "      <td>Cumulative maximum</td>\n",
    "    </tr>\n",
    "    <tr>\n",
    "      <td>cummin</td>\n",
    "      <td>Cumulative minimum</td>\n",
    "    </tr>\n",
    "  </tbody>\n",
    "</table>\n",
    "<br/>\n",
    "\n",
    "> https://pandas.pydata.org/pandas-docs/stable/user_guide/basics.html#descriptive-statistics"
   ]
  },
  {
   "cell_type": "code",
   "execution_count": 8,
   "id": "3b070c91",
   "metadata": {},
   "outputs": [
    {
     "data": {
      "text/html": [
       "<div>\n",
       "<style scoped>\n",
       "    .dataframe tbody tr th:only-of-type {\n",
       "        vertical-align: middle;\n",
       "    }\n",
       "\n",
       "    .dataframe tbody tr th {\n",
       "        vertical-align: top;\n",
       "    }\n",
       "\n",
       "    .dataframe thead th {\n",
       "        text-align: right;\n",
       "    }\n",
       "</style>\n",
       "<table border=\"1\" class=\"dataframe\">\n",
       "  <thead>\n",
       "    <tr style=\"text-align: right;\">\n",
       "      <th></th>\n",
       "      <th>a</th>\n",
       "      <th>b</th>\n",
       "      <th>c</th>\n",
       "      <th>d</th>\n",
       "    </tr>\n",
       "  </thead>\n",
       "  <tbody>\n",
       "    <tr>\n",
       "      <th>0</th>\n",
       "      <td>2.0</td>\n",
       "      <td>1.0</td>\n",
       "      <td>-0.0</td>\n",
       "      <td>1.0</td>\n",
       "    </tr>\n",
       "    <tr>\n",
       "      <th>1</th>\n",
       "      <td>0.0</td>\n",
       "      <td>-1.0</td>\n",
       "      <td>1.0</td>\n",
       "      <td>-0.0</td>\n",
       "    </tr>\n",
       "    <tr>\n",
       "      <th>2</th>\n",
       "      <td>-0.0</td>\n",
       "      <td>-1.0</td>\n",
       "      <td>0.0</td>\n",
       "      <td>-0.0</td>\n",
       "    </tr>\n",
       "    <tr>\n",
       "      <th>3</th>\n",
       "      <td>1.0</td>\n",
       "      <td>-1.0</td>\n",
       "      <td>0.0</td>\n",
       "      <td>-1.0</td>\n",
       "    </tr>\n",
       "  </tbody>\n",
       "</table>\n",
       "</div>"
      ],
      "text/plain": [
       "     a    b    c    d\n",
       "0  2.0  1.0 -0.0  1.0\n",
       "1  0.0 -1.0  1.0 -0.0\n",
       "2 -0.0 -1.0  0.0 -0.0\n",
       "3  1.0 -1.0  0.0 -1.0"
      ]
     },
     "execution_count": 8,
     "metadata": {},
     "output_type": "execute_result"
    }
   ],
   "source": [
    "round(df)"
   ]
  },
  {
   "cell_type": "code",
   "execution_count": 9,
   "id": "faae5282",
   "metadata": {},
   "outputs": [
    {
     "data": {
      "text/plain": [
       "-3.1882259857189634"
      ]
     },
     "execution_count": 9,
     "metadata": {},
     "output_type": "execute_result"
    }
   ],
   "source": [
    "# 合計値\n",
    "ser.sum()"
   ]
  },
  {
   "cell_type": "code",
   "execution_count": 10,
   "id": "84136878",
   "metadata": {},
   "outputs": [
    {
     "data": {
      "text/plain": [
       "a    2.297383\n",
       "b   -0.808989\n",
       "c    1.233931\n",
       "d   -0.528222\n",
       "dtype: float64"
      ]
     },
     "execution_count": 10,
     "metadata": {},
     "output_type": "execute_result"
    }
   ],
   "source": [
    "df.sum()"
   ]
  },
  {
   "cell_type": "code",
   "execution_count": 11,
   "id": "63b7f343",
   "metadata": {},
   "outputs": [
    {
     "data": {
      "text/plain": [
       "-0.7970564964297409"
      ]
     },
     "execution_count": 11,
     "metadata": {},
     "output_type": "execute_result"
    }
   ],
   "source": [
    "# 算術平均\n",
    "ser.mean()"
   ]
  },
  {
   "cell_type": "code",
   "execution_count": 12,
   "id": "6e2634fa",
   "metadata": {},
   "outputs": [
    {
     "data": {
      "text/plain": [
       "a    0.574346\n",
       "b   -0.202247\n",
       "c    0.308483\n",
       "d   -0.132056\n",
       "dtype: float64"
      ]
     },
     "execution_count": 12,
     "metadata": {},
     "output_type": "execute_result"
    }
   ],
   "source": [
    "df.mean()"
   ]
  },
  {
   "cell_type": "markdown",
   "id": "56347941",
   "metadata": {},
   "source": [
    "`DataFrame` に対して集計を行うメソッドは、デフォルトで列に対して演算を行います。行に対して演算を行うにはメソッドの引数 `axis` に `1` を渡します。"
   ]
  },
  {
   "cell_type": "code",
   "execution_count": 13,
   "id": "ecb8fcf3",
   "metadata": {},
   "outputs": [
    {
     "data": {
      "text/plain": [
       "0    0.848064\n",
       "1    0.098600\n",
       "2   -0.191303\n",
       "3   -0.206836\n",
       "dtype: float64"
      ]
     },
     "execution_count": 13,
     "metadata": {},
     "output_type": "execute_result"
    }
   ],
   "source": [
    "df.mean(axis=1)"
   ]
  },
  {
   "cell_type": "markdown",
   "id": "6b0e3e08",
   "metadata": {},
   "source": [
    "`describe` メソッドを実行すると、基本統計量を算出できます。パーセント表示はパーセンタイル値です。"
   ]
  },
  {
   "cell_type": "code",
   "execution_count": 14,
   "id": "b6df6de6",
   "metadata": {},
   "outputs": [
    {
     "data": {
      "text/html": [
       "<div>\n",
       "<style scoped>\n",
       "    .dataframe tbody tr th:only-of-type {\n",
       "        vertical-align: middle;\n",
       "    }\n",
       "\n",
       "    .dataframe tbody tr th {\n",
       "        vertical-align: top;\n",
       "    }\n",
       "\n",
       "    .dataframe thead th {\n",
       "        text-align: right;\n",
       "    }\n",
       "</style>\n",
       "<table border=\"1\" class=\"dataframe\">\n",
       "  <thead>\n",
       "    <tr style=\"text-align: right;\">\n",
       "      <th></th>\n",
       "      <th>a</th>\n",
       "      <th>b</th>\n",
       "      <th>c</th>\n",
       "      <th>d</th>\n",
       "    </tr>\n",
       "  </thead>\n",
       "  <tbody>\n",
       "    <tr>\n",
       "      <th>count</th>\n",
       "      <td>4.000000</td>\n",
       "      <td>4.000000</td>\n",
       "      <td>4.000000</td>\n",
       "      <td>4.000000</td>\n",
       "    </tr>\n",
       "    <tr>\n",
       "      <th>mean</th>\n",
       "      <td>0.574346</td>\n",
       "      <td>-0.202247</td>\n",
       "      <td>0.308483</td>\n",
       "      <td>-0.132056</td>\n",
       "    </tr>\n",
       "    <tr>\n",
       "      <th>std</th>\n",
       "      <td>0.895172</td>\n",
       "      <td>0.903399</td>\n",
       "      <td>0.548927</td>\n",
       "      <td>0.690763</td>\n",
       "    </tr>\n",
       "    <tr>\n",
       "      <th>min</th>\n",
       "      <td>-0.328824</td>\n",
       "      <td>-0.792147</td>\n",
       "      <td>-0.325423</td>\n",
       "      <td>-0.892274</td>\n",
       "    </tr>\n",
       "    <tr>\n",
       "      <th>25%</th>\n",
       "      <td>0.128702</td>\n",
       "      <td>-0.653426</td>\n",
       "      <td>0.013765</td>\n",
       "      <td>-0.455986</td>\n",
       "    </tr>\n",
       "    <tr>\n",
       "      <th>50%</th>\n",
       "      <td>0.413250</td>\n",
       "      <td>-0.580504</td>\n",
       "      <td>0.290893</td>\n",
       "      <td>-0.204877</td>\n",
       "    </tr>\n",
       "    <tr>\n",
       "      <th>75%</th>\n",
       "      <td>0.858893</td>\n",
       "      <td>-0.129326</td>\n",
       "      <td>0.585610</td>\n",
       "      <td>0.119053</td>\n",
       "    </tr>\n",
       "    <tr>\n",
       "      <th>max</th>\n",
       "      <td>1.799707</td>\n",
       "      <td>1.144166</td>\n",
       "      <td>0.977567</td>\n",
       "      <td>0.773807</td>\n",
       "    </tr>\n",
       "  </tbody>\n",
       "</table>\n",
       "</div>"
      ],
      "text/plain": [
       "              a         b         c         d\n",
       "count  4.000000  4.000000  4.000000  4.000000\n",
       "mean   0.574346 -0.202247  0.308483 -0.132056\n",
       "std    0.895172  0.903399  0.548927  0.690763\n",
       "min   -0.328824 -0.792147 -0.325423 -0.892274\n",
       "25%    0.128702 -0.653426  0.013765 -0.455986\n",
       "50%    0.413250 -0.580504  0.290893 -0.204877\n",
       "75%    0.858893 -0.129326  0.585610  0.119053\n",
       "max    1.799707  1.144166  0.977567  0.773807"
      ]
     },
     "execution_count": 14,
     "metadata": {},
     "output_type": "execute_result"
    }
   ],
   "source": [
    "df.describe()"
   ]
  },
  {
   "cell_type": "markdown",
   "id": "6ac68edc",
   "metadata": {},
   "source": [
    "`apply` メソッドを実行すると、引数に渡した任意の関数を適用できます。"
   ]
  },
  {
   "cell_type": "code",
   "execution_count": 15,
   "id": "ce6ed191",
   "metadata": {},
   "outputs": [
    {
     "data": {
      "text/plain": [
       "0    0.189053\n",
       "1    0.522748\n",
       "2    0.413064\n",
       "3    2.441467\n",
       "dtype: float64"
      ]
     },
     "execution_count": 15,
     "metadata": {},
     "output_type": "execute_result"
    }
   ],
   "source": [
    "ser.apply(abs)"
   ]
  },
  {
   "cell_type": "code",
   "execution_count": 16,
   "id": "ad793e46",
   "metadata": {},
   "outputs": [
    {
     "data": {
      "text/plain": [
       "a    2.297383\n",
       "b   -0.808989\n",
       "c    1.233931\n",
       "d   -0.528222\n",
       "dtype: float64"
      ]
     },
     "execution_count": 16,
     "metadata": {},
     "output_type": "execute_result"
    }
   ],
   "source": [
    "df.apply(sum)"
   ]
  },
  {
   "cell_type": "markdown",
   "id": "f7c8e350",
   "metadata": {},
   "source": [
    "`apply` メソッドは、デフォルトで列に対して演算を行います。行に対して演算を行うにはメソッドの引数 axis に 1 を渡します。"
   ]
  },
  {
   "cell_type": "code",
   "execution_count": 17,
   "id": "eb768d84",
   "metadata": {},
   "outputs": [
    {
     "data": {
      "text/plain": [
       "0    3.392257\n",
       "1    0.394399\n",
       "2   -0.765211\n",
       "3   -0.827343\n",
       "dtype: float64"
      ]
     },
     "execution_count": 17,
     "metadata": {},
     "output_type": "execute_result"
    }
   ],
   "source": [
    "df.apply(sum, axis=1)"
   ]
  },
  {
   "cell_type": "markdown",
   "id": "21df751d",
   "metadata": {},
   "source": [
    "次のように、関数を定義して適用できます。"
   ]
  },
  {
   "cell_type": "code",
   "execution_count": 18,
   "id": "05e91035",
   "metadata": {},
   "outputs": [],
   "source": [
    "def max_sub_min(x):\n",
    "    return x.max() - x.min()"
   ]
  },
  {
   "cell_type": "code",
   "execution_count": 19,
   "id": "d3a4163a",
   "metadata": {},
   "outputs": [
    {
     "data": {
      "text/plain": [
       "a    2.128531\n",
       "b    1.936313\n",
       "c    1.302990\n",
       "d    1.666081\n",
       "dtype: float64"
      ]
     },
     "execution_count": 19,
     "metadata": {},
     "output_type": "execute_result"
    }
   ],
   "source": [
    "df.apply(max_sub_min)"
   ]
  },
  {
   "cell_type": "markdown",
   "id": "07a52af9",
   "metadata": {},
   "source": [
    "無名関数を利用することで、関数の定義を省略できます。\n",
    "\n",
    "https://docs.python.org/ja/3/reference/expressions.html#lambda"
   ]
  },
  {
   "cell_type": "code",
   "execution_count": 20,
   "id": "689049ec",
   "metadata": {},
   "outputs": [
    {
     "data": {
      "text/plain": [
       "a    2.128531\n",
       "b    1.936313\n",
       "c    1.302990\n",
       "d    1.666081\n",
       "dtype: float64"
      ]
     },
     "execution_count": 20,
     "metadata": {},
     "output_type": "execute_result"
    }
   ],
   "source": [
    "df.apply(lambda x: x.max() - x.min())"
   ]
  },
  {
   "cell_type": "markdown",
   "id": "ff7adb26",
   "metadata": {},
   "source": [
    "### 練習問題1\n",
    "\n",
    "`ser` オブジェクトの中央値を算出してください。"
   ]
  },
  {
   "cell_type": "code",
   "execution_count": 21,
   "id": "eed27179",
   "metadata": {},
   "outputs": [
    {
     "data": {
      "text/plain": [
       "0    0.189053\n",
       "1   -0.522748\n",
       "2   -0.413064\n",
       "3   -2.441467\n",
       "dtype: float64"
      ]
     },
     "execution_count": 21,
     "metadata": {},
     "output_type": "execute_result"
    }
   ],
   "source": [
    "ser"
   ]
  },
  {
   "cell_type": "code",
   "execution_count": 22,
   "id": "fccae2eb",
   "metadata": {},
   "outputs": [],
   "source": [
    "# 解答セル"
   ]
  },
  {
   "cell_type": "markdown",
   "id": "6381caae",
   "metadata": {},
   "source": [
    "### 練習問題2\n",
    "\n",
    "`df` オブジェクトの列ごとの中央値を算出してください。"
   ]
  },
  {
   "cell_type": "code",
   "execution_count": 23,
   "id": "277649de",
   "metadata": {},
   "outputs": [
    {
     "data": {
      "text/html": [
       "<div>\n",
       "<style scoped>\n",
       "    .dataframe tbody tr th:only-of-type {\n",
       "        vertical-align: middle;\n",
       "    }\n",
       "\n",
       "    .dataframe tbody tr th {\n",
       "        vertical-align: top;\n",
       "    }\n",
       "\n",
       "    .dataframe thead th {\n",
       "        text-align: right;\n",
       "    }\n",
       "</style>\n",
       "<table border=\"1\" class=\"dataframe\">\n",
       "  <thead>\n",
       "    <tr style=\"text-align: right;\">\n",
       "      <th></th>\n",
       "      <th>a</th>\n",
       "      <th>b</th>\n",
       "      <th>c</th>\n",
       "      <th>d</th>\n",
       "    </tr>\n",
       "  </thead>\n",
       "  <tbody>\n",
       "    <tr>\n",
       "      <th>0</th>\n",
       "      <td>1.799707</td>\n",
       "      <td>1.144166</td>\n",
       "      <td>-0.325423</td>\n",
       "      <td>0.773807</td>\n",
       "    </tr>\n",
       "    <tr>\n",
       "      <th>1</th>\n",
       "      <td>0.281211</td>\n",
       "      <td>-0.553823</td>\n",
       "      <td>0.977567</td>\n",
       "      <td>-0.310557</td>\n",
       "    </tr>\n",
       "    <tr>\n",
       "      <th>2</th>\n",
       "      <td>-0.328824</td>\n",
       "      <td>-0.792147</td>\n",
       "      <td>0.454958</td>\n",
       "      <td>-0.099198</td>\n",
       "    </tr>\n",
       "    <tr>\n",
       "      <th>3</th>\n",
       "      <td>0.545289</td>\n",
       "      <td>-0.607186</td>\n",
       "      <td>0.126828</td>\n",
       "      <td>-0.892274</td>\n",
       "    </tr>\n",
       "  </tbody>\n",
       "</table>\n",
       "</div>"
      ],
      "text/plain": [
       "          a         b         c         d\n",
       "0  1.799707  1.144166 -0.325423  0.773807\n",
       "1  0.281211 -0.553823  0.977567 -0.310557\n",
       "2 -0.328824 -0.792147  0.454958 -0.099198\n",
       "3  0.545289 -0.607186  0.126828 -0.892274"
      ]
     },
     "execution_count": 23,
     "metadata": {},
     "output_type": "execute_result"
    }
   ],
   "source": [
    "df"
   ]
  },
  {
   "cell_type": "code",
   "execution_count": 24,
   "id": "6f41b746",
   "metadata": {},
   "outputs": [],
   "source": [
    "# 解答セル"
   ]
  },
  {
   "cell_type": "markdown",
   "id": "5b2fad3c",
   "metadata": {},
   "source": [
    "### 練習問題3\n",
    "\n",
    "`df` オブジェクトの行ごとの中央値を算出してください。"
   ]
  },
  {
   "cell_type": "code",
   "execution_count": 25,
   "id": "b8bc66b5",
   "metadata": {},
   "outputs": [],
   "source": [
    "# 解答セル"
   ]
  },
  {
   "cell_type": "markdown",
   "id": "d6ec850b",
   "metadata": {},
   "source": [
    "### 練習問題4\n",
    "\n",
    "`ser` オブジェクトの各要素に次の関数を適用してください。\n",
    "\n",
    "\\begin{align}\n",
    "x^2 + 3x + 4\n",
    "\\end{align}"
   ]
  },
  {
   "cell_type": "code",
   "execution_count": 26,
   "id": "d49b5b74",
   "metadata": {},
   "outputs": [],
   "source": [
    "# 解答セル"
   ]
  },
  {
   "cell_type": "markdown",
   "id": "3adec562",
   "metadata": {},
   "source": [
    "### 練習問題5\n",
    "\n",
    "`df` オブジェクトの各要素に次の関数を適用してください。\n",
    "\n",
    "\\begin{align}\n",
    "x^2 + 3x + 4\n",
    "\\end{align}"
   ]
  },
  {
   "cell_type": "code",
   "execution_count": 27,
   "id": "d0c36d0b",
   "metadata": {},
   "outputs": [],
   "source": [
    "# 解答セル"
   ]
  }
 ],
 "metadata": {},
 "nbformat": 4,
 "nbformat_minor": 5
}
