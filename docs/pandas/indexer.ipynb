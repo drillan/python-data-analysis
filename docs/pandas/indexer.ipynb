{
 "cells": [
  {
   "cell_type": "markdown",
   "id": "b8869582",
   "metadata": {},
   "source": [
    "[![Open In Colab](https://colab.research.google.com/assets/colab-badge.svg)](http://colab.research.google.com/github/drillan/python-data-analysis/blob/main/docs/pandas/indexer.ipynb)"
   ]
  },
  {
   "cell_type": "markdown",
   "id": "8f7c4091",
   "metadata": {},
   "source": [
    "# インデクサ\n",
    "\n",
    "pandasのSeriesおよびDataFrameにはインデクサと呼ばれるインデックス（ラベル）にアクセスするためのプロパティ（属性）があります。インデクサを利用することで、データを効率よく抽出したり、書き換えることができます。\n",
    "\n",
    ".loc\n",
    ": インデックス（ラベル）による指定\n",
    "\n",
    ".iloc\n",
    ": 位置（順序）による指定\n",
    "\n",
    ".at\n",
    ": インデックス（ラベル）による指定、値（単一のデータ）が対象\n",
    "\n",
    ".iat\n",
    ": 位置（順序）による指定、値（単一のデータ）が対象\n",
    "\n",
    "## .locインデクサ\n",
    "\n",
    ".locインデクサはデータのインデックス（ラベル）を添字に指定して、データにアクセスします。"
   ]
  },
  {
   "cell_type": "code",
   "execution_count": 1,
   "id": "d16cf0e2",
   "metadata": {},
   "outputs": [
    {
     "data": {
      "text/plain": [
       "a    A\n",
       "b    B\n",
       "c    C\n",
       "d    D\n",
       "e    E\n",
       "dtype: object"
      ]
     },
     "execution_count": 1,
     "metadata": {},
     "output_type": "execute_result"
    }
   ],
   "source": [
    "import pandas as pd\n",
    "\n",
    "ser = pd.Series(list(\"ABCDE\"), index=list(\"abcde\"))\n",
    "ser"
   ]
  },
  {
   "cell_type": "code",
   "execution_count": 2,
   "id": "1e7dd5a7",
   "metadata": {},
   "outputs": [
    {
     "data": {
      "text/plain": [
       "'B'"
      ]
     },
     "execution_count": 2,
     "metadata": {},
     "output_type": "execute_result"
    }
   ],
   "source": [
    "ser.loc[\"b\"]"
   ]
  },
  {
   "cell_type": "markdown",
   "id": "b36066ca",
   "metadata": {},
   "source": [
    "リストやタプルなどと同様にスライスによる指定ができます。.locインデクサによるスライスは **開始位置と終了位置が含まれます** 。"
   ]
  },
  {
   "cell_type": "code",
   "execution_count": 3,
   "id": "eec954ad",
   "metadata": {},
   "outputs": [
    {
     "data": {
      "text/plain": [
       "b    B\n",
       "c    C\n",
       "d    D\n",
       "dtype: object"
      ]
     },
     "execution_count": 3,
     "metadata": {},
     "output_type": "execute_result"
    }
   ],
   "source": [
    "ser.loc[\"b\":\"d\"]"
   ]
  },
  {
   "cell_type": "code",
   "execution_count": 4,
   "id": "84d3800c",
   "metadata": {},
   "outputs": [
    {
     "data": {
      "text/plain": [
       "c    C\n",
       "d    D\n",
       "e    E\n",
       "dtype: object"
      ]
     },
     "execution_count": 4,
     "metadata": {},
     "output_type": "execute_result"
    }
   ],
   "source": [
    "ser.loc[\"c\":]"
   ]
  },
  {
   "cell_type": "code",
   "execution_count": 5,
   "id": "ee681926",
   "metadata": {},
   "outputs": [
    {
     "data": {
      "text/plain": [
       "a    A\n",
       "b    B\n",
       "c    C\n",
       "dtype: object"
      ]
     },
     "execution_count": 5,
     "metadata": {},
     "output_type": "execute_result"
    }
   ],
   "source": [
    "ser.loc[:\"c\"]"
   ]
  },
  {
   "cell_type": "markdown",
   "id": "0c3d9ff2",
   "metadata": {},
   "source": [
    "すべての要素にアクセスする場合は、添字に `:` を渡します。"
   ]
  },
  {
   "cell_type": "code",
   "execution_count": 6,
   "id": "85792a9e",
   "metadata": {},
   "outputs": [
    {
     "data": {
      "text/plain": [
       "a    A\n",
       "b    B\n",
       "c    C\n",
       "d    D\n",
       "e    E\n",
       "dtype: object"
      ]
     },
     "execution_count": 6,
     "metadata": {},
     "output_type": "execute_result"
    }
   ],
   "source": [
    "ser.loc[:]"
   ]
  },
  {
   "cell_type": "markdown",
   "id": "cc42812c",
   "metadata": {},
   "source": [
    "添字にリストを渡すことで、リスト内に指定した要素にアクセスできます。"
   ]
  },
  {
   "cell_type": "code",
   "execution_count": 7,
   "id": "9f2cd249",
   "metadata": {},
   "outputs": [
    {
     "data": {
      "text/plain": [
       "a    A\n",
       "c    C\n",
       "dtype: object"
      ]
     },
     "execution_count": 7,
     "metadata": {},
     "output_type": "execute_result"
    }
   ],
   "source": [
    "ser.loc[[\"a\", \"c\"]]"
   ]
  },
  {
   "cell_type": "markdown",
   "id": "1a4cccd7",
   "metadata": {},
   "source": [
    "### 練習問題1\n",
    "\n",
    "`ser` オブジェクトからインデックス（ラベル）が `\"a\"` から `\"d\"` までを抽出してください。"
   ]
  },
  {
   "cell_type": "code",
   "execution_count": 8,
   "id": "a81bc473",
   "metadata": {},
   "outputs": [],
   "source": [
    "# 解答セル"
   ]
  },
  {
   "cell_type": "markdown",
   "id": "f3726723",
   "metadata": {},
   "source": [
    "### 練習問題2\n",
    "\n",
    "`ser` オブジェクトからインデックス（ラベル）が `\"b\"` と `\"d\"` を抽出してください。"
   ]
  },
  {
   "cell_type": "markdown",
   "id": "9c63096f",
   "metadata": {},
   "source": [
    "DataFrameの場合は添字に `行のインデックス, 列のインデックス` の形式で指定します。"
   ]
  },
  {
   "cell_type": "code",
   "execution_count": 9,
   "id": "fa312220",
   "metadata": {},
   "outputs": [
    {
     "data": {
      "text/html": [
       "<div>\n",
       "<style scoped>\n",
       "    .dataframe tbody tr th:only-of-type {\n",
       "        vertical-align: middle;\n",
       "    }\n",
       "\n",
       "    .dataframe tbody tr th {\n",
       "        vertical-align: top;\n",
       "    }\n",
       "\n",
       "    .dataframe thead th {\n",
       "        text-align: right;\n",
       "    }\n",
       "</style>\n",
       "<table border=\"1\" class=\"dataframe\">\n",
       "  <thead>\n",
       "    <tr style=\"text-align: right;\">\n",
       "      <th></th>\n",
       "      <th>c1</th>\n",
       "      <th>c2</th>\n",
       "      <th>c3</th>\n",
       "    </tr>\n",
       "  </thead>\n",
       "  <tbody>\n",
       "    <tr>\n",
       "      <th>r1</th>\n",
       "      <td>r1c1</td>\n",
       "      <td>r1c2</td>\n",
       "      <td>r1c3</td>\n",
       "    </tr>\n",
       "    <tr>\n",
       "      <th>r2</th>\n",
       "      <td>r2c1</td>\n",
       "      <td>r2c2</td>\n",
       "      <td>r2c3</td>\n",
       "    </tr>\n",
       "    <tr>\n",
       "      <th>r3</th>\n",
       "      <td>r3c1</td>\n",
       "      <td>r3c2</td>\n",
       "      <td>r3c3</td>\n",
       "    </tr>\n",
       "  </tbody>\n",
       "</table>\n",
       "</div>"
      ],
      "text/plain": [
       "      c1    c2    c3\n",
       "r1  r1c1  r1c2  r1c3\n",
       "r2  r2c1  r2c2  r2c3\n",
       "r3  r3c1  r3c2  r3c3"
      ]
     },
     "execution_count": 9,
     "metadata": {},
     "output_type": "execute_result"
    }
   ],
   "source": [
    "df = pd.DataFrame(\n",
    "    [\n",
    "        [\"r1c1\", \"r1c2\", \"r1c3\"],\n",
    "        [\"r2c1\", \"r2c2\", \"r2c3\"],\n",
    "        [\"r3c1\", \"r3c2\", \"r3c3\"],\n",
    "    ],\n",
    "    index=[\"r1\", \"r2\", \"r3\"],\n",
    "    columns=[\"c1\", \"c2\", \"c3\"]\n",
    ")\n",
    "df"
   ]
  },
  {
   "cell_type": "code",
   "execution_count": 10,
   "id": "ee620068",
   "metadata": {},
   "outputs": [
    {
     "data": {
      "text/plain": [
       "'r1c2'"
      ]
     },
     "execution_count": 10,
     "metadata": {},
     "output_type": "execute_result"
    }
   ],
   "source": [
    "df.loc[\"r1\", \"c2\"]"
   ]
  },
  {
   "cell_type": "markdown",
   "id": "1fbb1f46",
   "metadata": {},
   "source": [
    "Seriesと同様にスライスやリストを利用したアクセスができます。"
   ]
  },
  {
   "cell_type": "code",
   "execution_count": 11,
   "id": "83108c20",
   "metadata": {},
   "outputs": [
    {
     "data": {
      "text/html": [
       "<div>\n",
       "<style scoped>\n",
       "    .dataframe tbody tr th:only-of-type {\n",
       "        vertical-align: middle;\n",
       "    }\n",
       "\n",
       "    .dataframe tbody tr th {\n",
       "        vertical-align: top;\n",
       "    }\n",
       "\n",
       "    .dataframe thead th {\n",
       "        text-align: right;\n",
       "    }\n",
       "</style>\n",
       "<table border=\"1\" class=\"dataframe\">\n",
       "  <thead>\n",
       "    <tr style=\"text-align: right;\">\n",
       "      <th></th>\n",
       "      <th>c1</th>\n",
       "      <th>c3</th>\n",
       "    </tr>\n",
       "  </thead>\n",
       "  <tbody>\n",
       "    <tr>\n",
       "      <th>r2</th>\n",
       "      <td>r2c1</td>\n",
       "      <td>r2c3</td>\n",
       "    </tr>\n",
       "    <tr>\n",
       "      <th>r3</th>\n",
       "      <td>r3c1</td>\n",
       "      <td>r3c3</td>\n",
       "    </tr>\n",
       "  </tbody>\n",
       "</table>\n",
       "</div>"
      ],
      "text/plain": [
       "      c1    c3\n",
       "r2  r2c1  r2c3\n",
       "r3  r3c1  r3c3"
      ]
     },
     "execution_count": 11,
     "metadata": {},
     "output_type": "execute_result"
    }
   ],
   "source": [
    "df.loc[\"r2\":, [\"c1\", \"c3\"]]"
   ]
  },
  {
   "cell_type": "markdown",
   "id": "07ba013f",
   "metadata": {},
   "source": [
    "### 練習問題3\n",
    "\n",
    "`df` オブジェクトから `\"r2c1\"` を参照してください。"
   ]
  },
  {
   "cell_type": "code",
   "execution_count": 12,
   "id": "f38319c7",
   "metadata": {},
   "outputs": [],
   "source": [
    "# 解答セル"
   ]
  },
  {
   "cell_type": "markdown",
   "id": "aa0710d6",
   "metadata": {},
   "source": [
    "### 練習問題4\n",
    "\n",
    "`df` オブジェクトから「r2」以降の行と、「c1, c3」列を参照してください。\n",
    "\n",
    "<table border=\"1\" class=\"dataframe\">\n",
    "  <thead>\n",
    "    <tr style=\"text-align: right;\">\n",
    "      <th></th>\n",
    "      <th>c1</th>\n",
    "      <th>c3</th>\n",
    "    </tr>\n",
    "  </thead>\n",
    "  <tbody>\n",
    "    <tr>\n",
    "      <th>r2</th>\n",
    "      <td>r2c1</td>\n",
    "      <td>r2c3</td>\n",
    "    </tr>\n",
    "    <tr>\n",
    "      <th>r3</th>\n",
    "      <td>r3c1</td>\n",
    "      <td>r3c3</td>\n",
    "    </tr>\n",
    "  </tbody>\n",
    "</table>"
   ]
  },
  {
   "cell_type": "code",
   "execution_count": 13,
   "id": "523fd300",
   "metadata": {},
   "outputs": [],
   "source": [
    "# 解答セル"
   ]
  },
  {
   "cell_type": "markdown",
   "id": "2fcb3bed",
   "metadata": {},
   "source": [
    "## .ilocインデクサ\n",
    "\n",
    ".ilocインデクサはデータの位置（順序）を添字に指定して、データにアクセスします。"
   ]
  },
  {
   "cell_type": "code",
   "execution_count": 14,
   "id": "c8e4376c",
   "metadata": {},
   "outputs": [
    {
     "data": {
      "text/plain": [
       "a    A\n",
       "b    B\n",
       "c    C\n",
       "d    D\n",
       "e    E\n",
       "dtype: object"
      ]
     },
     "execution_count": 14,
     "metadata": {},
     "output_type": "execute_result"
    }
   ],
   "source": [
    "ser"
   ]
  },
  {
   "cell_type": "code",
   "execution_count": 15,
   "id": "38bc4cd3",
   "metadata": {},
   "outputs": [
    {
     "data": {
      "text/plain": [
       "'B'"
      ]
     },
     "execution_count": 15,
     "metadata": {},
     "output_type": "execute_result"
    }
   ],
   "source": [
    "ser.iloc[1]"
   ]
  },
  {
   "cell_type": "markdown",
   "id": "8df836f8",
   "metadata": {},
   "source": [
    "DataFrameの場合は添字に `行のインデックス, 列のインデックス` の形式で指定します。"
   ]
  },
  {
   "cell_type": "code",
   "execution_count": 16,
   "id": "e00b1742",
   "metadata": {},
   "outputs": [
    {
     "data": {
      "text/html": [
       "<div>\n",
       "<style scoped>\n",
       "    .dataframe tbody tr th:only-of-type {\n",
       "        vertical-align: middle;\n",
       "    }\n",
       "\n",
       "    .dataframe tbody tr th {\n",
       "        vertical-align: top;\n",
       "    }\n",
       "\n",
       "    .dataframe thead th {\n",
       "        text-align: right;\n",
       "    }\n",
       "</style>\n",
       "<table border=\"1\" class=\"dataframe\">\n",
       "  <thead>\n",
       "    <tr style=\"text-align: right;\">\n",
       "      <th></th>\n",
       "      <th>c1</th>\n",
       "      <th>c2</th>\n",
       "      <th>c3</th>\n",
       "    </tr>\n",
       "  </thead>\n",
       "  <tbody>\n",
       "    <tr>\n",
       "      <th>r1</th>\n",
       "      <td>r1c1</td>\n",
       "      <td>r1c2</td>\n",
       "      <td>r1c3</td>\n",
       "    </tr>\n",
       "    <tr>\n",
       "      <th>r2</th>\n",
       "      <td>r2c1</td>\n",
       "      <td>r2c2</td>\n",
       "      <td>r2c3</td>\n",
       "    </tr>\n",
       "    <tr>\n",
       "      <th>r3</th>\n",
       "      <td>r3c1</td>\n",
       "      <td>r3c2</td>\n",
       "      <td>r3c3</td>\n",
       "    </tr>\n",
       "  </tbody>\n",
       "</table>\n",
       "</div>"
      ],
      "text/plain": [
       "      c1    c2    c3\n",
       "r1  r1c1  r1c2  r1c3\n",
       "r2  r2c1  r2c2  r2c3\n",
       "r3  r3c1  r3c2  r3c3"
      ]
     },
     "execution_count": 16,
     "metadata": {},
     "output_type": "execute_result"
    }
   ],
   "source": [
    "df"
   ]
  },
  {
   "cell_type": "code",
   "execution_count": 17,
   "id": "9e22d78f",
   "metadata": {},
   "outputs": [
    {
     "data": {
      "text/plain": [
       "'r1c3'"
      ]
     },
     "execution_count": 17,
     "metadata": {},
     "output_type": "execute_result"
    }
   ],
   "source": [
    "df.iloc[0, 2]"
   ]
  },
  {
   "cell_type": "markdown",
   "id": "8bc89e36",
   "metadata": {},
   "source": [
    "リストやタプルなどと同様にスライスによる指定ができます。.locインデクサとは異なり、リストやタプルと同じ挙動をします。"
   ]
  },
  {
   "cell_type": "code",
   "execution_count": 18,
   "id": "f48259c3",
   "metadata": {},
   "outputs": [
    {
     "data": {
      "text/plain": [
       "c    C\n",
       "d    D\n",
       "dtype: object"
      ]
     },
     "execution_count": 18,
     "metadata": {},
     "output_type": "execute_result"
    }
   ],
   "source": [
    "ser.iloc[2:4]"
   ]
  },
  {
   "cell_type": "code",
   "execution_count": 19,
   "id": "714e3040",
   "metadata": {},
   "outputs": [
    {
     "data": {
      "text/plain": [
       "'CD'"
      ]
     },
     "execution_count": 19,
     "metadata": {},
     "output_type": "execute_result"
    }
   ],
   "source": [
    "\"ABCDE\"[2:4]"
   ]
  },
  {
   "cell_type": "markdown",
   "id": "7d1a261c",
   "metadata": {},
   "source": [
    ".locインデクサと同様に添字にリストを渡すことで、リスト内に指定した要素にアクセスできます。"
   ]
  },
  {
   "cell_type": "code",
   "execution_count": 20,
   "id": "0e09616f",
   "metadata": {},
   "outputs": [
    {
     "data": {
      "text/plain": [
       "b    B\n",
       "d    D\n",
       "dtype: object"
      ]
     },
     "execution_count": 20,
     "metadata": {},
     "output_type": "execute_result"
    }
   ],
   "source": [
    "ser.iloc[[1, 3]]"
   ]
  },
  {
   "cell_type": "code",
   "execution_count": 21,
   "id": "d3ad537e",
   "metadata": {},
   "outputs": [
    {
     "data": {
      "text/html": [
       "<div>\n",
       "<style scoped>\n",
       "    .dataframe tbody tr th:only-of-type {\n",
       "        vertical-align: middle;\n",
       "    }\n",
       "\n",
       "    .dataframe tbody tr th {\n",
       "        vertical-align: top;\n",
       "    }\n",
       "\n",
       "    .dataframe thead th {\n",
       "        text-align: right;\n",
       "    }\n",
       "</style>\n",
       "<table border=\"1\" class=\"dataframe\">\n",
       "  <thead>\n",
       "    <tr style=\"text-align: right;\">\n",
       "      <th></th>\n",
       "      <th>c2</th>\n",
       "      <th>c3</th>\n",
       "    </tr>\n",
       "  </thead>\n",
       "  <tbody>\n",
       "    <tr>\n",
       "      <th>r1</th>\n",
       "      <td>r1c2</td>\n",
       "      <td>r1c3</td>\n",
       "    </tr>\n",
       "    <tr>\n",
       "      <th>r3</th>\n",
       "      <td>r3c2</td>\n",
       "      <td>r3c3</td>\n",
       "    </tr>\n",
       "  </tbody>\n",
       "</table>\n",
       "</div>"
      ],
      "text/plain": [
       "      c2    c3\n",
       "r1  r1c2  r1c3\n",
       "r3  r3c2  r3c3"
      ]
     },
     "execution_count": 21,
     "metadata": {},
     "output_type": "execute_result"
    }
   ],
   "source": [
    "df.iloc[[0, 2], [1, 2]]"
   ]
  },
  {
   "cell_type": "markdown",
   "id": "06dd0833",
   "metadata": {},
   "source": [
    "### 練習問題5\n",
    "\n",
    "`df` オブジェクトから `.iloc` インデクサを使って「r2」以降の行と、「c1, c3」列を参照してください。\n",
    "\n",
    "<table border=\"1\" class=\"dataframe\">\n",
    "  <thead>\n",
    "    <tr style=\"text-align: right;\">\n",
    "      <th></th>\n",
    "      <th>c1</th>\n",
    "      <th>c3</th>\n",
    "    </tr>\n",
    "  </thead>\n",
    "  <tbody>\n",
    "    <tr>\n",
    "      <th>r2</th>\n",
    "      <td>r2c1</td>\n",
    "      <td>r2c3</td>\n",
    "    </tr>\n",
    "    <tr>\n",
    "      <th>r3</th>\n",
    "      <td>r3c1</td>\n",
    "      <td>r3c3</td>\n",
    "    </tr>\n",
    "  </tbody>\n",
    "</table>"
   ]
  },
  {
   "cell_type": "code",
   "execution_count": 22,
   "id": "73ac9e22",
   "metadata": {},
   "outputs": [],
   "source": [
    "# 解答セル"
   ]
  },
  {
   "cell_type": "markdown",
   "id": "58d18567",
   "metadata": {},
   "source": [
    "## .atインデクサ、iatインデクサ\n",
    "\n",
    "SeriesおよびDataFrameのインデクサの添字に単なる値を指定する場合は、.locインデクサの変わりに.atインデクサ、.ilocインデクサの変わりに.iatインデクサを利用すると高速に処理できます。"
   ]
  },
  {
   "cell_type": "code",
   "execution_count": 23,
   "id": "510f59a0",
   "metadata": {},
   "outputs": [
    {
     "data": {
      "text/plain": [
       "'B'"
      ]
     },
     "execution_count": 23,
     "metadata": {},
     "output_type": "execute_result"
    }
   ],
   "source": [
    "ser.at[\"b\"]"
   ]
  },
  {
   "cell_type": "code",
   "execution_count": 24,
   "id": "57109fd0",
   "metadata": {},
   "outputs": [
    {
     "data": {
      "text/plain": [
       "'A'"
      ]
     },
     "execution_count": 24,
     "metadata": {},
     "output_type": "execute_result"
    }
   ],
   "source": [
    "ser.iat[0]"
   ]
  },
  {
   "cell_type": "code",
   "execution_count": 25,
   "id": "b3b3e183",
   "metadata": {},
   "outputs": [
    {
     "data": {
      "text/plain": [
       "'r1c2'"
      ]
     },
     "execution_count": 25,
     "metadata": {},
     "output_type": "execute_result"
    }
   ],
   "source": [
    "df.loc[\"r1\", \"c2\"]"
   ]
  },
  {
   "cell_type": "code",
   "execution_count": 26,
   "id": "aee7d784",
   "metadata": {},
   "outputs": [
    {
     "data": {
      "text/plain": [
       "'r1c3'"
      ]
     },
     "execution_count": 26,
     "metadata": {},
     "output_type": "execute_result"
    }
   ],
   "source": [
    "df.iloc[0, 2]"
   ]
  },
  {
   "cell_type": "markdown",
   "id": "545ee3bc",
   "metadata": {},
   "source": [
    ".atインデクサおよび.iatインデクサに複数の要素（スライス、リスト）を渡すと `InvalidIndexError` や `ValueError` 例外を送出されます。\n",
    "\n",
    "```python\n",
    ">>> ser.at[\"a\":]\n",
    "InvalidIndexError: slice(1, None, None)\n",
    ">>> df.iat[[0, 1], 1]\n",
    "ValueError: iAt based indexing can only have integer indexers\n",
    "```"
   ]
  },
  {
   "cell_type": "markdown",
   "id": "3681246e",
   "metadata": {},
   "source": [
    "## 要素の変更\n",
    "\n",
    "インデックスに指定した要素に値を代入することで、要素が変更できます。"
   ]
  },
  {
   "cell_type": "code",
   "execution_count": 27,
   "id": "2bafe5a0",
   "metadata": {},
   "outputs": [
    {
     "data": {
      "text/plain": [
       "a    A\n",
       "b    B\n",
       "c    C\n",
       "d    D\n",
       "e    E\n",
       "dtype: object"
      ]
     },
     "execution_count": 27,
     "metadata": {},
     "output_type": "execute_result"
    }
   ],
   "source": [
    "ser"
   ]
  },
  {
   "cell_type": "code",
   "execution_count": 28,
   "id": "82ad2eb8",
   "metadata": {},
   "outputs": [
    {
     "data": {
      "text/plain": [
       "a     A\n",
       "b    BB\n",
       "c     C\n",
       "d     D\n",
       "e     E\n",
       "dtype: object"
      ]
     },
     "execution_count": 28,
     "metadata": {},
     "output_type": "execute_result"
    }
   ],
   "source": [
    "ser.loc[\"b\"] = \"BB\"\n",
    "ser"
   ]
  },
  {
   "cell_type": "code",
   "execution_count": 29,
   "id": "7b2bbd59",
   "metadata": {},
   "outputs": [
    {
     "data": {
      "text/html": [
       "<div>\n",
       "<style scoped>\n",
       "    .dataframe tbody tr th:only-of-type {\n",
       "        vertical-align: middle;\n",
       "    }\n",
       "\n",
       "    .dataframe tbody tr th {\n",
       "        vertical-align: top;\n",
       "    }\n",
       "\n",
       "    .dataframe thead th {\n",
       "        text-align: right;\n",
       "    }\n",
       "</style>\n",
       "<table border=\"1\" class=\"dataframe\">\n",
       "  <thead>\n",
       "    <tr style=\"text-align: right;\">\n",
       "      <th></th>\n",
       "      <th>c1</th>\n",
       "      <th>c2</th>\n",
       "      <th>c3</th>\n",
       "    </tr>\n",
       "  </thead>\n",
       "  <tbody>\n",
       "    <tr>\n",
       "      <th>r1</th>\n",
       "      <td>r1c1</td>\n",
       "      <td>r1c2</td>\n",
       "      <td>r1c3</td>\n",
       "    </tr>\n",
       "    <tr>\n",
       "      <th>r2</th>\n",
       "      <td>r2c1</td>\n",
       "      <td>R2C2</td>\n",
       "      <td>r2c3</td>\n",
       "    </tr>\n",
       "    <tr>\n",
       "      <th>r3</th>\n",
       "      <td>r3c1</td>\n",
       "      <td>r3c2</td>\n",
       "      <td>r3c3</td>\n",
       "    </tr>\n",
       "  </tbody>\n",
       "</table>\n",
       "</div>"
      ],
      "text/plain": [
       "      c1    c2    c3\n",
       "r1  r1c1  r1c2  r1c3\n",
       "r2  r2c1  R2C2  r2c3\n",
       "r3  r3c1  r3c2  r3c3"
      ]
     },
     "execution_count": 29,
     "metadata": {},
     "output_type": "execute_result"
    }
   ],
   "source": [
    "df.loc[\"r2\", \"c2\"] = \"R2C2\"\n",
    "df"
   ]
  },
  {
   "cell_type": "markdown",
   "id": "18489127",
   "metadata": {},
   "source": [
    "インデックスを範囲指定した場合に値を代入した場合は、同じ値で埋められます。"
   ]
  },
  {
   "cell_type": "code",
   "execution_count": 30,
   "id": "61b49ac5",
   "metadata": {},
   "outputs": [
    {
     "data": {
      "text/plain": [
       "a      A\n",
       "b    BCD\n",
       "c    BCD\n",
       "d    BCD\n",
       "e      E\n",
       "dtype: object"
      ]
     },
     "execution_count": 30,
     "metadata": {},
     "output_type": "execute_result"
    }
   ],
   "source": [
    "ser.loc[\"b\":\"d\"] = \"BCD\"\n",
    "ser"
   ]
  },
  {
   "cell_type": "code",
   "execution_count": 31,
   "id": "259e11ad",
   "metadata": {},
   "outputs": [
    {
     "data": {
      "text/html": [
       "<div>\n",
       "<style scoped>\n",
       "    .dataframe tbody tr th:only-of-type {\n",
       "        vertical-align: middle;\n",
       "    }\n",
       "\n",
       "    .dataframe tbody tr th {\n",
       "        vertical-align: top;\n",
       "    }\n",
       "\n",
       "    .dataframe thead th {\n",
       "        text-align: right;\n",
       "    }\n",
       "</style>\n",
       "<table border=\"1\" class=\"dataframe\">\n",
       "  <thead>\n",
       "    <tr style=\"text-align: right;\">\n",
       "      <th></th>\n",
       "      <th>c1</th>\n",
       "      <th>c2</th>\n",
       "      <th>c3</th>\n",
       "    </tr>\n",
       "  </thead>\n",
       "  <tbody>\n",
       "    <tr>\n",
       "      <th>r1</th>\n",
       "      <td>r1c1</td>\n",
       "      <td>r1c2</td>\n",
       "      <td>r1c3</td>\n",
       "    </tr>\n",
       "    <tr>\n",
       "      <th>r2</th>\n",
       "      <td>r2c1</td>\n",
       "      <td>R2C2-R3C2</td>\n",
       "      <td>r2c3</td>\n",
       "    </tr>\n",
       "    <tr>\n",
       "      <th>r3</th>\n",
       "      <td>r3c1</td>\n",
       "      <td>R2C2-R3C2</td>\n",
       "      <td>r3c3</td>\n",
       "    </tr>\n",
       "  </tbody>\n",
       "</table>\n",
       "</div>"
      ],
      "text/plain": [
       "      c1         c2    c3\n",
       "r1  r1c1       r1c2  r1c3\n",
       "r2  r2c1  R2C2-R3C2  r2c3\n",
       "r3  r3c1  R2C2-R3C2  r3c3"
      ]
     },
     "execution_count": 31,
     "metadata": {},
     "output_type": "execute_result"
    }
   ],
   "source": [
    "df.loc[\"r2\":, \"c2\"] = \"R2C2-R3C2\"\n",
    "df"
   ]
  },
  {
   "cell_type": "markdown",
   "id": "03fbe5e2",
   "metadata": {},
   "source": [
    "複数の要素を代入する場合は、インデックスに指定した要素数を合致させます。"
   ]
  },
  {
   "cell_type": "code",
   "execution_count": 32,
   "id": "8a78d457",
   "metadata": {},
   "outputs": [
    {
     "data": {
      "text/plain": [
       "a    A\n",
       "b    b\n",
       "c    c\n",
       "d    d\n",
       "e    E\n",
       "dtype: object"
      ]
     },
     "execution_count": 32,
     "metadata": {},
     "output_type": "execute_result"
    }
   ],
   "source": [
    "ser.loc[\"b\":\"d\"] = [\"b\", \"c\", \"d\"]\n",
    "ser"
   ]
  },
  {
   "cell_type": "code",
   "execution_count": 33,
   "id": "c40ac641",
   "metadata": {},
   "outputs": [
    {
     "data": {
      "text/html": [
       "<div>\n",
       "<style scoped>\n",
       "    .dataframe tbody tr th:only-of-type {\n",
       "        vertical-align: middle;\n",
       "    }\n",
       "\n",
       "    .dataframe tbody tr th {\n",
       "        vertical-align: top;\n",
       "    }\n",
       "\n",
       "    .dataframe thead th {\n",
       "        text-align: right;\n",
       "    }\n",
       "</style>\n",
       "<table border=\"1\" class=\"dataframe\">\n",
       "  <thead>\n",
       "    <tr style=\"text-align: right;\">\n",
       "      <th></th>\n",
       "      <th>c1</th>\n",
       "      <th>c2</th>\n",
       "      <th>c3</th>\n",
       "    </tr>\n",
       "  </thead>\n",
       "  <tbody>\n",
       "    <tr>\n",
       "      <th>r1</th>\n",
       "      <td>r1c1</td>\n",
       "      <td>r1c2</td>\n",
       "      <td>r1c3</td>\n",
       "    </tr>\n",
       "    <tr>\n",
       "      <th>r2</th>\n",
       "      <td>r2c1</td>\n",
       "      <td>R2C2</td>\n",
       "      <td>r2c3</td>\n",
       "    </tr>\n",
       "    <tr>\n",
       "      <th>r3</th>\n",
       "      <td>r3c1</td>\n",
       "      <td>R3C2</td>\n",
       "      <td>r3c3</td>\n",
       "    </tr>\n",
       "  </tbody>\n",
       "</table>\n",
       "</div>"
      ],
      "text/plain": [
       "      c1    c2    c3\n",
       "r1  r1c1  r1c2  r1c3\n",
       "r2  r2c1  R2C2  r2c3\n",
       "r3  r3c1  R3C2  r3c3"
      ]
     },
     "execution_count": 33,
     "metadata": {},
     "output_type": "execute_result"
    }
   ],
   "source": [
    "df.loc[\"r2\":, \"c2\"] = [\"R2C2\", \"R3C2\"]\n",
    "df"
   ]
  },
  {
   "cell_type": "markdown",
   "id": "fe891688",
   "metadata": {},
   "source": [
    "インデックスを指定して、複数要素を代入した際に、インデックスと代入した要素数が合致しなかった場合は `ValueError` 例外が送出されます。\n",
    "\n",
    "\n",
    "```python\n",
    ">>> ser.loc[\"d\":] = [\"D\", \"E\", \"F\"]\n",
    "ValueError: cannot set using a slice indexer with a different length than the value\n",
    "```"
   ]
  },
  {
   "cell_type": "markdown",
   "id": "1290a34c",
   "metadata": {},
   "source": [
    "### 練習問題6\n",
    "\n",
    "`ser` オブジェクトの値2を20に、4を40に変更してください。"
   ]
  },
  {
   "cell_type": "code",
   "execution_count": 34,
   "id": "359d73f5",
   "metadata": {},
   "outputs": [
    {
     "data": {
      "text/plain": [
       "a    0\n",
       "b    1\n",
       "c    2\n",
       "d    3\n",
       "e    4\n",
       "dtype: int64"
      ]
     },
     "execution_count": 34,
     "metadata": {},
     "output_type": "execute_result"
    }
   ],
   "source": [
    "ser = pd.Series(range(5), index=list(\"abcde\"))\n",
    "ser"
   ]
  },
  {
   "cell_type": "code",
   "execution_count": 35,
   "id": "aa48a04c",
   "metadata": {},
   "outputs": [],
   "source": [
    "# 解答セル"
   ]
  },
  {
   "cell_type": "markdown",
   "id": "e052e266",
   "metadata": {},
   "source": [
    "### 練習問題7\n",
    "\n",
    "`df` オブジェクトの「c3」列の値を”C3”に変更してください。\n",
    "\n",
    "<table border=\"1\" class=\"dataframe\">\n",
    "  <thead>\n",
    "    <tr style=\"text-align: right;\">\n",
    "      <th></th>\n",
    "      <th>c1</th>\n",
    "      <th>c2</th>\n",
    "      <th>c3</th>\n",
    "    </tr>\n",
    "  </thead>\n",
    "  <tbody>\n",
    "    <tr>\n",
    "      <th>r1</th>\n",
    "      <td>r1c1</td>\n",
    "      <td>r1c2</td>\n",
    "      <td>C3</td>\n",
    "    </tr>\n",
    "    <tr>\n",
    "      <th>r2</th>\n",
    "      <td>r2c1</td>\n",
    "      <td>r2c2</td>\n",
    "      <td>C3</td>\n",
    "    </tr>\n",
    "    <tr>\n",
    "      <th>r3</th>\n",
    "      <td>r3c3</td>\n",
    "      <td>r3c2</td>\n",
    "      <td>C3</td>\n",
    "    </tr>\n",
    "  </tbody>\n",
    "</table>"
   ]
  },
  {
   "cell_type": "code",
   "execution_count": 36,
   "id": "97e0e4cf",
   "metadata": {},
   "outputs": [
    {
     "data": {
      "text/html": [
       "<div>\n",
       "<style scoped>\n",
       "    .dataframe tbody tr th:only-of-type {\n",
       "        vertical-align: middle;\n",
       "    }\n",
       "\n",
       "    .dataframe tbody tr th {\n",
       "        vertical-align: top;\n",
       "    }\n",
       "\n",
       "    .dataframe thead th {\n",
       "        text-align: right;\n",
       "    }\n",
       "</style>\n",
       "<table border=\"1\" class=\"dataframe\">\n",
       "  <thead>\n",
       "    <tr style=\"text-align: right;\">\n",
       "      <th></th>\n",
       "      <th>c1</th>\n",
       "      <th>c2</th>\n",
       "      <th>c3</th>\n",
       "    </tr>\n",
       "  </thead>\n",
       "  <tbody>\n",
       "    <tr>\n",
       "      <th>r1</th>\n",
       "      <td>r1c1</td>\n",
       "      <td>r1c2</td>\n",
       "      <td>r1c3</td>\n",
       "    </tr>\n",
       "    <tr>\n",
       "      <th>r2</th>\n",
       "      <td>r2c1</td>\n",
       "      <td>r2c2</td>\n",
       "      <td>r2c3</td>\n",
       "    </tr>\n",
       "    <tr>\n",
       "      <th>r3</th>\n",
       "      <td>r3c3</td>\n",
       "      <td>r3c2</td>\n",
       "      <td>r3c3</td>\n",
       "    </tr>\n",
       "  </tbody>\n",
       "</table>\n",
       "</div>"
      ],
      "text/plain": [
       "      c1    c2    c3\n",
       "r1  r1c1  r1c2  r1c3\n",
       "r2  r2c1  r2c2  r2c3\n",
       "r3  r3c3  r3c2  r3c3"
      ]
     },
     "execution_count": 36,
     "metadata": {},
     "output_type": "execute_result"
    }
   ],
   "source": [
    "df = pd.DataFrame(\n",
    "    [\n",
    "        [\"r1c1\", \"r1c2\", \"r1c3\"],\n",
    "        [\"r2c1\", \"r2c2\", \"r2c3\"],\n",
    "        [\"r3c3\", \"r3c2\", \"r3c3\"],\n",
    "    ],\n",
    "    index=[\"r1\", \"r2\", \"r3\"],\n",
    "    columns=[\"c1\", \"c2\", \"c3\"]\n",
    ")\n",
    "df"
   ]
  },
  {
   "cell_type": "code",
   "execution_count": 37,
   "id": "53d10fb5",
   "metadata": {},
   "outputs": [],
   "source": [
    "# 解答セル"
   ]
  },
  {
   "cell_type": "markdown",
   "id": "df00dcf8",
   "metadata": {},
   "source": [
    "## 要素の追加\n",
    "\n",
    "インデックスに存在しない要素に値を代入することで、要素が追加できます。"
   ]
  },
  {
   "cell_type": "code",
   "execution_count": 38,
   "id": "a6eaa27e",
   "metadata": {},
   "outputs": [
    {
     "data": {
      "text/plain": [
       "a    0\n",
       "b    1\n",
       "c    2\n",
       "d    3\n",
       "e    4\n",
       "dtype: int64"
      ]
     },
     "execution_count": 38,
     "metadata": {},
     "output_type": "execute_result"
    }
   ],
   "source": [
    "ser"
   ]
  },
  {
   "cell_type": "code",
   "execution_count": 39,
   "id": "92562852",
   "metadata": {},
   "outputs": [
    {
     "data": {
      "text/plain": [
       "a    0\n",
       "b    1\n",
       "c    2\n",
       "d    3\n",
       "e    4\n",
       "f    f\n",
       "dtype: object"
      ]
     },
     "execution_count": 39,
     "metadata": {},
     "output_type": "execute_result"
    }
   ],
   "source": [
    "ser.loc[\"f\"] = \"f\"\n",
    "ser"
   ]
  },
  {
   "cell_type": "code",
   "execution_count": 40,
   "id": "a62f702b",
   "metadata": {},
   "outputs": [
    {
     "data": {
      "text/html": [
       "<div>\n",
       "<style scoped>\n",
       "    .dataframe tbody tr th:only-of-type {\n",
       "        vertical-align: middle;\n",
       "    }\n",
       "\n",
       "    .dataframe tbody tr th {\n",
       "        vertical-align: top;\n",
       "    }\n",
       "\n",
       "    .dataframe thead th {\n",
       "        text-align: right;\n",
       "    }\n",
       "</style>\n",
       "<table border=\"1\" class=\"dataframe\">\n",
       "  <thead>\n",
       "    <tr style=\"text-align: right;\">\n",
       "      <th></th>\n",
       "      <th>c1</th>\n",
       "      <th>c2</th>\n",
       "      <th>c3</th>\n",
       "    </tr>\n",
       "  </thead>\n",
       "  <tbody>\n",
       "    <tr>\n",
       "      <th>r1</th>\n",
       "      <td>r1c1</td>\n",
       "      <td>r1c2</td>\n",
       "      <td>r1c3</td>\n",
       "    </tr>\n",
       "    <tr>\n",
       "      <th>r2</th>\n",
       "      <td>r2c1</td>\n",
       "      <td>r2c2</td>\n",
       "      <td>r2c3</td>\n",
       "    </tr>\n",
       "    <tr>\n",
       "      <th>r3</th>\n",
       "      <td>r3c3</td>\n",
       "      <td>r3c2</td>\n",
       "      <td>r3c3</td>\n",
       "    </tr>\n",
       "  </tbody>\n",
       "</table>\n",
       "</div>"
      ],
      "text/plain": [
       "      c1    c2    c3\n",
       "r1  r1c1  r1c2  r1c3\n",
       "r2  r2c1  r2c2  r2c3\n",
       "r3  r3c3  r3c2  r3c3"
      ]
     },
     "execution_count": 40,
     "metadata": {},
     "output_type": "execute_result"
    }
   ],
   "source": [
    "df"
   ]
  },
  {
   "cell_type": "code",
   "execution_count": 41,
   "id": "31fd900b",
   "metadata": {},
   "outputs": [
    {
     "data": {
      "text/html": [
       "<div>\n",
       "<style scoped>\n",
       "    .dataframe tbody tr th:only-of-type {\n",
       "        vertical-align: middle;\n",
       "    }\n",
       "\n",
       "    .dataframe tbody tr th {\n",
       "        vertical-align: top;\n",
       "    }\n",
       "\n",
       "    .dataframe thead th {\n",
       "        text-align: right;\n",
       "    }\n",
       "</style>\n",
       "<table border=\"1\" class=\"dataframe\">\n",
       "  <thead>\n",
       "    <tr style=\"text-align: right;\">\n",
       "      <th></th>\n",
       "      <th>c1</th>\n",
       "      <th>c2</th>\n",
       "      <th>c3</th>\n",
       "    </tr>\n",
       "  </thead>\n",
       "  <tbody>\n",
       "    <tr>\n",
       "      <th>r1</th>\n",
       "      <td>r1c1</td>\n",
       "      <td>r1c2</td>\n",
       "      <td>r1c3</td>\n",
       "    </tr>\n",
       "    <tr>\n",
       "      <th>r2</th>\n",
       "      <td>r2c1</td>\n",
       "      <td>r2c2</td>\n",
       "      <td>r2c3</td>\n",
       "    </tr>\n",
       "    <tr>\n",
       "      <th>r3</th>\n",
       "      <td>r3c3</td>\n",
       "      <td>r3c2</td>\n",
       "      <td>r3c3</td>\n",
       "    </tr>\n",
       "    <tr>\n",
       "      <th>r4</th>\n",
       "      <td>r4c1</td>\n",
       "      <td>r4c2</td>\n",
       "      <td>r4c3</td>\n",
       "    </tr>\n",
       "  </tbody>\n",
       "</table>\n",
       "</div>"
      ],
      "text/plain": [
       "      c1    c2    c3\n",
       "r1  r1c1  r1c2  r1c3\n",
       "r2  r2c1  r2c2  r2c3\n",
       "r3  r3c3  r3c2  r3c3\n",
       "r4  r4c1  r4c2  r4c3"
      ]
     },
     "execution_count": 41,
     "metadata": {},
     "output_type": "execute_result"
    }
   ],
   "source": [
    "df.loc[\"r4\", :] = [\"r4c1\", \"r4c2\", \"r4c3\"]\n",
    "df"
   ]
  },
  {
   "cell_type": "code",
   "execution_count": 42,
   "id": "2c8e0d34",
   "metadata": {},
   "outputs": [
    {
     "data": {
      "text/html": [
       "<div>\n",
       "<style scoped>\n",
       "    .dataframe tbody tr th:only-of-type {\n",
       "        vertical-align: middle;\n",
       "    }\n",
       "\n",
       "    .dataframe tbody tr th {\n",
       "        vertical-align: top;\n",
       "    }\n",
       "\n",
       "    .dataframe thead th {\n",
       "        text-align: right;\n",
       "    }\n",
       "</style>\n",
       "<table border=\"1\" class=\"dataframe\">\n",
       "  <thead>\n",
       "    <tr style=\"text-align: right;\">\n",
       "      <th></th>\n",
       "      <th>c1</th>\n",
       "      <th>c2</th>\n",
       "      <th>c3</th>\n",
       "      <th>c4</th>\n",
       "    </tr>\n",
       "  </thead>\n",
       "  <tbody>\n",
       "    <tr>\n",
       "      <th>r1</th>\n",
       "      <td>r1c1</td>\n",
       "      <td>r1c2</td>\n",
       "      <td>r1c3</td>\n",
       "      <td>r1c4</td>\n",
       "    </tr>\n",
       "    <tr>\n",
       "      <th>r2</th>\n",
       "      <td>r2c1</td>\n",
       "      <td>r2c2</td>\n",
       "      <td>r2c3</td>\n",
       "      <td>r2c4</td>\n",
       "    </tr>\n",
       "    <tr>\n",
       "      <th>r3</th>\n",
       "      <td>r3c3</td>\n",
       "      <td>r3c2</td>\n",
       "      <td>r3c3</td>\n",
       "      <td>r3c4</td>\n",
       "    </tr>\n",
       "    <tr>\n",
       "      <th>r4</th>\n",
       "      <td>r4c1</td>\n",
       "      <td>r4c2</td>\n",
       "      <td>r4c3</td>\n",
       "      <td>r4c4</td>\n",
       "    </tr>\n",
       "  </tbody>\n",
       "</table>\n",
       "</div>"
      ],
      "text/plain": [
       "      c1    c2    c3    c4\n",
       "r1  r1c1  r1c2  r1c3  r1c4\n",
       "r2  r2c1  r2c2  r2c3  r2c4\n",
       "r3  r3c3  r3c2  r3c3  r3c4\n",
       "r4  r4c1  r4c2  r4c3  r4c4"
      ]
     },
     "execution_count": 42,
     "metadata": {},
     "output_type": "execute_result"
    }
   ],
   "source": [
    "df.loc[:, \"c4\"] = [\"r1c4\", \"r2c4\", \"r3c4\", \"r4c4\"]\n",
    "df"
   ]
  }
 ],
 "metadata": {},
 "nbformat": 4,
 "nbformat_minor": 5
}
