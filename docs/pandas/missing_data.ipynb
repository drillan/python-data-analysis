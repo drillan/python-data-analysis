{
 "cells": [
  {
   "cell_type": "markdown",
   "id": "d5b1b6d5",
   "metadata": {},
   "source": [
    "[![Open In Colab](https://colab.research.google.com/assets/colab-badge.svg)](http://colab.research.google.com/github/drillan/python-data-analysis/blob/main/docs/pandas/missing_data.ipynb)"
   ]
  },
  {
   "cell_type": "markdown",
   "id": "bb03644e",
   "metadata": {},
   "source": [
    "# 欠損値の処理\n",
    "\n",
    "本節ではpandasを利用して欠損値を処理する方法を学びます。\n",
    "\n",
    "サンプルデータとして、厚生労働省の [新型コロナウイルス感染症 オープンデータ](https://www.mhlw.go.jp/stf/covid-19/open-data.html) データを利用します。"
   ]
  },
  {
   "cell_type": "code",
   "execution_count": 1,
   "id": "afb0adbe",
   "metadata": {},
   "outputs": [],
   "source": [
    "import numpy as np\n",
    "import pandas as pd\n",
    "\n",
    "df = pd.read_csv(\"https://www.mhlw.go.jp/content/pcr_tested_daily.csv\", parse_dates=[\"日付\"])"
   ]
  },
  {
   "cell_type": "code",
   "execution_count": 2,
   "id": "6908d812",
   "metadata": {},
   "outputs": [
    {
     "data": {
      "text/html": [
       "<div>\n",
       "<style scoped>\n",
       "    .dataframe tbody tr th:only-of-type {\n",
       "        vertical-align: middle;\n",
       "    }\n",
       "\n",
       "    .dataframe tbody tr th {\n",
       "        vertical-align: top;\n",
       "    }\n",
       "\n",
       "    .dataframe thead th {\n",
       "        text-align: right;\n",
       "    }\n",
       "</style>\n",
       "<table border=\"1\" class=\"dataframe\">\n",
       "  <thead>\n",
       "    <tr style=\"text-align: right;\">\n",
       "      <th></th>\n",
       "      <th>日付</th>\n",
       "      <th>PCR 検査実施人数(単日)</th>\n",
       "    </tr>\n",
       "  </thead>\n",
       "  <tbody>\n",
       "    <tr>\n",
       "      <th>0</th>\n",
       "      <td>2020-02-05</td>\n",
       "      <td>4.0</td>\n",
       "    </tr>\n",
       "    <tr>\n",
       "      <th>1</th>\n",
       "      <td>2020-02-06</td>\n",
       "      <td>19.0</td>\n",
       "    </tr>\n",
       "    <tr>\n",
       "      <th>2</th>\n",
       "      <td>2020-02-07</td>\n",
       "      <td>9.0</td>\n",
       "    </tr>\n",
       "    <tr>\n",
       "      <th>3</th>\n",
       "      <td>2020-02-08</td>\n",
       "      <td>4.0</td>\n",
       "    </tr>\n",
       "    <tr>\n",
       "      <th>4</th>\n",
       "      <td>2020-02-09</td>\n",
       "      <td>10.0</td>\n",
       "    </tr>\n",
       "  </tbody>\n",
       "</table>\n",
       "</div>"
      ],
      "text/plain": [
       "          日付  PCR 検査実施人数(単日)\n",
       "0 2020-02-05             4.0\n",
       "1 2020-02-06            19.0\n",
       "2 2020-02-07             9.0\n",
       "3 2020-02-08             4.0\n",
       "4 2020-02-09            10.0"
      ]
     },
     "execution_count": 2,
     "metadata": {},
     "output_type": "execute_result"
    }
   ],
   "source": [
    "df.head()"
   ]
  },
  {
   "cell_type": "code",
   "execution_count": 3,
   "id": "31e881eb",
   "metadata": {},
   "outputs": [
    {
     "data": {
      "text/html": [
       "<div>\n",
       "<style scoped>\n",
       "    .dataframe tbody tr th:only-of-type {\n",
       "        vertical-align: middle;\n",
       "    }\n",
       "\n",
       "    .dataframe tbody tr th {\n",
       "        vertical-align: top;\n",
       "    }\n",
       "\n",
       "    .dataframe thead th {\n",
       "        text-align: right;\n",
       "    }\n",
       "</style>\n",
       "<table border=\"1\" class=\"dataframe\">\n",
       "  <thead>\n",
       "    <tr style=\"text-align: right;\">\n",
       "      <th></th>\n",
       "      <th>日付</th>\n",
       "      <th>PCR 検査実施人数(単日)</th>\n",
       "    </tr>\n",
       "  </thead>\n",
       "  <tbody>\n",
       "    <tr>\n",
       "      <th>40</th>\n",
       "      <td>2020-03-16</td>\n",
       "      <td>2083.0</td>\n",
       "    </tr>\n",
       "    <tr>\n",
       "      <th>41</th>\n",
       "      <td>2020-03-17</td>\n",
       "      <td>203.0</td>\n",
       "    </tr>\n",
       "    <tr>\n",
       "      <th>42</th>\n",
       "      <td>2020-03-18</td>\n",
       "      <td>NaN</td>\n",
       "    </tr>\n",
       "    <tr>\n",
       "      <th>43</th>\n",
       "      <td>2020-03-19</td>\n",
       "      <td>3490.0</td>\n",
       "    </tr>\n",
       "    <tr>\n",
       "      <th>44</th>\n",
       "      <td>2020-03-20</td>\n",
       "      <td>119.0</td>\n",
       "    </tr>\n",
       "    <tr>\n",
       "      <th>45</th>\n",
       "      <td>2020-03-21</td>\n",
       "      <td>132.0</td>\n",
       "    </tr>\n",
       "    <tr>\n",
       "      <th>46</th>\n",
       "      <td>2020-03-22</td>\n",
       "      <td>56.0</td>\n",
       "    </tr>\n",
       "    <tr>\n",
       "      <th>47</th>\n",
       "      <td>2020-03-23</td>\n",
       "      <td>3862.0</td>\n",
       "    </tr>\n",
       "    <tr>\n",
       "      <th>48</th>\n",
       "      <td>2020-03-24</td>\n",
       "      <td>NaN</td>\n",
       "    </tr>\n",
       "    <tr>\n",
       "      <th>49</th>\n",
       "      <td>2020-03-25</td>\n",
       "      <td>674.0</td>\n",
       "    </tr>\n",
       "    <tr>\n",
       "      <th>50</th>\n",
       "      <td>2020-03-26</td>\n",
       "      <td>1805.0</td>\n",
       "    </tr>\n",
       "    <tr>\n",
       "      <th>51</th>\n",
       "      <td>2020-03-27</td>\n",
       "      <td>1442.0</td>\n",
       "    </tr>\n",
       "    <tr>\n",
       "      <th>52</th>\n",
       "      <td>2020-03-28</td>\n",
       "      <td>296.0</td>\n",
       "    </tr>\n",
       "    <tr>\n",
       "      <th>53</th>\n",
       "      <td>2020-03-29</td>\n",
       "      <td>206.0</td>\n",
       "    </tr>\n",
       "    <tr>\n",
       "      <th>54</th>\n",
       "      <td>2020-03-30</td>\n",
       "      <td>3481.0</td>\n",
       "    </tr>\n",
       "    <tr>\n",
       "      <th>55</th>\n",
       "      <td>2020-03-31</td>\n",
       "      <td>1914.0</td>\n",
       "    </tr>\n",
       "    <tr>\n",
       "      <th>56</th>\n",
       "      <td>2020-04-01</td>\n",
       "      <td>NaN</td>\n",
       "    </tr>\n",
       "    <tr>\n",
       "      <th>57</th>\n",
       "      <td>2020-04-02</td>\n",
       "      <td>4685.0</td>\n",
       "    </tr>\n",
       "    <tr>\n",
       "      <th>58</th>\n",
       "      <td>2020-04-03</td>\n",
       "      <td>3305.0</td>\n",
       "    </tr>\n",
       "    <tr>\n",
       "      <th>59</th>\n",
       "      <td>2020-04-04</td>\n",
       "      <td>271.0</td>\n",
       "    </tr>\n",
       "    <tr>\n",
       "      <th>60</th>\n",
       "      <td>2020-04-05</td>\n",
       "      <td>218.0</td>\n",
       "    </tr>\n",
       "  </tbody>\n",
       "</table>\n",
       "</div>"
      ],
      "text/plain": [
       "           日付  PCR 検査実施人数(単日)\n",
       "40 2020-03-16          2083.0\n",
       "41 2020-03-17           203.0\n",
       "42 2020-03-18             NaN\n",
       "43 2020-03-19          3490.0\n",
       "44 2020-03-20           119.0\n",
       "45 2020-03-21           132.0\n",
       "46 2020-03-22            56.0\n",
       "47 2020-03-23          3862.0\n",
       "48 2020-03-24             NaN\n",
       "49 2020-03-25           674.0\n",
       "50 2020-03-26          1805.0\n",
       "51 2020-03-27          1442.0\n",
       "52 2020-03-28           296.0\n",
       "53 2020-03-29           206.0\n",
       "54 2020-03-30          3481.0\n",
       "55 2020-03-31          1914.0\n",
       "56 2020-04-01             NaN\n",
       "57 2020-04-02          4685.0\n",
       "58 2020-04-03          3305.0\n",
       "59 2020-04-04           271.0\n",
       "60 2020-04-05           218.0"
      ]
     },
     "execution_count": 3,
     "metadata": {},
     "output_type": "execute_result"
    }
   ],
   "source": [
    "df.loc[40:60]"
   ]
  },
  {
   "cell_type": "markdown",
   "id": "98e7a3cc",
   "metadata": {},
   "source": [
    "## NaN\n",
    "\n",
    "DataFrameにNaNという値があります。NaN( `numpy.nan` ) とは、「Not a Number」の略で、IEEE 754で定められている浮動小数点数です。NaNはおもに欠損値として扱われます。\n",
    "\n",
    "Python組み込みの `None` を数値として処理しようとすると `TypeError` 例外が発生します。\n",
    "\n",
    "```python\n",
    ">>> 1 + None\n",
    "\n",
    "---------------------------------------------------------------------------\n",
    "TypeError                                 Traceback (most recent call last)\n",
    "<ipython-input-13-4e48835ebc87> in <module>\n",
    "----> 1 1 + None\n",
    "\n",
    "TypeError: unsupported operand type(s) for +: 'int' and 'NoneType'\n",
    "```"
   ]
  },
  {
   "cell_type": "markdown",
   "id": "852db925",
   "metadata": {},
   "source": [
    "前述のとおり、NaNは浮動小数点数なので算術演算ができます。"
   ]
  },
  {
   "cell_type": "code",
   "execution_count": 4,
   "id": "177b725d",
   "metadata": {},
   "outputs": [
    {
     "data": {
      "text/plain": [
       "nan"
      ]
     },
     "execution_count": 4,
     "metadata": {},
     "output_type": "execute_result"
    }
   ],
   "source": [
    "1 + np.nan"
   ]
  },
  {
   "cell_type": "markdown",
   "id": "42c488f3",
   "metadata": {},
   "source": [
    "`==` による比較演算は `False` になります。"
   ]
  },
  {
   "cell_type": "code",
   "execution_count": 5,
   "id": "e866c5d7",
   "metadata": {},
   "outputs": [
    {
     "data": {
      "text/plain": [
       "False"
      ]
     },
     "execution_count": 5,
     "metadata": {},
     "output_type": "execute_result"
    }
   ],
   "source": [
    "np.nan == np.nan"
   ]
  },
  {
   "cell_type": "markdown",
   "id": "d8c94502",
   "metadata": {},
   "source": [
    "NaNであることを確認するには `is` 演算子や `isnan` 関数などを利用します。"
   ]
  },
  {
   "cell_type": "code",
   "execution_count": 6,
   "id": "253b86e2",
   "metadata": {},
   "outputs": [
    {
     "data": {
      "text/plain": [
       "True"
      ]
     },
     "execution_count": 6,
     "metadata": {},
     "output_type": "execute_result"
    }
   ],
   "source": [
    "np.nan is np.nan"
   ]
  },
  {
   "cell_type": "code",
   "execution_count": 7,
   "id": "b47d3085",
   "metadata": {},
   "outputs": [
    {
     "data": {
      "text/plain": [
       "True"
      ]
     },
     "execution_count": 7,
     "metadata": {},
     "output_type": "execute_result"
    }
   ],
   "source": [
    "np.isnan(np.nan)"
   ]
  },
  {
   "cell_type": "markdown",
   "id": "755090a7",
   "metadata": {},
   "source": [
    "## pandasによる欠損値の処理"
   ]
  },
  {
   "cell_type": "markdown",
   "id": "068ee74c",
   "metadata": {},
   "source": [
    "`Series` および `DataFrame` から `isnull` メソッドでNaNであるかを確認できます。"
   ]
  },
  {
   "cell_type": "code",
   "execution_count": 8,
   "id": "caeb2579",
   "metadata": {},
   "outputs": [
    {
     "data": {
      "text/plain": [
       "40    False\n",
       "41    False\n",
       "42     True\n",
       "43    False\n",
       "44    False\n",
       "45    False\n",
       "46    False\n",
       "47    False\n",
       "48     True\n",
       "49    False\n",
       "50    False\n",
       "51    False\n",
       "52    False\n",
       "53    False\n",
       "54    False\n",
       "55    False\n",
       "56     True\n",
       "57    False\n",
       "58    False\n",
       "59    False\n",
       "60    False\n",
       "Name: PCR 検査実施人数(単日), dtype: bool"
      ]
     },
     "execution_count": 8,
     "metadata": {},
     "output_type": "execute_result"
    }
   ],
   "source": [
    "df.loc[40:60, \"PCR 検査実施人数(単日)\"].isnull()"
   ]
  },
  {
   "cell_type": "markdown",
   "id": "6e29efdf",
   "metadata": {},
   "source": [
    "同様にNaNでないかも確認できます。"
   ]
  },
  {
   "cell_type": "code",
   "execution_count": 9,
   "id": "8efc31c0",
   "metadata": {},
   "outputs": [
    {
     "data": {
      "text/plain": [
       "40     True\n",
       "41     True\n",
       "42    False\n",
       "43     True\n",
       "44     True\n",
       "45     True\n",
       "46     True\n",
       "47     True\n",
       "48    False\n",
       "49     True\n",
       "50     True\n",
       "51     True\n",
       "52     True\n",
       "53     True\n",
       "54     True\n",
       "55     True\n",
       "56    False\n",
       "57     True\n",
       "58     True\n",
       "59     True\n",
       "60     True\n",
       "Name: PCR 検査実施人数(単日), dtype: bool"
      ]
     },
     "execution_count": 9,
     "metadata": {},
     "output_type": "execute_result"
    }
   ],
   "source": [
    "df.loc[40:60, \"PCR 検査実施人数(単日)\"].notnull()"
   ]
  },
  {
   "cell_type": "markdown",
   "id": "4a67ef95",
   "metadata": {},
   "source": [
    "欠損値を除外するには `dropna` メソッドを実行します。"
   ]
  },
  {
   "cell_type": "code",
   "execution_count": 10,
   "id": "53d3e36d",
   "metadata": {},
   "outputs": [
    {
     "data": {
      "text/plain": [
       "40    2083.0\n",
       "41     203.0\n",
       "43    3490.0\n",
       "44     119.0\n",
       "45     132.0\n",
       "46      56.0\n",
       "47    3862.0\n",
       "49     674.0\n",
       "50    1805.0\n",
       "51    1442.0\n",
       "52     296.0\n",
       "53     206.0\n",
       "54    3481.0\n",
       "55    1914.0\n",
       "57    4685.0\n",
       "58    3305.0\n",
       "59     271.0\n",
       "60     218.0\n",
       "Name: PCR 検査実施人数(単日), dtype: float64"
      ]
     },
     "execution_count": 10,
     "metadata": {},
     "output_type": "execute_result"
    }
   ],
   "source": [
    "df.loc[40:60, \"PCR 検査実施人数(単日)\"].dropna()"
   ]
  },
  {
   "cell_type": "markdown",
   "id": "5977a65c",
   "metadata": {},
   "source": [
    "欠損値に何らかの値で埋めるには `fillna` メソッドの引数に値を渡します。"
   ]
  },
  {
   "cell_type": "code",
   "execution_count": 11,
   "id": "6c43b85c",
   "metadata": {},
   "outputs": [
    {
     "data": {
      "text/plain": [
       "40    2083.0\n",
       "41     203.0\n",
       "42       0.0\n",
       "43    3490.0\n",
       "44     119.0\n",
       "45     132.0\n",
       "46      56.0\n",
       "47    3862.0\n",
       "48       0.0\n",
       "49     674.0\n",
       "50    1805.0\n",
       "51    1442.0\n",
       "52     296.0\n",
       "53     206.0\n",
       "54    3481.0\n",
       "55    1914.0\n",
       "56       0.0\n",
       "57    4685.0\n",
       "58    3305.0\n",
       "59     271.0\n",
       "60     218.0\n",
       "Name: PCR 検査実施人数(単日), dtype: float64"
      ]
     },
     "execution_count": 11,
     "metadata": {},
     "output_type": "execute_result"
    }
   ],
   "source": [
    "df.loc[40:60, \"PCR 検査実施人数(単日)\"].fillna(0)"
   ]
  },
  {
   "cell_type": "markdown",
   "id": "09cc834e",
   "metadata": {},
   "source": [
    "### 練習問題1\n",
    "\n",
    "`df` オブジェクトから「PCR 検査実施人数(単日)」列がNaNである行数を算出してください。"
   ]
  },
  {
   "cell_type": "code",
   "execution_count": 12,
   "id": "08e288a8",
   "metadata": {},
   "outputs": [],
   "source": [
    "# 解答セル"
   ]
  },
  {
   "cell_type": "markdown",
   "id": "14be4b24",
   "metadata": {},
   "source": [
    "### 練習問題2\n",
    "\n",
    "`df` オブジェクトから「PCR 検査実施人数(単日)」列がNaNでない行を抽出してください。"
   ]
  },
  {
   "cell_type": "code",
   "execution_count": 13,
   "id": "dec5dbe4",
   "metadata": {},
   "outputs": [],
   "source": [
    "# 解答セル"
   ]
  },
  {
   "cell_type": "markdown",
   "id": "afa089c3",
   "metadata": {},
   "source": [
    "#### 練習問題3\n",
    "\n",
    "`df` オブジェクトから「PCR 検査実施人数(単日)」列がNaNの値を、その列の前の値で埋めてください。\n",
    "\n",
    "> https://pandas.pydata.org/docs/user_guide/missing_data.html#filling-missing-values-fillna"
   ]
  },
  {
   "cell_type": "code",
   "execution_count": 14,
   "id": "0e8c0354",
   "metadata": {},
   "outputs": [],
   "source": [
    "# 解答セル"
   ]
  }
 ],
 "metadata": {},
 "nbformat": 4,
 "nbformat_minor": 5
}
