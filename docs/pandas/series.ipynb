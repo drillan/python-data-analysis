{
 "cells": [
  {
   "cell_type": "markdown",
   "id": "82c8be83",
   "metadata": {},
   "source": [
    "[![Open In Colab](https://colab.research.google.com/assets/colab-badge.svg)](http://colab.research.google.com/github/drillan/python-data-analysis/blob/main/docs/pandas/series.ipynb)"
   ]
  },
  {
   "cell_type": "markdown",
   "id": "d968c946",
   "metadata": {},
   "source": [
    "# Series\n",
    "\n",
    "Seriesはインデックスと呼ばれるラベルを持った同一のデータ型を持つ1次元のデータです。 `Series` オブジェクトを生成するには Series クラスの引数に次のようなデータを渡します。\n",
    "\n",
    "- array-likeオブジェクト\n",
    "    - リスト\n",
    "    - タプル\n",
    "    - `numpy.ndarray`\n",
    "- 辞書\n",
    "- イテラブルオブジェクト\n",
    "\n",
    "> https://pandas.pydata.org/pandas-docs/stable/reference/api/pandas.Series.html\n",
    "\n",
    "## Seriesの生成\n",
    "\n",
    "次のコードでは `Series` オブジェクトを生成しています。"
   ]
  },
  {
   "cell_type": "code",
   "execution_count": 1,
   "id": "33415d51",
   "metadata": {},
   "outputs": [],
   "source": [
    "import numpy as np\n",
    "import pandas as pd\n",
    "\n",
    "ser = pd.Series([3, 5, 2])  # list\n",
    "ser = pd.Series((3, 5, 2))  # tuple\n",
    "ser = pd.Series(np.array((3, 5, 2)))  # ndarray"
   ]
  },
  {
   "cell_type": "markdown",
   "id": "bdcd5fa6",
   "metadata": {},
   "source": [
    "`type()` を実行すると、 `Series` 型であることが確認できます。"
   ]
  },
  {
   "cell_type": "code",
   "execution_count": 2,
   "id": "b0dfc795",
   "metadata": {},
   "outputs": [
    {
     "data": {
      "text/plain": [
       "pandas.core.series.Series"
      ]
     },
     "execution_count": 2,
     "metadata": {},
     "output_type": "execute_result"
    }
   ],
   "source": [
    "type(ser)"
   ]
  },
  {
   "cell_type": "markdown",
   "id": "8ad9735b",
   "metadata": {},
   "source": [
    "標準出力やREPLにはデータのインデックス（ラベル）と値が表示されます。デフォルトではインデックスは自動で0からの自然数が割り当てられます。"
   ]
  },
  {
   "cell_type": "code",
   "execution_count": 3,
   "id": "bfc3deda",
   "metadata": {},
   "outputs": [
    {
     "name": "stdout",
     "output_type": "stream",
     "text": [
      "0    3\n",
      "1    5\n",
      "2    2\n",
      "dtype: int64\n"
     ]
    }
   ],
   "source": [
    "print(ser)"
   ]
  },
  {
   "cell_type": "code",
   "execution_count": 4,
   "id": "b379b55b",
   "metadata": {},
   "outputs": [
    {
     "data": {
      "text/plain": [
       "0    3\n",
       "1    5\n",
       "2    2\n",
       "dtype: int64"
      ]
     },
     "execution_count": 4,
     "metadata": {},
     "output_type": "execute_result"
    }
   ],
   "source": [
    "ser"
   ]
  },
  {
   "cell_type": "markdown",
   "id": "3f94ecf8",
   "metadata": {},
   "source": [
    "次のコードではコンストラクタに辞書を渡してSeriesを生成しています。この場合、辞書のキーがインデックス（ラベル）となります。"
   ]
  },
  {
   "cell_type": "code",
   "execution_count": 5,
   "id": "8038133a",
   "metadata": {},
   "outputs": [
    {
     "data": {
      "text/plain": [
       "a    10\n",
       "b    20\n",
       "c    30\n",
       "dtype: int64"
      ]
     },
     "execution_count": 5,
     "metadata": {},
     "output_type": "execute_result"
    }
   ],
   "source": [
    "ser_dict = pd.Series({\"a\": 10, \"b\": 20, \"c\": 30})\n",
    "ser_dict"
   ]
  },
  {
   "cell_type": "markdown",
   "id": "23b56f9e",
   "metadata": {},
   "source": [
    "次のコードではコンストラクタにイテラブルオブジェクトである `range` オブジェクトを渡してSeriesを生成しています。"
   ]
  },
  {
   "cell_type": "code",
   "execution_count": 6,
   "id": "25a6bbf0",
   "metadata": {},
   "outputs": [
    {
     "data": {
      "text/plain": [
       "0    2\n",
       "1    3\n",
       "2    4\n",
       "dtype: int64"
      ]
     },
     "execution_count": 6,
     "metadata": {},
     "output_type": "execute_result"
    }
   ],
   "source": [
    "pd.Series(range(2, 5))"
   ]
  },
  {
   "cell_type": "markdown",
   "id": "8d9bef86",
   "metadata": {},
   "source": [
    "## 値とインデックス\n",
    "\n",
    "Seriesから値を取得するには `values` 属性にアクセスします。値は `numpy.ndarray` 型で管理されます。"
   ]
  },
  {
   "cell_type": "code",
   "execution_count": 7,
   "id": "e2187110",
   "metadata": {},
   "outputs": [
    {
     "data": {
      "text/plain": [
       "array([3, 5, 2])"
      ]
     },
     "execution_count": 7,
     "metadata": {},
     "output_type": "execute_result"
    }
   ],
   "source": [
    "ser.values"
   ]
  },
  {
   "cell_type": "code",
   "execution_count": 8,
   "id": "aaec5dfe",
   "metadata": {},
   "outputs": [
    {
     "data": {
      "text/plain": [
       "numpy.ndarray"
      ]
     },
     "execution_count": 8,
     "metadata": {},
     "output_type": "execute_result"
    }
   ],
   "source": [
    "type(ser.values)"
   ]
  },
  {
   "cell_type": "markdown",
   "id": "854f96b6",
   "metadata": {},
   "source": [
    "Seriesからインデックス（ラベル）を取得するには `index` 属性にアクセスします。"
   ]
  },
  {
   "cell_type": "code",
   "execution_count": 9,
   "id": "ad12bafe",
   "metadata": {},
   "outputs": [
    {
     "data": {
      "text/plain": [
       "RangeIndex(start=0, stop=3, step=1)"
      ]
     },
     "execution_count": 9,
     "metadata": {},
     "output_type": "execute_result"
    }
   ],
   "source": [
    "ser.index"
   ]
  },
  {
   "cell_type": "markdown",
   "id": "3030f388",
   "metadata": {},
   "source": [
    "## インデックスの作成、変更\n",
    "\n",
    "Series生成時にインデックス（ラベル）を割り当てる場合はコンストラクタの引数 `index` にarray-likeオブジェクトを渡します。"
   ]
  },
  {
   "cell_type": "code",
   "execution_count": 10,
   "id": "c049c8d6",
   "metadata": {},
   "outputs": [
    {
     "data": {
      "text/plain": [
       "a    1\n",
       "b    2\n",
       "dtype: int64"
      ]
     },
     "execution_count": 10,
     "metadata": {},
     "output_type": "execute_result"
    }
   ],
   "source": [
    "pd.Series([1, 2], index=[\"a\", \"b\"])"
   ]
  },
  {
   "cell_type": "markdown",
   "id": "e6bf65d5",
   "metadata": {},
   "source": [
    "生成したSeriesからインデックスを変更するには `index` 属性に array-likeオブジェクトを代入します。"
   ]
  },
  {
   "cell_type": "code",
   "execution_count": 11,
   "id": "4a8908d0",
   "metadata": {},
   "outputs": [
    {
     "data": {
      "text/plain": [
       "0    3\n",
       "1    5\n",
       "2    2\n",
       "dtype: int64"
      ]
     },
     "execution_count": 11,
     "metadata": {},
     "output_type": "execute_result"
    }
   ],
   "source": [
    "ser"
   ]
  },
  {
   "cell_type": "code",
   "execution_count": 12,
   "id": "a7933f4d",
   "metadata": {},
   "outputs": [
    {
     "data": {
      "text/plain": [
       "a    3\n",
       "b    5\n",
       "c    2\n",
       "dtype: int64"
      ]
     },
     "execution_count": 12,
     "metadata": {},
     "output_type": "execute_result"
    }
   ],
   "source": [
    "ser.index = [\"a\", \"b\", \"c\"]\n",
    "ser"
   ]
  }
 ],
 "metadata": {
  "kernelspec": {
   "display_name": "Python 3 (ipykernel)",
   "language": "python",
   "name": "python3"
  },
  "language_info": {
   "codemirror_mode": {
    "name": "ipython",
    "version": 3
   },
   "file_extension": ".py",
   "mimetype": "text/x-python",
   "name": "python",
   "nbconvert_exporter": "python",
   "pygments_lexer": "ipython3",
   "version": "3.11.0"
  },
  "vscode": {
   "interpreter": {
    "hash": "949777d72b0d2535278d3dc13498b2535136f6dfe0678499012e853ee9abcab1"
   }
  }
 },
 "nbformat": 4,
 "nbformat_minor": 5
}
