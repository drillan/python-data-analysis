{
 "cells": [
  {
   "cell_type": "markdown",
   "id": "82c8be83",
   "metadata": {},
   "source": [
    "[![Open In Colab](https://colab.research.google.com/assets/colab-badge.svg)](http://colab.research.google.com/github/drillan/python-data-analysis/blob/main/docs/pandas/series.ipynb)"
   ]
  },
  {
   "cell_type": "markdown",
   "id": "d968c946",
   "metadata": {},
   "source": [
    "# Series\n",
    "\n",
    "Seriesはインデックスと呼ばれるラベルを持った同一のデータ型を持つ1次元のデータです。 `Series` オブジェクトを生成するには Series クラスの引数に次のようなデータを渡します。\n",
    "\n",
    "- リスト\n",
    "- タプル\n",
    "- 辞書\n",
    "- `numpy.ndarray`\n",
    "- その他（イテラブルオブジェクト）\n",
    "\n",
    "pandasではこのようなデータを総称して「array-like」と呼びます。\n",
    "\n",
    "https://pandas.pydata.org/pandas-docs/stable/reference/api/pandas.Series.html\n",
    "\n",
    "次のコードでは `Series` オブジェクトを生成しています。"
   ]
  },
  {
   "cell_type": "code",
   "execution_count": 2,
   "id": "33415d51",
   "metadata": {},
   "outputs": [],
   "source": [
    "import pandas as pd\n",
    "\n",
    "ser = pd.Series([3, 5, 2])"
   ]
  },
  {
   "cell_type": "markdown",
   "id": "bdcd5fa6",
   "metadata": {},
   "source": [
    "`type` 関数を実行すると、 `Series` 型であることが確認できます。"
   ]
  },
  {
   "cell_type": "code",
   "execution_count": 3,
   "id": "b0dfc795",
   "metadata": {},
   "outputs": [
    {
     "data": {
      "text/plain": [
       "pandas.core.series.Series"
      ]
     },
     "execution_count": 3,
     "metadata": {},
     "output_type": "execute_result"
    }
   ],
   "source": [
    "type(ser)"
   ]
  },
  {
   "cell_type": "markdown",
   "id": "8ad9735b",
   "metadata": {},
   "source": [
    "REPLでは、データのラベル（Index）と値が出力されます。"
   ]
  },
  {
   "cell_type": "code",
   "execution_count": 5,
   "id": "b379b55b",
   "metadata": {},
   "outputs": [
    {
     "data": {
      "text/plain": [
       "0    3\n",
       "1    5\n",
       "2    2\n",
       "dtype: int64"
      ]
     },
     "execution_count": 5,
     "metadata": {},
     "output_type": "execute_result"
    }
   ],
   "source": [
    "ser"
   ]
  },
  {
   "cell_type": "code",
   "execution_count": null,
   "id": "8038133a",
   "metadata": {},
   "outputs": [],
   "source": []
  }
 ],
 "metadata": {},
 "nbformat": 4,
 "nbformat_minor": 5
}
