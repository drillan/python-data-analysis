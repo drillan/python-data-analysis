{
 "cells": [
  {
   "cell_type": "markdown",
   "id": "25d8633b",
   "metadata": {},
   "source": [
    "[![Open In Colab](https://colab.research.google.com/assets/colab-badge.svg)](http://colab.research.google.com/github/drillan/python-data-analysis/blob/main/docs/pandas/text.ipynb)"
   ]
  },
  {
   "cell_type": "markdown",
   "id": "6f4bea3b",
   "metadata": {},
   "source": [
    "# テキストデータの処理\n",
    "\n",
    "本節ではpandasを利用してテキストデータを処理する方法を学びます。\n",
    "\n",
    "サンプルデータとして、 [Python公式ドキュメント](https://docs.python.org/) のモジュール索引をDataFrameに読み込みます。"
   ]
  },
  {
   "cell_type": "code",
   "execution_count": 1,
   "id": "c4b8f5b8",
   "metadata": {},
   "outputs": [
    {
     "data": {
      "text/html": [
       "<div>\n",
       "<style scoped>\n",
       "    .dataframe tbody tr th:only-of-type {\n",
       "        vertical-align: middle;\n",
       "    }\n",
       "\n",
       "    .dataframe tbody tr th {\n",
       "        vertical-align: top;\n",
       "    }\n",
       "\n",
       "    .dataframe thead th {\n",
       "        text-align: right;\n",
       "    }\n",
       "</style>\n",
       "<table border=\"1\" class=\"dataframe\">\n",
       "  <thead>\n",
       "    <tr style=\"text-align: right;\">\n",
       "      <th></th>\n",
       "      <th>module</th>\n",
       "      <th>description</th>\n",
       "    </tr>\n",
       "  </thead>\n",
       "  <tbody>\n",
       "    <tr>\n",
       "      <th>2</th>\n",
       "      <td>__future__</td>\n",
       "      <td>Future statement definitions</td>\n",
       "    </tr>\n",
       "    <tr>\n",
       "      <th>3</th>\n",
       "      <td>__main__</td>\n",
       "      <td>The environment where top-level code is run. C...</td>\n",
       "    </tr>\n",
       "    <tr>\n",
       "      <th>4</th>\n",
       "      <td>_thread</td>\n",
       "      <td>Low-level threading API.</td>\n",
       "    </tr>\n",
       "    <tr>\n",
       "      <th>7</th>\n",
       "      <td>abc</td>\n",
       "      <td>Abstract base classes according to :pep:`3119`.</td>\n",
       "    </tr>\n",
       "    <tr>\n",
       "      <th>8</th>\n",
       "      <td>aifc</td>\n",
       "      <td>Deprecated:  Read and write audio files in AIF...</td>\n",
       "    </tr>\n",
       "    <tr>\n",
       "      <th>...</th>\n",
       "      <td>...</td>\n",
       "      <td>...</td>\n",
       "    </tr>\n",
       "    <tr>\n",
       "      <th>387</th>\n",
       "      <td>zipapp</td>\n",
       "      <td>Manage executable Python zip archives</td>\n",
       "    </tr>\n",
       "    <tr>\n",
       "      <th>388</th>\n",
       "      <td>zipfile</td>\n",
       "      <td>Read and write ZIP-format archive files.</td>\n",
       "    </tr>\n",
       "    <tr>\n",
       "      <th>389</th>\n",
       "      <td>zipimport</td>\n",
       "      <td>Support for importing Python modules from ZIP ...</td>\n",
       "    </tr>\n",
       "    <tr>\n",
       "      <th>390</th>\n",
       "      <td>zlib</td>\n",
       "      <td>Low-level interface to compression and decompr...</td>\n",
       "    </tr>\n",
       "    <tr>\n",
       "      <th>391</th>\n",
       "      <td>zoneinfo</td>\n",
       "      <td>IANA time zone support</td>\n",
       "    </tr>\n",
       "  </tbody>\n",
       "</table>\n",
       "<p>331 rows × 2 columns</p>\n",
       "</div>"
      ],
      "text/plain": [
       "         module                                        description\n",
       "2    __future__                       Future statement definitions\n",
       "3      __main__  The environment where top-level code is run. C...\n",
       "4       _thread                           Low-level threading API.\n",
       "7           abc    Abstract base classes according to :pep:`3119`.\n",
       "8          aifc  Deprecated:  Read and write audio files in AIF...\n",
       "..          ...                                                ...\n",
       "387      zipapp              Manage executable Python zip archives\n",
       "388     zipfile           Read and write ZIP-format archive files.\n",
       "389   zipimport  Support for importing Python modules from ZIP ...\n",
       "390        zlib  Low-level interface to compression and decompr...\n",
       "391    zoneinfo                             IANA time zone support\n",
       "\n",
       "[331 rows x 2 columns]"
      ]
     },
     "execution_count": 1,
     "metadata": {},
     "output_type": "execute_result"
    }
   ],
   "source": [
    "import pandas as pd\n",
    "\n",
    "df = (\n",
    "    pd.read_html(\"https://docs.python.org/3/py-modindex.html\")[0]\n",
    "    .drop(0, axis=1)\n",
    "    .rename({1: \"module\", 2: \"description\"}, axis=1)\n",
    "    .dropna()\n",
    ")\n",
    "df"
   ]
  },
  {
   "cell_type": "markdown",
   "id": "88c8fbaf",
   "metadata": {},
   "source": [
    "## .strアクセサ\n",
    "\n",
    "Series には「.strアクセサ」と呼ばれる各要素の文字列を操作する機能があります。strアクセサからPython組み込みのstr型と同等のメソッドが利用できます。\n",
    "\n",
    "> - [Working with text data](https://pandas.pydata.org/pandas-docs/stable/user_guide/text.html#method-summary)\n",
    "> - [String handling](https://pandas.pydata.org/pandas-docs/stable/reference/series.html#string-handling)"
   ]
  },
  {
   "cell_type": "code",
   "execution_count": 2,
   "id": "4387b31a",
   "metadata": {},
   "outputs": [
    {
     "data": {
      "text/plain": [
       "<pandas.core.strings.accessor.StringMethods at 0x7f1f8e966310>"
      ]
     },
     "execution_count": 2,
     "metadata": {},
     "output_type": "execute_result"
    }
   ],
   "source": [
    "df.loc[:, \"description\"].str"
   ]
  },
  {
   "cell_type": "markdown",
   "id": "315646a2",
   "metadata": {},
   "source": [
    "「description」列において `Deprecated:` から始まる文字を抽出する処理を検討します。.strアクセサから、Pythonのstr型の [startswith](https://docs.python.org/ja/3/library/stdtypes.html#str.startswith) メソッドと同等なメソッドを呼び出せます。"
   ]
  },
  {
   "cell_type": "code",
   "execution_count": 3,
   "id": "ec73a073",
   "metadata": {},
   "outputs": [
    {
     "data": {
      "text/plain": [
       "2      False\n",
       "3      False\n",
       "4      False\n",
       "7      False\n",
       "8       True\n",
       "       ...  \n",
       "387    False\n",
       "388    False\n",
       "389    False\n",
       "390    False\n",
       "391    False\n",
       "Name: description, Length: 331, dtype: bool"
      ]
     },
     "execution_count": 3,
     "metadata": {},
     "output_type": "execute_result"
    }
   ],
   "source": [
    "df.loc[:, \"description\"].str.startswith(\"Deprecated:\")"
   ]
  },
  {
   "cell_type": "markdown",
   "id": "42b57058",
   "metadata": {},
   "source": [
    "[.str.startswith](https://pandas.pydata.org/pandas-docs/stable/reference/api/pandas.Series.str.startswith.html) メソッドは真理値を返すため、.locインデクサに渡すことで `True` に該当するデータを抽出できます。"
   ]
  },
  {
   "cell_type": "code",
   "execution_count": 4,
   "id": "1f454f06",
   "metadata": {},
   "outputs": [
    {
     "data": {
      "text/html": [
       "<div>\n",
       "<style scoped>\n",
       "    .dataframe tbody tr th:only-of-type {\n",
       "        vertical-align: middle;\n",
       "    }\n",
       "\n",
       "    .dataframe tbody tr th {\n",
       "        vertical-align: top;\n",
       "    }\n",
       "\n",
       "    .dataframe thead th {\n",
       "        text-align: right;\n",
       "    }\n",
       "</style>\n",
       "<table border=\"1\" class=\"dataframe\">\n",
       "  <thead>\n",
       "    <tr style=\"text-align: right;\">\n",
       "      <th></th>\n",
       "      <th>module</th>\n",
       "      <th>description</th>\n",
       "    </tr>\n",
       "  </thead>\n",
       "  <tbody>\n",
       "    <tr>\n",
       "      <th>8</th>\n",
       "      <td>aifc</td>\n",
       "      <td>Deprecated:  Read and write audio files in AIF...</td>\n",
       "    </tr>\n",
       "    <tr>\n",
       "      <th>12</th>\n",
       "      <td>asynchat</td>\n",
       "      <td>Deprecated:  Support for asynchronous command/...</td>\n",
       "    </tr>\n",
       "    <tr>\n",
       "      <th>14</th>\n",
       "      <td>asyncore</td>\n",
       "      <td>Deprecated:  A base class for developing async...</td>\n",
       "    </tr>\n",
       "    <tr>\n",
       "      <th>16</th>\n",
       "      <td>audioop</td>\n",
       "      <td>Deprecated:  Manipulate raw audio data.</td>\n",
       "    </tr>\n",
       "    <tr>\n",
       "      <th>28</th>\n",
       "      <td>cgi</td>\n",
       "      <td>Deprecated:  Helpers for running Python script...</td>\n",
       "    </tr>\n",
       "    <tr>\n",
       "      <th>29</th>\n",
       "      <td>cgitb</td>\n",
       "      <td>Deprecated:  Configurable traceback handler fo...</td>\n",
       "    </tr>\n",
       "    <tr>\n",
       "      <th>30</th>\n",
       "      <td>chunk</td>\n",
       "      <td>Deprecated:  Module to read IFF chunks.</td>\n",
       "    </tr>\n",
       "    <tr>\n",
       "      <th>48</th>\n",
       "      <td>crypt (Unix)</td>\n",
       "      <td>Deprecated:  The crypt() function used to chec...</td>\n",
       "    </tr>\n",
       "    <tr>\n",
       "      <th>171</th>\n",
       "      <td>imghdr</td>\n",
       "      <td>Deprecated:  Determine the type of image conta...</td>\n",
       "    </tr>\n",
       "    <tr>\n",
       "      <th>172</th>\n",
       "      <td>imp</td>\n",
       "      <td>Deprecated:  Access the implementation of the ...</td>\n",
       "    </tr>\n",
       "    <tr>\n",
       "      <th>203</th>\n",
       "      <td>mailcap</td>\n",
       "      <td>Deprecated:  Mailcap file handling.</td>\n",
       "    </tr>\n",
       "    <tr>\n",
       "      <th>209</th>\n",
       "      <td>msilib (Windows)</td>\n",
       "      <td>Deprecated:  Creation of Microsoft Installer f...</td>\n",
       "    </tr>\n",
       "    <tr>\n",
       "      <th>221</th>\n",
       "      <td>nis (Unix)</td>\n",
       "      <td>Deprecated:  Interface to Sun's NIS (Yellow Pa...</td>\n",
       "    </tr>\n",
       "    <tr>\n",
       "      <th>222</th>\n",
       "      <td>nntplib</td>\n",
       "      <td>Deprecated:  NNTP protocol client (requires so...</td>\n",
       "    </tr>\n",
       "    <tr>\n",
       "      <th>227</th>\n",
       "      <td>optparse</td>\n",
       "      <td>Deprecated:  Command-line option parsing library.</td>\n",
       "    </tr>\n",
       "    <tr>\n",
       "      <th>230</th>\n",
       "      <td>ossaudiodev (Linux, FreeBSD)</td>\n",
       "      <td>Deprecated:  Access to OSS-compatible audio de...</td>\n",
       "    </tr>\n",
       "    <tr>\n",
       "      <th>237</th>\n",
       "      <td>pipes (Unix)</td>\n",
       "      <td>Deprecated:  A Python interface to Unix shell ...</td>\n",
       "    </tr>\n",
       "    <tr>\n",
       "      <th>275</th>\n",
       "      <td>smtpd</td>\n",
       "      <td>Deprecated:  A SMTP server implementation in P...</td>\n",
       "    </tr>\n",
       "    <tr>\n",
       "      <th>277</th>\n",
       "      <td>sndhdr</td>\n",
       "      <td>Deprecated:  Determine type of a sound file.</td>\n",
       "    </tr>\n",
       "    <tr>\n",
       "      <th>280</th>\n",
       "      <td>spwd (Unix)</td>\n",
       "      <td>Deprecated:  The shadow password database (get...</td>\n",
       "    </tr>\n",
       "    <tr>\n",
       "      <th>289</th>\n",
       "      <td>sunau</td>\n",
       "      <td>Deprecated:  Provide an interface to the Sun A...</td>\n",
       "    </tr>\n",
       "    <tr>\n",
       "      <th>298</th>\n",
       "      <td>telnetlib</td>\n",
       "      <td>Deprecated:  Telnet client class.</td>\n",
       "    </tr>\n",
       "    <tr>\n",
       "      <th>347</th>\n",
       "      <td>uu</td>\n",
       "      <td>Deprecated:  Encode and decode files in uuenco...</td>\n",
       "    </tr>\n",
       "    <tr>\n",
       "      <th>369</th>\n",
       "      <td>xdrlib</td>\n",
       "      <td>Deprecated:  Encoders and decoders for the Ext...</td>\n",
       "    </tr>\n",
       "  </tbody>\n",
       "</table>\n",
       "</div>"
      ],
      "text/plain": [
       "                           module  \\\n",
       "8                            aifc   \n",
       "12                       asynchat   \n",
       "14                       asyncore   \n",
       "16                        audioop   \n",
       "28                            cgi   \n",
       "29                          cgitb   \n",
       "30                          chunk   \n",
       "48                   crypt (Unix)   \n",
       "171                        imghdr   \n",
       "172                           imp   \n",
       "203                       mailcap   \n",
       "209              msilib (Windows)   \n",
       "221                    nis (Unix)   \n",
       "222                       nntplib   \n",
       "227                      optparse   \n",
       "230  ossaudiodev (Linux, FreeBSD)   \n",
       "237                  pipes (Unix)   \n",
       "275                         smtpd   \n",
       "277                        sndhdr   \n",
       "280                   spwd (Unix)   \n",
       "289                         sunau   \n",
       "298                     telnetlib   \n",
       "347                            uu   \n",
       "369                        xdrlib   \n",
       "\n",
       "                                           description  \n",
       "8    Deprecated:  Read and write audio files in AIF...  \n",
       "12   Deprecated:  Support for asynchronous command/...  \n",
       "14   Deprecated:  A base class for developing async...  \n",
       "16             Deprecated:  Manipulate raw audio data.  \n",
       "28   Deprecated:  Helpers for running Python script...  \n",
       "29   Deprecated:  Configurable traceback handler fo...  \n",
       "30             Deprecated:  Module to read IFF chunks.  \n",
       "48   Deprecated:  The crypt() function used to chec...  \n",
       "171  Deprecated:  Determine the type of image conta...  \n",
       "172  Deprecated:  Access the implementation of the ...  \n",
       "203                Deprecated:  Mailcap file handling.  \n",
       "209  Deprecated:  Creation of Microsoft Installer f...  \n",
       "221  Deprecated:  Interface to Sun's NIS (Yellow Pa...  \n",
       "222  Deprecated:  NNTP protocol client (requires so...  \n",
       "227  Deprecated:  Command-line option parsing library.  \n",
       "230  Deprecated:  Access to OSS-compatible audio de...  \n",
       "237  Deprecated:  A Python interface to Unix shell ...  \n",
       "275  Deprecated:  A SMTP server implementation in P...  \n",
       "277       Deprecated:  Determine type of a sound file.  \n",
       "280  Deprecated:  The shadow password database (get...  \n",
       "289  Deprecated:  Provide an interface to the Sun A...  \n",
       "298                  Deprecated:  Telnet client class.  \n",
       "347  Deprecated:  Encode and decode files in uuenco...  \n",
       "369  Deprecated:  Encoders and decoders for the Ext...  "
      ]
     },
     "execution_count": 4,
     "metadata": {},
     "output_type": "execute_result"
    }
   ],
   "source": [
    "df.loc[df.loc[:, \"description\"].str.startswith(\"Deprecated:\"), :]"
   ]
  },
  {
   "cell_type": "markdown",
   "id": "a57a9a59",
   "metadata": {},
   "source": [
    "次に「description」列において `Deprecated: ` の文字列を削除する処理を検討します。 [.str.replace](https://pandas.pydata.org/pandas-docs/stable/reference/api/pandas.Series.str.replace.html) メソッドの第1引数に置換前の文字列、第2引数に置換後の文字列を渡します。ここでは引数 `regex` に `False` を渡して正規表現のパターンマッチングをオフにしています。"
   ]
  },
  {
   "cell_type": "code",
   "execution_count": 5,
   "id": "fd096a03",
   "metadata": {},
   "outputs": [
    {
     "data": {
      "text/plain": [
       "2                           Future statement definitions\n",
       "3      The environment where top-level code is run. C...\n",
       "4                               Low-level threading API.\n",
       "7        Abstract base classes according to :pep:`3119`.\n",
       "8       Read and write audio files in AIFF or AIFC fo...\n",
       "                             ...                        \n",
       "387                Manage executable Python zip archives\n",
       "388             Read and write ZIP-format archive files.\n",
       "389    Support for importing Python modules from ZIP ...\n",
       "390    Low-level interface to compression and decompr...\n",
       "391                               IANA time zone support\n",
       "Name: description, Length: 331, dtype: object"
      ]
     },
     "execution_count": 5,
     "metadata": {},
     "output_type": "execute_result"
    }
   ],
   "source": [
    "df.loc[:, \"description\"].str.replace(\"Deprecated: \", \"\", regex=False)"
   ]
  }
 ],
 "metadata": {
  "kernelspec": {
   "display_name": "Python 3.9.2 64-bit",
   "language": "python",
   "name": "python3"
  },
  "language_info": {
   "name": "python",
   "version": "3.9.2"
  },
  "vscode": {
   "interpreter": {
    "hash": "31f2aee4e71d21fbe5cf8b01ff0e069b9275f58929596ceb00d14d90e3e16cd6"
   }
  }
 },
 "nbformat": 4,
 "nbformat_minor": 5
}
